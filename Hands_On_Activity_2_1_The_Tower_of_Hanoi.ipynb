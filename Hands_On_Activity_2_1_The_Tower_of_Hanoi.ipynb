{
  "nbformat": 4,
  "nbformat_minor": 0,
  "metadata": {
    "colab": {
      "provenance": [],
      "authorship_tag": "ABX9TyNa3iYbt2mVZ6jiHgIRRjHh",
      "include_colab_link": true
    },
    "kernelspec": {
      "name": "python3",
      "display_name": "Python 3"
    },
    "language_info": {
      "name": "python"
    }
  },
  "cells": [
    {
      "cell_type": "markdown",
      "metadata": {
        "id": "view-in-github",
        "colab_type": "text"
      },
      "source": [
        "<a href=\"https://colab.research.google.com/github/mcklrrn-corpuz/CPE-311/blob/main/Hands_On_Activity_2_1_The_Tower_of_Hanoi.ipynb\" target=\"_parent\"><img src=\"https://colab.research.google.com/assets/colab-badge.svg\" alt=\"Open In Colab\"/></a>"
      ]
    },
    {
      "cell_type": "markdown",
      "source": [
        "# **Recursive**"
      ],
      "metadata": {
        "id": "ana7tRHAw-IC"
      }
    },
    {
      "cell_type": "code",
      "execution_count": null,
      "metadata": {
        "id": "MOITG4WplkuG",
        "colab": {
          "base_uri": "https://localhost:8080/"
        },
        "outputId": "c6ef22d6-be1e-4035-fa45-9032546eab3c"
      },
      "outputs": [
        {
          "output_type": "stream",
          "name": "stdout",
          "text": [
            "Enter the number of disks you wish to solve: 3\n",
            "Disk: A --> C\n",
            "Disk: A --> B\n",
            "Disk: C --> B\n",
            "Disk: A --> C\n",
            "Disk: B --> A\n",
            "Disk: B --> C\n",
            "Disk: A --> C\n"
          ]
        }
      ],
      "source": [
        "# Skip, Step, Step\n",
        "def make_move(d, src, aux, dest):\n",
        "    '''\n",
        "    src is peg 'A', aux is peg 'B', dest is peg 'C'\n",
        "    d represents the number of disks to be moved\n",
        "    '''\n",
        "    # Base case: If only one disk is left, move it directly to the destination\n",
        "    if d == 1:\n",
        "        print(f\"Disk: {src} --> {dest}\")\n",
        "    else:\n",
        "        # Move the top (d-1) disks from source to auxiliary using destination as helper\n",
        "        make_move(d-1, src, dest, aux)\n",
        "\n",
        "        # Move the largest disk from source to destination\n",
        "        print(f\"Disk: {src} --> {dest}\")\n",
        "\n",
        "        # Move the (d-1) disks from auxiliary to destination using source as helper\n",
        "        make_move(d-1, aux, src, dest)\n",
        "\n",
        "\n",
        "disk = int(input(\"Enter the number of disks you wish to solve: \"))\n",
        "make_move(disk, \"A\", \"B\", \"C\")"
      ]
    },
    {
      "cell_type": "markdown",
      "source": [
        "# **Looping**"
      ],
      "metadata": {
        "id": "eOObFn1lxMSJ"
      }
    },
    {
      "cell_type": "code",
      "source": [
        "def tower_of_hanoi(n):\n",
        "    pegs = {\"A\": list(range(n, 0, -1)), \"B\": [], \"C\": []}\n",
        "\n",
        "    '''\n",
        "    (2^n) - 1 is the conceptual minimum moves\n",
        "    to accomplish the tower of hanoi puzzle\n",
        "    '''\n",
        "    min_moves = (2 ** n) - 1\n",
        "\n",
        "    source, auxiliary, destination = \"A\", \"B\", \"C\"\n",
        "\n",
        "    # Pegs are swapped for even number of disks\n",
        "    if n % 2 == 0:\n",
        "        auxiliary, destination = destination, auxiliary\n",
        "\n",
        "    for move in range(1, 2**n):\n",
        "        if move % 3 == 1:       # Move between source and destination\n",
        "            from_rod, to_rod = source, destination\n",
        "        elif move % 3 == 2:     # Move between source and auxiliary\n",
        "            from_rod, to_rod = source, auxiliary\n",
        "        else:                   # Move between auxiliary and destination\n",
        "            from_rod, to_rod = auxiliary, destination\n",
        "\n",
        "\n",
        "        if not pegs[from_rod]:\n",
        "            from_rod, to_rod = to_rod, from_rod  # Swap if source rod is empty\n",
        "        elif pegs[to_rod] and pegs[from_rod][-1] > pegs[to_rod][-1]:\n",
        "            from_rod, to_rod = to_rod, from_rod  # Ensure movement order\n",
        "\n",
        "        disk = pegs[from_rod].pop()\n",
        "        pegs[to_rod].append(disk)\n",
        "        print(f\"Disk: {from_rod} --> {to_rod}\")\n",
        "\n",
        "\n",
        "disk = int(input(\"Enter the number of disks you wish to solve: \"))\n",
        "tower_of_hanoi(disk)"
      ],
      "metadata": {
        "colab": {
          "base_uri": "https://localhost:8080/"
        },
        "id": "S3M-crmK0ZfG",
        "outputId": "22fede9c-27d4-4a88-bd4e-779fe4192e3f"
      },
      "execution_count": 4,
      "outputs": [
        {
          "output_type": "stream",
          "name": "stdout",
          "text": [
            "Enter the number of disks you wish to solve: 3\n",
            "Disk: A --> C\n",
            "Disk: A --> B\n",
            "Disk: C --> B\n",
            "Disk: A --> C\n",
            "Disk: B --> A\n",
            "Disk: B --> C\n",
            "Disk: A --> C\n"
          ]
        }
      ]
    },
    {
      "cell_type": "markdown",
      "source": [
        "# **Supplementary**"
      ],
      "metadata": {
        "id": "6NSXw47I7MPZ"
      }
    },
    {
      "cell_type": "markdown",
      "source": [
        "The Tower of Hanoi can be solved using either an iterative or a recursive approach. The iterative method follows a set pattern using a loop, where moves are determined based on a modulus operation (based on remainder as disks). This makes it more tricky to follow because the sequence of moves relies on stack structure. Meanwhile, the recursive approach adapts divide and conquer in which it breaks the problem into smaller steps, making it easier to understand and write."
      ],
      "metadata": {
        "id": "1dJ8-qEk7RBs"
      }
    }
  ]
}