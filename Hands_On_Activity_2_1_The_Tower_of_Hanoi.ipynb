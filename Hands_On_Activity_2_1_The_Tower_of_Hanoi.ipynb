{
  "nbformat": 4,
  "nbformat_minor": 0,
  "metadata": {
    "colab": {
      "provenance": [],
      "authorship_tag": "ABX9TyNjHDPk1EDc2xYAX5jaqPjS",
      "include_colab_link": true
    },
    "kernelspec": {
      "name": "python3",
      "display_name": "Python 3"
    },
    "language_info": {
      "name": "python"
    }
  },
  "cells": [
    {
      "cell_type": "markdown",
      "metadata": {
        "id": "view-in-github",
        "colab_type": "text"
      },
      "source": [
        "<a href=\"https://colab.research.google.com/github/mcklrrn-corpuz/CPE-311/blob/main/Hands_On_Activity_2_1_The_Tower_of_Hanoi.ipynb\" target=\"_parent\"><img src=\"https://colab.research.google.com/assets/colab-badge.svg\" alt=\"Open In Colab\"/></a>"
      ]
    },
    {
      "cell_type": "markdown",
      "source": [
        "# **Recursive**"
      ],
      "metadata": {
        "id": "ana7tRHAw-IC"
      }
    },
    {
      "cell_type": "code",
      "execution_count": null,
      "metadata": {
        "id": "MOITG4WplkuG",
        "colab": {
          "base_uri": "https://localhost:8080/"
        },
        "outputId": "c6ef22d6-be1e-4035-fa45-9032546eab3c"
      },
      "outputs": [
        {
          "output_type": "stream",
          "name": "stdout",
          "text": [
            "Enter the number of disks you wish to solve: 3\n",
            "Disk: A --> C\n",
            "Disk: A --> B\n",
            "Disk: C --> B\n",
            "Disk: A --> C\n",
            "Disk: B --> A\n",
            "Disk: B --> C\n",
            "Disk: A --> C\n"
          ]
        }
      ],
      "source": [
        "# Skip, Step, Step\n",
        "def make_move(d, src, aux, dest):\n",
        "    '''\n",
        "    src is peg 'A', aux is peg 'B', dest is peg 'C'\n",
        "    d represents the number of disks to be moved\n",
        "    '''\n",
        "    # Base case: If only one disk is left, move it directly to the destination\n",
        "    if d == 1:\n",
        "        print(f\"Disk: {src} --> {dest}\")\n",
        "    else:\n",
        "        # Move the top (d-1) disks from source to auxiliary using destination as helper\n",
        "        make_move(d-1, src, dest, aux)\n",
        "\n",
        "        # Move the largest disk from source to destination\n",
        "        print(f\"Disk: {src} --> {dest}\")\n",
        "\n",
        "        # Move the (d-1) disks from auxiliary to destination using source as helper\n",
        "        make_move(d-1, aux, src, dest)\n",
        "\n",
        "disk = int(input(\"Enter the number of disks you wish to solve: \"))\n",
        "make_move(disk, \"A\", \"B\", \"C\")"
      ]
    },
    {
      "cell_type": "markdown",
      "source": [
        "# **Looping**"
      ],
      "metadata": {
        "id": "eOObFn1lxMSJ"
      }
    },
    {
      "cell_type": "code",
      "source": [
        "# Skip, Step, Step\n",
        "def make_move(n):\n",
        "    pegs = {\"A\": list(range(n, 0, -1)),\n",
        "            \"B\": [],\n",
        "            \"C\": []}                                         # Dictionary to store the three pegs and their disks\n",
        "\n",
        "    min_moves = (2 ** n) - 1                                 # Conceptual minimum moves required\n",
        "\n",
        "    source, auxiliary, destination = \"A\", \"B\", \"C\"           # Assign peg labels\n",
        "\n",
        "    if n % 2 == 0:\n",
        "        auxiliary, destination = destination, auxiliary      # Swap auxiliary and destination pegs if n is even\n",
        "\n",
        "    for move in range(1, 2**n):\n",
        "        if move % 3 == 1:                                    # Move between source and destination\n",
        "            from_peg, to_peg = source, destination\n",
        "        elif move % 3 == 2:                                  # Move between source and auxiliary\n",
        "            from_peg, to_peg = source, auxiliary\n",
        "        else:                                                # Move between auxiliary and destination\n",
        "            from_peg, to_peg = auxiliary, destination\n",
        "\n",
        "        if not pegs[from_peg]:                               # Swap pegs so that disks can still be moved\n",
        "            from_peg, to_peg = to_peg, from_peg\n",
        "\n",
        "        elif pegs[to_peg] and pegs[from_peg][-1] > pegs[to_peg][-1]:\n",
        "                                                             # If to_peg isn't empty and from_peg has a larger disk, swap them.\n",
        "            from_peg, to_rod = to_peg, from_peg\n",
        "\n",
        "        disk = pegs[from_peg].pop()                         # The top disk is removed from from_peg.\n",
        "        pegs[to_peg].append(disk)                           # Thatt removed diisk is added to to_peg\n",
        "        print(f\"Disk: {from_peg} --> {to_peg}\")\n",
        "\n",
        "disk = int(input(\"Enter the number of disks you wish to solve: \"))\n",
        "make_move(disk)"
      ],
      "metadata": {
        "colab": {
          "base_uri": "https://localhost:8080/"
        },
        "id": "S3M-crmK0ZfG",
        "outputId": "2c0565ff-e7c0-4c4c-e5ce-04ab0fed1f81"
      },
      "execution_count": null,
      "outputs": [
        {
          "output_type": "stream",
          "name": "stdout",
          "text": [
            "Enter the number of disks you wish to solve: 3\n",
            "Disk: A --> C\n",
            "Disk: A --> B\n",
            "Disk: C --> C\n",
            "Disk: C --> C\n",
            "Disk: B --> B\n",
            "Disk: C --> C\n",
            "Disk: C --> C\n"
          ]
        }
      ]
    },
    {
      "cell_type": "markdown",
      "source": [
        "# **Supplementary**"
      ],
      "metadata": {
        "id": "6NSXw47I7MPZ"
      }
    },
    {
      "cell_type": "markdown",
      "source": [
        "The Tower of Hanoi puzzle can be solved using two main approaches: recursion and iteration (looping). Both methods follow the same rules but use different techniques to get the job done. The recursive approach follows a \"divide and conquer\" strategy, breaking the problem into smaller steps. In contrast, the iterative approach follows a set pattern of moves using loops and simple math operations like modulus. In looping, the moves follow a predictable order based on whether the total number of disks is even or odd. On the other hand, recursive method solves in three steps: move the smaller disks to an extra peg, move the largest disk to the final peg, then move the smaller disks to the final peg. This repeats until only one disk is left, which is moved directly."
      ],
      "metadata": {
        "id": "1dJ8-qEk7RBs"
      }
    }
  ]
}