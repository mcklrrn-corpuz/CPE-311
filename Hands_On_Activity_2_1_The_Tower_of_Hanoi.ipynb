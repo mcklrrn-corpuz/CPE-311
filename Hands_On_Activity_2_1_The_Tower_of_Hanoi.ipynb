{
  "nbformat": 4,
  "nbformat_minor": 0,
  "metadata": {
    "colab": {
      "provenance": [],
      "authorship_tag": "ABX9TyPE0/bmxYl/R7gHNqACoPo0",
      "include_colab_link": true
    },
    "kernelspec": {
      "name": "python3",
      "display_name": "Python 3"
    },
    "language_info": {
      "name": "python"
    }
  },
  "cells": [
    {
      "cell_type": "markdown",
      "metadata": {
        "id": "view-in-github",
        "colab_type": "text"
      },
      "source": [
        "<a href=\"https://colab.research.google.com/github/mcklrrn-corpuz/CPE-311/blob/main/Hands_On_Activity_2_1_The_Tower_of_Hanoi.ipynb\" target=\"_parent\"><img src=\"https://colab.research.google.com/assets/colab-badge.svg\" alt=\"Open In Colab\"/></a>"
      ]
    },
    {
      "cell_type": "markdown",
      "source": [
        "# **Tower of Hanoi**"
      ],
      "metadata": {
        "id": "ana7tRHAw-IC"
      }
    },
    {
      "cell_type": "code",
      "execution_count": 10,
      "metadata": {
        "id": "MOITG4WplkuG",
        "colab": {
          "base_uri": "https://localhost:8080/"
        },
        "outputId": "acea1516-0809-4a7e-baad-b6bc7cf76c44"
      },
      "outputs": [
        {
          "output_type": "stream",
          "name": "stdout",
          "text": [
            "Enter the number of disks you wish to solve: 3\n",
            "Disk: A --> C\n",
            "Disk: A --> B\n",
            "Disk: C --> B\n",
            "Disk: A --> C\n",
            "Disk: B --> A\n",
            "Disk: B --> C\n",
            "Disk: A --> C\n"
          ]
        }
      ],
      "source": [
        "# Skip, Step, Step\n",
        "def make_move(d, src, aux, dest):\n",
        "  '''\n",
        "  src is rod 'A', aux is rod 'B', dest is rod 'C'\n",
        "  '''\n",
        "  if d == 1:\n",
        "    print(f\"Disk: {src} --> {dest}\")\n",
        "    return\n",
        "  make_move(d-1, src, dest, aux)\n",
        "  print(f\"Disk: {src} --> {dest}\")\n",
        "  make_move(d-1, aux, src, dest)\n",
        "\n",
        "\n",
        "disk = int(input(\"Enter the number of disks you wish to solve: \"))\n",
        "\n",
        "make_move(disk, \"A\", \"B\", \"C\")"
      ]
    },
    {
      "cell_type": "markdown",
      "source": [
        "# **Looping**"
      ],
      "metadata": {
        "id": "eOObFn1lxMSJ"
      }
    },
    {
      "cell_type": "code",
      "source": [
        "def tower_of_hanoi_iterative(n):\n",
        "    # Total number of moves required\n",
        "    total_moves = (2 ** n) - 1\n",
        "\n",
        "    # Rod names for clarity\n",
        "    rods = ['A', 'B', 'C']\n",
        "\n",
        "    # If number of disks is even, swap the target and auxiliary rods\n",
        "    if n % 2 == 0:\n",
        "        rods[1], rods[2] = rods[2], rods[1]\n",
        "\n",
        "    # Loop for each move\n",
        "    for move in range(1, total_moves + 1):\n",
        "        # Determine the source, auxiliary, and target rod based on move number\n",
        "        from_rod = (move & move - 1) % 3\n",
        "        to_rod = ((move | move - 1) + 1) % 3\n",
        "\n",
        "        # Print the move (from_rod to to_rod)\n",
        "        print(f\"Move disk from {rods[from_rod]} to {rods[to_rod]}\")\n",
        "\n",
        "# Example: Solve Tower of Hanoi with 3 disks\n",
        "tower_of_hanoi_iterative(3)"
      ],
      "metadata": {
        "id": "kA1cHW92xSDi",
        "colab": {
          "base_uri": "https://localhost:8080/"
        },
        "outputId": "bec7a704-76be-4c8e-9377-7dc36aee3a67"
      },
      "execution_count": 12,
      "outputs": [
        {
          "output_type": "stream",
          "name": "stdout",
          "text": [
            "Move disk from A to C\n",
            "Move disk from A to B\n",
            "Move disk from C to B\n",
            "Move disk from A to C\n",
            "Move disk from B to A\n",
            "Move disk from B to C\n",
            "Move disk from A to C\n"
          ]
        }
      ]
    }
  ]
}