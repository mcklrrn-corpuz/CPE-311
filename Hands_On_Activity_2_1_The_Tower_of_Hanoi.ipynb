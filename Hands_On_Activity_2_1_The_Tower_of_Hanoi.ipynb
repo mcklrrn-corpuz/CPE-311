{
  "nbformat": 4,
  "nbformat_minor": 0,
  "metadata": {
    "colab": {
      "provenance": [],
      "authorship_tag": "ABX9TyOJTSrcE5r9iKwJVkiTopiJ",
      "include_colab_link": true
    },
    "kernelspec": {
      "name": "python3",
      "display_name": "Python 3"
    },
    "language_info": {
      "name": "python"
    }
  },
  "cells": [
    {
      "cell_type": "markdown",
      "metadata": {
        "id": "view-in-github",
        "colab_type": "text"
      },
      "source": [
        "<a href=\"https://colab.research.google.com/github/mcklrrn-corpuz/CPE-311/blob/main/Hands_On_Activity_2_1_The_Tower_of_Hanoi.ipynb\" target=\"_parent\"><img src=\"https://colab.research.google.com/assets/colab-badge.svg\" alt=\"Open In Colab\"/></a>"
      ]
    },
    {
      "cell_type": "markdown",
      "source": [
        "# **Recursive**"
      ],
      "metadata": {
        "id": "ana7tRHAw-IC"
      }
    },
    {
      "cell_type": "code",
      "execution_count": 3,
      "metadata": {
        "id": "MOITG4WplkuG",
        "colab": {
          "base_uri": "https://localhost:8080/"
        },
        "outputId": "c6ef22d6-be1e-4035-fa45-9032546eab3c"
      },
      "outputs": [
        {
          "output_type": "stream",
          "name": "stdout",
          "text": [
            "Enter the number of disks you wish to solve: 3\n",
            "Disk: A --> C\n",
            "Disk: A --> B\n",
            "Disk: C --> B\n",
            "Disk: A --> C\n",
            "Disk: B --> A\n",
            "Disk: B --> C\n",
            "Disk: A --> C\n"
          ]
        }
      ],
      "source": [
        "# Skip, Step, Step\n",
        "def make_move(d, src, aux, dest):\n",
        "    '''\n",
        "    src is peg 'A', aux is peg 'B', dest is peg 'C'\n",
        "    d represents the number of disks to be moved\n",
        "    '''\n",
        "    # Base case: If only one disk is left, move it directly to the destination\n",
        "    if d == 1:\n",
        "        print(f\"Disk: {src} --> {dest}\")\n",
        "    else:\n",
        "        # Move the top (d-1) disks from source to auxiliary using destination as helper\n",
        "        make_move(d-1, src, dest, aux)\n",
        "\n",
        "        # Move the largest disk from source to destination\n",
        "        print(f\"Disk: {src} --> {dest}\")\n",
        "\n",
        "        # Move the (d-1) disks from auxiliary to destination using source as helper\n",
        "        make_move(d-1, aux, src, dest)\n",
        "\n",
        "\n",
        "disk = int(input(\"Enter the number of disks you wish to solve: \"))\n",
        "make_move(disk, \"A\", \"B\", \"C\")"
      ]
    },
    {
      "cell_type": "markdown",
      "source": [
        "# **Looping**"
      ],
      "metadata": {
        "id": "eOObFn1lxMSJ"
      }
    },
    {
      "cell_type": "code",
      "source": [
        "# Skip, Step, Step\n",
        "def tower_of_hanoi(n, source, auxiliary, destination):\n",
        "    stacks = {\n",
        "        source: list(range(n, 0, -1)),    # The first peg has all the disks at the start\n",
        "        auxiliary: [],                    # The helper peg starts empty\n",
        "        destination: []                   # The destination peg also starts empty\n",
        "    }\n",
        "\n",
        "    '''\n",
        "    (2^n) - 1 is the conceptual minimum moves\n",
        "    to accomplish the tower of hanoi puzzle\n",
        "    '''\n",
        "    total_moves = (2 ** n) - 1\n",
        "\n",
        "    if n % 2 == 0:\n",
        "        auxiliary, destination = destination, auxiliary  # Pegs are swapped for even number of disks\n",
        "\n",
        "    def move_disk(from_peg, to_peg):\n",
        "        if stacks[from_peg]:                  # If the peg has disks\n",
        "            disk = stacks[from_peg].pop()     # Take the top disk\n",
        "            stacks[to_peg].append(disk)       # Place it on the new peg\n",
        "            print(f\"Disk: {from_peg} --> {to_peg}\")\n",
        "\n",
        "    for move in range(1, total_moves + 1):\n",
        "        if move % 3 == 1:\n",
        "            move_disk(source, destination) if stacks[source] and (not stacks[destination] or stacks[source][-1] < stacks[destination][-1]) else move_disk(destination, source)\n",
        "        elif move % 3 == 2:\n",
        "            move_disk(source, auxiliary) if stacks[source] and (not stacks[auxiliary] or stacks[source][-1] < stacks[auxiliary][-1]) else move_disk(auxiliary, source)\n",
        "        elif move % 3 == 0:\n",
        "            move_disk(auxiliary, destination) if stacks[auxiliary] and (not stacks[destination] or stacks[auxiliary][-1] < stacks[destination][-1]) else move_disk(destination, auxiliary)\n",
        "\n",
        "disk = int(input(\"Enter the number of disks you wish to solve: \"))\n",
        "tower_of_hanoi(disk, 'A', 'B', 'C')"
      ],
      "metadata": {
        "colab": {
          "base_uri": "https://localhost:8080/"
        },
        "id": "S3M-crmK0ZfG",
        "outputId": "2f4fee33-5283-4de1-f18a-b1c5ca549ca7"
      },
      "execution_count": null,
      "outputs": [
        {
          "output_type": "stream",
          "name": "stdout",
          "text": [
            "Enter the number of disks you wish to solve: 3\n",
            "Disk: A --> C\n",
            "Disk: A --> B\n",
            "Disk: C --> B\n",
            "Disk: A --> C\n",
            "Disk: B --> A\n",
            "Disk: B --> C\n",
            "Disk: A --> C\n"
          ]
        }
      ]
    },
    {
      "cell_type": "markdown",
      "source": [
        "# **Supplementary**"
      ],
      "metadata": {
        "id": "6NSXw47I7MPZ"
      }
    },
    {
      "cell_type": "markdown",
      "source": [
        "The Tower of Hanoi can be solved using either an iterative or a recursive approach. The iterative method follows a set pattern using a loop, where moves are determined based on a modulus operation (based on remainder as disks). This makes it more tricky to follow because the sequence of moves relies on stack structure. Meanwhile, the recursive approach adapts divide and conquer in which it breaks the problem into smaller steps, making it easier to understand and write."
      ],
      "metadata": {
        "id": "1dJ8-qEk7RBs"
      }
    }
  ]
}