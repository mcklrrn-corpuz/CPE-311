{
  "nbformat": 4,
  "nbformat_minor": 0,
  "metadata": {
    "colab": {
      "provenance": [],
      "authorship_tag": "ABX9TyMEmkdgH51zHu6ws/38t271",
      "include_colab_link": true
    },
    "kernelspec": {
      "name": "python3",
      "display_name": "Python 3"
    },
    "language_info": {
      "name": "python"
    }
  },
  "cells": [
    {
      "cell_type": "markdown",
      "metadata": {
        "id": "view-in-github",
        "colab_type": "text"
      },
      "source": [
        "<a href=\"https://colab.research.google.com/github/mcklrrn-corpuz/CPE-311/blob/main/Hands_On_Activity_2_1_The_Tower_of_Hanoi.ipynb\" target=\"_parent\"><img src=\"https://colab.research.google.com/assets/colab-badge.svg\" alt=\"Open In Colab\"/></a>"
      ]
    },
    {
      "cell_type": "markdown",
      "source": [
        "# **Tower of Hanoi**"
      ],
      "metadata": {
        "id": "ana7tRHAw-IC"
      }
    },
    {
      "cell_type": "code",
      "execution_count": 3,
      "metadata": {
        "id": "MOITG4WplkuG",
        "colab": {
          "base_uri": "https://localhost:8080/"
        },
        "outputId": "2339c21e-f412-40ab-d0b6-53428606479a"
      },
      "outputs": [
        {
          "output_type": "stream",
          "name": "stdout",
          "text": [
            "Enter the number of disks you wish to solve: 2\n",
            "Disk: A --> B\n",
            "Disk: A --> C\n",
            "Disk: B --> C\n"
          ]
        }
      ],
      "source": [
        "# Skip, Step, Step\n",
        "def make_move(d, src, aux, dest):\n",
        "  '''\n",
        "  src is rod 'A', aux is rod 'B', dest is rod 'C'\n",
        "  '''\n",
        "  if d == 1:\n",
        "    print(f\"Disk: {src} --> {dest}\")\n",
        "    return\n",
        "  make_move(d-1, src, dest, aux)\n",
        "  print(f\"Disk: {src} --> {dest}\")\n",
        "  make_move(d-1, aux, src, dest)\n",
        "\n",
        "\n",
        "disk = int(input(\"Enter the number of disks you wish to solve: \"))\n",
        "\n",
        "make_move(disk, \"A\", \"B\", \"C\")"
      ]
    },
    {
      "cell_type": "markdown",
      "source": [
        "# **Looping**"
      ],
      "metadata": {
        "id": "eOObFn1lxMSJ"
      }
    },
    {
      "cell_type": "code",
      "source": [
        "def tower_of_hanoi(n, source, target, auxiliary):\n",
        "    # Total number of moves required to solve the puzzle\n",
        "    total_moves = 2 ** n - 1\n",
        "\n",
        "    # Set up the rods: A, B, C\n",
        "    rods = {source: list(range(n, 0, -1)), auxiliary: [], target: []}\n",
        "\n",
        "    # If n is even, swap the auxiliary and target rods to make the algorithm work correctly\n",
        "    if n % 2 == 0:\n",
        "        auxiliary, target = target, auxiliary\n",
        "\n",
        "    # Loop through each move\n",
        "    for move in range(1, total_moves + 1):\n",
        "        # Determine which move to make (from_rod to to_rod)\n",
        "        from_rod, to_rod = get_move(rods, source, auxiliary, target)\n",
        "\n",
        "        # Move the top disk from 'from_rod' to 'to_rod'\n",
        "        disk = rods[from_rod].pop()\n",
        "        rods[to_rod].append(disk)\n",
        "\n",
        "        print(f\"Move disk {disk} from {from_rod} to {to_rod}\")\n",
        "\n",
        "def get_move(rods, source, auxiliary, target):\n",
        "    # Get the top disk from each rod (if any)\n",
        "    a = rods[source][-1] if rods[source] else float('inf')\n",
        "    b = rods[auxiliary][-1] if rods[auxiliary] else float('inf')\n",
        "    c = rods[target][-1] if rods[target] else float('inf')\n",
        "\n",
        "    # Find the legal move based on the current disk sizes on each rod\n",
        "    if a < b and a < c:\n",
        "        return source, auxiliary\n",
        "    elif b < a and b < c:\n",
        "        return auxiliary, target\n",
        "    else:\n",
        "        return target, source\n",
        "\n",
        "# Example usage\n",
        "n = int(input(\"Enter the number of disks: \"))\n",
        "tower_of_hanoi(n, 'A', 'C', 'B')\n"
      ],
      "metadata": {
        "id": "kA1cHW92xSDi",
        "colab": {
          "base_uri": "https://localhost:8080/"
        },
        "outputId": "f48b48cc-dce5-4649-fcc6-2591b790d41a"
      },
      "execution_count": 5,
      "outputs": [
        {
          "output_type": "stream",
          "name": "stdout",
          "text": [
            "Enter the number of disks: 2\n",
            "Move disk 1 from A to C\n",
            "Move disk 1 from C to B\n",
            "Move disk 1 from B to A\n"
          ]
        }
      ]
    }
  ]
}