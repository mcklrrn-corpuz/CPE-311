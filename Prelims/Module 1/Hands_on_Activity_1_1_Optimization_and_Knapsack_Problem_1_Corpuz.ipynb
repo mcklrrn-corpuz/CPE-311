{
  "cells": [
    {
      "cell_type": "markdown",
      "id": "193686ba",
      "metadata": {
        "id": "193686ba"
      },
      "source": [
        "# Hands-on Activity 1.1 | Optimization and Knapsack Problem"
      ]
    },
    {
      "cell_type": "markdown",
      "id": "8d87e989",
      "metadata": {
        "id": "8d87e989"
      },
      "source": [
        "#### Objective(s):\n",
        "\n",
        "This activity aims to demonstrate how to apply  greedy and brute force algorithms to solve optimization problems"
      ]
    },
    {
      "cell_type": "markdown",
      "id": "7717a27a",
      "metadata": {
        "id": "7717a27a"
      },
      "source": [
        "#### Intended Learning Outcomes (ILOs):\n",
        "* Demonstrate how to solve knapsacks problems using greedy algorithm\n",
        "* Demonstrate how to  solve knapsacks problems using brute force algorithm\n"
      ]
    },
    {
      "cell_type": "markdown",
      "id": "6454cfe7",
      "metadata": {
        "id": "6454cfe7"
      },
      "source": [
        "#### Resources:\n",
        "* Jupyter Notebook\n"
      ]
    },
    {
      "cell_type": "markdown",
      "id": "433711ac",
      "metadata": {
        "id": "433711ac"
      },
      "source": [
        "#### Procedures:"
      ]
    },
    {
      "cell_type": "markdown",
      "id": "e54a8995",
      "metadata": {
        "id": "e54a8995"
      },
      "source": [
        "1. Create a Food class that defines the following:\n",
        "* name of the food\n",
        "* value of the food\n",
        "* calories of the food\n",
        "\n",
        "2. Create the following methods inside the Food class:\n",
        "* A method that returns the value of the food\n",
        "* A method that returns the cost of the food\n",
        "* A method that calculates the density of the food (Value / Cost)\n",
        "* A method that returns a string to display the name, value and calories of the food"
      ]
    },
    {
      "cell_type": "code",
      "execution_count": null,
      "id": "cdd8310c",
      "metadata": {
        "id": "cdd8310c"
      },
      "outputs": [],
      "source": [
        "class Food(object):\n",
        "    def __init__(self, n, v, w):\n",
        "        # Make the variables private\n",
        "        self.name = n\n",
        "        self.value = v\n",
        "        self.calories = w\n",
        "    def getValue(self):\n",
        "        return self.value\n",
        "    def getCost(self):\n",
        "        return self.calories\n",
        "    def density(self):\n",
        "        return self.getValue()/self.getCost()\n",
        "    def __str__(self):\n",
        "        return self.name + ': <' + str(self.value)+ ', ' + str(self.calories) + '>'"
      ]
    },
    {
      "cell_type": "markdown",
      "id": "b36eee15",
      "metadata": {
        "id": "b36eee15"
      },
      "source": [
        "3. Create a buildMenu method that builds the name, value and calories of the food\n"
      ]
    },
    {
      "cell_type": "code",
      "execution_count": null,
      "id": "509672a4",
      "metadata": {
        "id": "509672a4"
      },
      "outputs": [],
      "source": [
        "def buildMenu(names, values, calories):\n",
        "    menu = []\n",
        "    for i in range(len(values)):\n",
        "        menu.append(Food(names[i], values[i],calories[i]))\n",
        "    return menu"
      ]
    },
    {
      "cell_type": "markdown",
      "id": "86f3a85b",
      "metadata": {
        "id": "86f3a85b"
      },
      "source": [
        "4. Create a method greedy to return total value and cost of added food based on the desired maximum cost"
      ]
    },
    {
      "cell_type": "code",
      "execution_count": null,
      "id": "b76912f0",
      "metadata": {
        "id": "b76912f0"
      },
      "outputs": [],
      "source": [
        "def greedy(items, maxCost, keyFunction):\n",
        "    \"\"\"Assumes items a list, maxCost >= 0,         keyFunction maps elements of items to numbers\"\"\"\n",
        "    itemsCopy = sorted(items, key = keyFunction,\n",
        "                       reverse = True)\n",
        "    result = []\n",
        "    totalValue, totalCost = 0.0, 0.0\n",
        "    for i in range(len(itemsCopy)):\n",
        "        if (totalCost+itemsCopy[i].getCost()) <= maxCost:\n",
        "            result.append(itemsCopy[i])\n",
        "            totalCost += itemsCopy[i].getCost()\n",
        "            totalValue += itemsCopy[i].getValue()\n",
        "    return (result, totalValue)"
      ]
    },
    {
      "cell_type": "markdown",
      "id": "887c566c",
      "metadata": {
        "id": "887c566c"
      },
      "source": [
        "5. Create a testGreedy method to test the greedy method"
      ]
    },
    {
      "cell_type": "code",
      "execution_count": null,
      "id": "61f2a7b0",
      "metadata": {
        "id": "61f2a7b0"
      },
      "outputs": [],
      "source": [
        "def testGreedy(items, constraint, keyFunction):\n",
        "    taken, val = greedy(items, constraint, keyFunction)\n",
        "    print('Total value of items taken =', val)\n",
        "    for item in taken:\n",
        "        print('   ', item)"
      ]
    },
    {
      "cell_type": "code",
      "execution_count": null,
      "id": "f93e5bfe",
      "metadata": {
        "id": "f93e5bfe"
      },
      "outputs": [],
      "source": [
        "def testGreedys(foods, maxUnits):\n",
        "    print('Use greedy by value to allocate', maxUnits,          'calories')\n",
        "    testGreedy(foods, maxUnits, Food.getValue)\n",
        "    print('\\nUse greedy by cost to allocate', maxUnits,          'calories')\n",
        "    testGreedy(foods, maxUnits, lambda x: 1/Food.getCost(x))\n",
        "    print('\\nUse greedy by density to allocate', maxUnits,          'calories')\n",
        "    testGreedy(foods, maxUnits, Food.density)"
      ]
    },
    {
      "cell_type": "markdown",
      "id": "cdf99f37",
      "metadata": {
        "id": "cdf99f37"
      },
      "source": [
        "6. Create arrays of food name, values and calories\n",
        "7. Call the buildMenu to create menu for food\n",
        "8. Use testGreedys method to pick food according to the desired calories"
      ]
    },
    {
      "cell_type": "code",
      "execution_count": null,
      "id": "ee22c2dd",
      "metadata": {
        "id": "ee22c2dd",
        "outputId": "34440d53-dc84-401c-bf5d-e9269647e7e8",
        "colab": {
          "base_uri": "https://localhost:8080/"
        }
      },
      "outputs": [
        {
          "output_type": "stream",
          "name": "stdout",
          "text": [
            "Use greedy by value to allocate 2000 calories\n",
            "Total value of items taken = 603.0\n",
            "    burger: <100, 354>\n",
            "    pizza: <95, 258>\n",
            "    beer: <90, 154>\n",
            "    fries: <90, 365>\n",
            "    wine: <89, 123>\n",
            "    cola: <79, 150>\n",
            "    apple: <50, 95>\n",
            "    donut: <10, 195>\n",
            "\n",
            "Use greedy by cost to allocate 2000 calories\n",
            "Total value of items taken = 603.0\n",
            "    apple: <50, 95>\n",
            "    wine: <89, 123>\n",
            "    cola: <79, 150>\n",
            "    beer: <90, 154>\n",
            "    donut: <10, 195>\n",
            "    pizza: <95, 258>\n",
            "    burger: <100, 354>\n",
            "    fries: <90, 365>\n",
            "\n",
            "Use greedy by density to allocate 2000 calories\n",
            "Total value of items taken = 603.0\n",
            "    wine: <89, 123>\n",
            "    beer: <90, 154>\n",
            "    cola: <79, 150>\n",
            "    apple: <50, 95>\n",
            "    pizza: <95, 258>\n",
            "    burger: <100, 354>\n",
            "    fries: <90, 365>\n",
            "    donut: <10, 195>\n"
          ]
        }
      ],
      "source": [
        "names = ['wine', 'beer', 'pizza', 'burger', 'fries','cola', 'apple', 'donut', 'cake']\n",
        "values = [89,90,95,100,90,79,50,10]\n",
        "calories = [123,154,258,354,365,150,95,195]\n",
        "foods = buildMenu(names, values, calories)\n",
        "testGreedys(foods, 2000)"
      ]
    },
    {
      "cell_type": "markdown",
      "id": "a6bae808",
      "metadata": {
        "id": "a6bae808"
      },
      "source": [
        "Task 1: Change the maxUnits to 100"
      ]
    },
    {
      "cell_type": "code",
      "execution_count": null,
      "id": "3c9655c5",
      "metadata": {
        "id": "3c9655c5",
        "colab": {
          "base_uri": "https://localhost:8080/"
        },
        "outputId": "b3c1d907-9c77-4633-99cf-58dbc4f70374"
      },
      "outputs": [
        {
          "output_type": "stream",
          "name": "stdout",
          "text": [
            "Use greedy by value to allocate 100 calories\n",
            "Total value of items taken = 50.0\n",
            "    apple: <50, 95>\n",
            "\n",
            "Use greedy by cost to allocate 100 calories\n",
            "Total value of items taken = 50.0\n",
            "    apple: <50, 95>\n",
            "\n",
            "Use greedy by density to allocate 100 calories\n",
            "Total value of items taken = 50.0\n",
            "    apple: <50, 95>\n"
          ]
        }
      ],
      "source": [
        "#type your code here\n",
        "testGreedys(foods, 100)"
      ]
    },
    {
      "cell_type": "markdown",
      "id": "d13f4bdc",
      "metadata": {
        "id": "d13f4bdc"
      },
      "source": [
        "Task 2: Modify codes to add additional weight (criterion) to select food items."
      ]
    },
    {
      "cell_type": "code",
      "execution_count": null,
      "id": "61fd22fa",
      "metadata": {
        "id": "61fd22fa"
      },
      "outputs": [],
      "source": [
        "# type your code here\n",
        "class Food(object):\n",
        "    def __init__(self, n, v, w,g):\n",
        "        #make variables private\n",
        "        self.name = n\n",
        "        self.value = v\n",
        "        self.calories = w\n",
        "        self.weight = g\n",
        "    def getValue(self):\n",
        "        return self.value\n",
        "    def getCost(self):\n",
        "        return self.calories\n",
        "    def getWeight(self): #2. get the weight of a food item\n",
        "        return self.weight\n",
        "    def density(self):\n",
        "        return self.getValue()/self.getCost()\n",
        "    def __str__(self):\n",
        "        return self.name + ': <' + str(self.value)+ ', ' + str(self.calories) + ', ' + str(self.weight) + '>'"
      ]
    },
    {
      "cell_type": "code",
      "source": [
        "def buildMenu(names, values, calories, weight):\n",
        "    menu = []\n",
        "    for i in range(len(values)):\n",
        "        menu.append(Food(names[i], values[i],calories[i],weight[i]))\n",
        "    return menu"
      ],
      "metadata": {
        "id": "8fv8DynrrpHP"
      },
      "id": "8fv8DynrrpHP",
      "execution_count": null,
      "outputs": []
    },
    {
      "cell_type": "code",
      "source": [
        "def greedy(items, maxCost, keyFunction):\n",
        "    \"\"\"Assumes items a list, maxCost >= 0,         keyFunction maps elements of items to numbers\"\"\"\n",
        "    itemsCopy = sorted(items, key = keyFunction,\n",
        "                       reverse = True)\n",
        "    result = []\n",
        "    totalValue, totalCost = 0.0, 0.0\n",
        "    for i in range(len(itemsCopy)):\n",
        "        if (totalCost+itemsCopy[i].getCost()) <= maxCost:\n",
        "            result.append(itemsCopy[i])\n",
        "            totalCost += itemsCopy[i].getCost()\n",
        "            totalValue += itemsCopy[i].getValue()\n",
        "    return (result, totalValue)"
      ],
      "metadata": {
        "id": "HkgPGzKNru0U"
      },
      "id": "HkgPGzKNru0U",
      "execution_count": null,
      "outputs": []
    },
    {
      "cell_type": "code",
      "source": [
        "def testGreedy(items, constraint, keyFunction):\n",
        "    taken, val = greedy(items, constraint, keyFunction)\n",
        "    print('Total value of items taken =', val)\n",
        "    for item in taken:\n",
        "        print('   ', item)"
      ],
      "metadata": {
        "id": "VsKd_PQiuPuY"
      },
      "id": "VsKd_PQiuPuY",
      "execution_count": null,
      "outputs": []
    },
    {
      "cell_type": "code",
      "source": [
        "def testGreedys(foods, maxUnits):\n",
        "    print('Use greedy by value to allocate', maxUnits,          'calories')\n",
        "    testGreedy(foods, maxUnits, Food.getValue)\n",
        "    print('\\nUse greedy by cost to allocate', maxUnits,          'calories')\n",
        "    testGreedy(foods, maxUnits, lambda x: 1/Food.getCost(x))\n",
        "    print('\\nUse greedy by density to allocate', maxUnits,          'calories')\n",
        "    testGreedy(foods, maxUnits, Food.density)\n",
        "    print('\\nUse greedy by weight to allocate',maxUnits,            'calories') #2\n",
        "    testGreedy(foods,maxUnits, Food.getWeight)"
      ],
      "metadata": {
        "id": "6BDji2DQuY30"
      },
      "id": "6BDji2DQuY30",
      "execution_count": null,
      "outputs": []
    },
    {
      "cell_type": "markdown",
      "id": "ba95a8c6",
      "metadata": {
        "id": "ba95a8c6"
      },
      "source": [
        "Task 3: Test your modified code to test the greedy algorithm to select food items with your additional weight."
      ]
    },
    {
      "cell_type": "code",
      "execution_count": null,
      "id": "9d9b25c1",
      "metadata": {
        "id": "9d9b25c1",
        "colab": {
          "base_uri": "https://localhost:8080/"
        },
        "outputId": "d9a40e8f-cd03-4d1c-a1e6-30d975af1a05"
      },
      "outputs": [
        {
          "output_type": "stream",
          "name": "stdout",
          "text": [
            "Use greedy by value to allocate 2000 calories\n",
            "Total value of items taken = 693.0\n",
            "    burger: <100, 354, 250>\n",
            "    cake: <100, 450, 400>\n",
            "    pizza: <95, 258, 500>\n",
            "    beer: <90, 154, 350>\n",
            "    fries: <90, 365, 160>\n",
            "    wine: <89, 123, 750>\n",
            "    cola: <79, 150, 500>\n",
            "    apple: <50, 95, 100>\n",
            "\n",
            "Use greedy by cost to allocate 2000 calories\n",
            "Total value of items taken = 603.0\n",
            "    apple: <50, 95, 100>\n",
            "    wine: <89, 123, 750>\n",
            "    cola: <79, 150, 500>\n",
            "    beer: <90, 154, 350>\n",
            "    donut: <10, 195, 80>\n",
            "    pizza: <95, 258, 500>\n",
            "    burger: <100, 354, 250>\n",
            "    fries: <90, 365, 160>\n",
            "\n",
            "Use greedy by density to allocate 2000 calories\n",
            "Total value of items taken = 693.0\n",
            "    wine: <89, 123, 750>\n",
            "    beer: <90, 154, 350>\n",
            "    cola: <79, 150, 500>\n",
            "    apple: <50, 95, 100>\n",
            "    pizza: <95, 258, 500>\n",
            "    burger: <100, 354, 250>\n",
            "    fries: <90, 365, 160>\n",
            "    cake: <100, 450, 400>\n",
            "\n",
            "Use greedy by weight to allocate 2000 calories\n",
            "Total value of items taken = 693.0\n",
            "    wine: <89, 123, 750>\n",
            "    pizza: <95, 258, 500>\n",
            "    cola: <79, 150, 500>\n",
            "    cake: <100, 450, 400>\n",
            "    beer: <90, 154, 350>\n",
            "    burger: <100, 354, 250>\n",
            "    fries: <90, 365, 160>\n",
            "    apple: <50, 95, 100>\n"
          ]
        }
      ],
      "source": [
        "# type your code here\n",
        "names = ['wine', 'beer', 'pizza', 'burger', 'fries','cola', 'apple', 'donut', 'cake']\n",
        "values = [89,90,95,100,90,79,50,10,100]         # Since cake has no particular value, I put 100\n",
        "calories = [123,154,258,354,365,150,95,195,450] # Since cake has no particular calorie(s), I put 450\n",
        "weight = [750,350,500,250,160,500,100,80,400]\n",
        "foods = buildMenu(names, values, calories, weight)\n",
        "testGreedys(foods, 2000)"
      ]
    },
    {
      "cell_type": "markdown",
      "id": "1baef0aa",
      "metadata": {
        "id": "1baef0aa"
      },
      "source": [
        "9. Create method to use  Bruteforce algorithm instead of greedy algorithm"
      ]
    },
    {
      "cell_type": "code",
      "execution_count": null,
      "id": "3f61953e",
      "metadata": {
        "id": "3f61953e"
      },
      "outputs": [],
      "source": [
        "def maxVal(toConsider, avail):\n",
        "    \"\"\"Assumes toConsider a list of items, avail a weight\n",
        "       Returns a tuple of the total value of a solution to the\n",
        "         0/1 knapsack problem and the items of that solution\"\"\"\n",
        "    if toConsider == [] or avail == 0:\n",
        "        result = (0, ())\n",
        "    elif toConsider[0].getCost() > avail:\n",
        "        #Explore right branch only\n",
        "        result = maxVal(toConsider[1:], avail)\n",
        "    else:\n",
        "        nextItem = toConsider[0]\n",
        "        #Explore left branch\n",
        "        withVal, withToTake = maxVal(toConsider[1:],\n",
        "                                     avail - nextItem.getCost())\n",
        "        withVal += nextItem.getValue()\n",
        "        #Explore right branch\n",
        "        withoutVal, withoutToTake = maxVal(toConsider[1:], avail)\n",
        "        #Choose better branch\n",
        "        if withVal > withoutVal:\n",
        "            result = (withVal, withToTake + (nextItem,))\n",
        "        else:\n",
        "            result = (withoutVal, withoutToTake)\n",
        "    return result"
      ]
    },
    {
      "cell_type": "code",
      "execution_count": null,
      "id": "601e6dfe",
      "metadata": {
        "id": "601e6dfe"
      },
      "outputs": [],
      "source": [
        "def testMaxVal(foods, maxUnits, printItems = True):\n",
        "    print('Use search tree to allocate', maxUnits,\n",
        "          'calories')\n",
        "    val, taken = maxVal(foods, maxUnits)\n",
        "    print('Total costs of foods taken =', val)\n",
        "    if printItems:\n",
        "        for item in taken:\n",
        "            print('   ', item)"
      ]
    },
    {
      "cell_type": "code",
      "execution_count": null,
      "id": "f4c33d92",
      "metadata": {
        "id": "f4c33d92",
        "outputId": "38d26b5f-9f9b-47e7-869c-43ba0f62c1ad",
        "colab": {
          "base_uri": "https://localhost:8080/"
        }
      },
      "outputs": [
        {
          "output_type": "stream",
          "name": "stdout",
          "text": [
            "Use search tree to allocate 2400 calories\n",
            "Total costs of foods taken = 603\n",
            "    donut: <10, 195, 80>\n",
            "    apple: <50, 95, 100>\n",
            "    cola: <79, 150, 500>\n",
            "    fries: <90, 365, 160>\n",
            "    burger: <100, 354, 250>\n",
            "    pizza: <95, 258, 500>\n",
            "    beer: <90, 154, 350>\n",
            "    wine: <89, 123, 750>\n"
          ]
        }
      ],
      "source": [
        "names = ['wine', 'beer', 'pizza', 'burger', 'fries','cola', 'apple', 'donut', 'cake']\n",
        "values = [89,90,95,100,90,79,50,10]\n",
        "calories = [123,154,258,354,365,150,95,195]\n",
        "foods = buildMenu(names, values, calories, weight)\n",
        "testMaxVal(foods, 2400)"
      ]
    },
    {
      "cell_type": "markdown",
      "id": "5e8ee81f",
      "metadata": {
        "id": "5e8ee81f"
      },
      "source": [
        "#### Supplementary Activity:"
      ]
    },
    {
      "cell_type": "markdown",
      "source": [],
      "metadata": {
        "id": "qV3IIl5vCeRH"
      },
      "id": "qV3IIl5vCeRH"
    },
    {
      "cell_type": "markdown",
      "source": [],
      "metadata": {
        "id": "cL_wyleZJAm0"
      },
      "id": "cL_wyleZJAm0"
    },
    {
      "cell_type": "markdown",
      "source": [],
      "metadata": {
        "id": "yzBZ18pTJEPg"
      },
      "id": "yzBZ18pTJEPg"
    },
    {
      "cell_type": "markdown",
      "id": "f7eb02e1",
      "metadata": {
        "id": "f7eb02e1"
      },
      "source": [
        "* Choose a real-world problem that solves knapsacks problem\n",
        "* Use the greedy and brute force algorithm to solve knapsacks problem\n"
      ]
    },
    {
      "cell_type": "markdown",
      "source": [
        "**Toni the Food Vlogger**\n",
        "\n",
        "Toni Mari is a food vlogger from Quezon City who also runs a small catering business. She buys fresh ingredients from the local market every morning and prepares gourmet dishes for a fine dining restaurant. However, she has a limited budget of ₱16,000. She can only carry 30 kg of ingredients at a time so that the items won't fall in front of Ms. Vina and Doc Yappy.\n",
        "\n",
        "Different ingredients have varying prices per kilogram and affect the final selling price of her dishes.\n",
        "\n",
        "Which ingredients should Toni buy to maximize her profit?"
      ],
      "metadata": {
        "id": "J3-Kcq-w0WBx"
      },
      "id": "J3-Kcq-w0WBx"
    },
    {
      "cell_type": "code",
      "source": [
        "# Using knapsack problem to solve a real-world problem\n",
        "class Ingredient(object):\n",
        "    def __init__(self, name, cost, weight, prep_time):\n",
        "        # make variables private\n",
        "        self.name = name\n",
        "        self.cost = cost\n",
        "        self.weight = weight\n",
        "        self.prep_time = prep_time\n",
        "\n",
        "    def getCost(self):  # in Php\n",
        "        return self.cost\n",
        "\n",
        "    def getWeight(self):  # in kg\n",
        "        return self.weight\n",
        "\n",
        "    def getPrepTime(self):  # in hours\n",
        "        return self.prep_time\n",
        "\n",
        "    def costPerWeight(self):\n",
        "        return self.getCost() / self.getWeight()\n",
        "\n",
        "    def __str__(self):\n",
        "        return self.name + ': <' + str(self.cost) + ', ' + str(self.weight) + ', ' + str(self.prep_time) + '>'"
      ],
      "metadata": {
        "id": "4GzlVGXzzICb"
      },
      "id": "4GzlVGXzzICb",
      "execution_count": null,
      "outputs": []
    },
    {
      "cell_type": "code",
      "source": [
        "def buildMenu(names, cost, weight, prep_time):\n",
        "    menu = []\n",
        "    for i in range(len(cost)):\n",
        "        menu.append(Ingredient(names[i], cost[i], weight[i], prep_time[i]))\n",
        "    return menu"
      ],
      "metadata": {
        "id": "-ig8WLQ0z1kL"
      },
      "id": "-ig8WLQ0z1kL",
      "execution_count": null,
      "outputs": []
    },
    {
      "cell_type": "code",
      "source": [
        "def greedy(items, maxWeight, budget, keyFunction):\n",
        "    \"\"\"Assumes items is a list, maxWeight >= 0, budget >= 0,      keyFunction maps elements of items to numbers\"\"\"\n",
        "    itemsCopy = sorted(items, key=keyFunction,\n",
        "                       reverse=True)\n",
        "    result = []\n",
        "    totalCost, totalWeight = 0.0, 0.0\n",
        "    for i in range(len(itemsCopy)):\n",
        "        itemCost = itemsCopy[i].getCost() * itemsCopy[i].getWeight()\n",
        "        if (totalWeight + itemsCopy[i].getWeight()) <= maxWeight and (totalCost + itemCost) <= budget:\n",
        "            result.append(itemsCopy[i])\n",
        "            totalWeight += itemsCopy[i].getWeight()\n",
        "            totalCost += itemCost\n",
        "    return (result, totalCost)"
      ],
      "metadata": {
        "id": "DQ4VKZLEz17O"
      },
      "id": "DQ4VKZLEz17O",
      "execution_count": null,
      "outputs": []
    },
    {
      "cell_type": "code",
      "source": [
        "def testGreedy(items, constraint, budget, keyFunction):\n",
        "    taken, val = greedy(items, constraint, budget, keyFunction)\n",
        "    print('Total cost of items taken =', val)\n",
        "    for item in taken:\n",
        "        print('   ', item)\n",
        "\n",
        "def testGreedys(ingredients, maxUnits, budget):\n",
        "    print('Use greedy by cost to allocate', maxUnits, 'kg weight within budget of', budget)\n",
        "    testGreedy(ingredients, maxUnits, budget, Ingredient.getCost)\n",
        "    print('\\nUse greedy by weight to allocate', maxUnits, 'kg weight within budget of', budget)\n",
        "    testGreedy(ingredients, maxUnits, budget, lambda x: 1/x.getWeight())\n",
        "    print('\\nUse greedy by cost efficiency to allocate', maxUnits, 'kg weight within budget of', budget)\n",
        "    testGreedy(ingredients, maxUnits, budget, lambda x: x.getCost()/x.getPrepTime())\n",
        "    print('\\nUse greedy by cost per kilo to allocate', maxUnits, 'kg weight within budget of', budget)\n",
        "    testGreedy(ingredients, maxUnits, budget, lambda x: x.costPerWeight())"
      ],
      "metadata": {
        "id": "K-Lq_Tdw7NEQ"
      },
      "id": "K-Lq_Tdw7NEQ",
      "execution_count": null,
      "outputs": []
    },
    {
      "cell_type": "code",
      "source": [
        "names = ['pork loin', 'pork belly', 'pork ribs', 'chicken', 'salmon', 'beef tender loin', 'beef brisket']\n",
        "cost = [350, 400, 300, 180, 500, 700, 500]           # in Php/kilo\n",
        "weight = [8, 8, 7, 10, 8, 8, 7]                      # in kilograms\n",
        "prep_time = [3, 3, 5, 2, 1, 5, 4, 5]                 # in hours\n",
        "\n",
        "ingredients = buildMenu(names, cost, weight, prep_time)\n",
        "\n",
        "budget = 16000                                       # ₱16,000 budget\n",
        "testGreedys(ingredients, 30, budget)"
      ],
      "metadata": {
        "colab": {
          "base_uri": "https://localhost:8080/"
        },
        "id": "3_e0CJhX8PQg",
        "outputId": "8106f0a6-6e92-4abe-e4aa-49497815a52d"
      },
      "id": "3_e0CJhX8PQg",
      "execution_count": null,
      "outputs": [
        {
          "output_type": "stream",
          "name": "stdout",
          "text": [
            "Use greedy by cost to allocate 30 kg weight within budget of 16000\n",
            "Total cost of items taken = 15200.0\n",
            "    beef tender loin: <700, 8, 5>\n",
            "    salmon: <500, 8, 1>\n",
            "    beef brisket: <500, 7, 4>\n",
            "    pork ribs: <300, 7, 5>\n",
            "\n",
            "Use greedy by weight to allocate 30 kg weight within budget of 16000\n",
            "Total cost of items taken = 11600.0\n",
            "    pork ribs: <300, 7, 5>\n",
            "    beef brisket: <500, 7, 4>\n",
            "    pork loin: <350, 8, 3>\n",
            "    pork belly: <400, 8, 3>\n",
            "\n",
            "Use greedy by cost efficiency to allocate 30 kg weight within budget of 16000\n",
            "Total cost of items taken = 12800.0\n",
            "    salmon: <500, 8, 1>\n",
            "    beef tender loin: <700, 8, 5>\n",
            "    pork belly: <400, 8, 3>\n",
            "\n",
            "Use greedy by cost per kilo to allocate 30 kg weight within budget of 16000\n",
            "Total cost of items taken = 15200.0\n",
            "    beef tender loin: <700, 8, 5>\n",
            "    beef brisket: <500, 7, 4>\n",
            "    salmon: <500, 8, 1>\n",
            "    pork ribs: <300, 7, 5>\n"
          ]
        }
      ]
    },
    {
      "cell_type": "code",
      "source": [
        "#using brute force to solve the knapsacks problem\n",
        "def maxValBruteForce(toConsider, maxWeight, budget):\n",
        "    if toConsider == [] or maxWeight == 0 or budget == 0:\n",
        "        result = (0, ())\n",
        "    else:\n",
        "        nextItem = toConsider[0]\n",
        "        itemCost = nextItem.getCost() * nextItem.getWeight()  # calculate cost based on weight\n",
        "        if nextItem.getWeight() > maxWeight or itemCost > budget:\n",
        "            result = maxValBruteForce(toConsider[1:], maxWeight, budget)\n",
        "        else:\n",
        "            withVal, withToTake = maxValBruteForce(toConsider[1:],\n",
        "                                                   maxWeight - nextItem.getWeight(), budget - itemCost)\n",
        "            withVal += itemCost\n",
        "            withoutVal, withoutToTake = maxValBruteForce(toConsider[1:], maxWeight, budget)\n",
        "            if withVal > withoutVal:\n",
        "                result = (withVal, withToTake + (nextItem,))\n",
        "            else:\n",
        "                result = (withoutVal, withoutToTake)\n",
        "    return result"
      ],
      "metadata": {
        "id": "9uccdsN7F492"
      },
      "id": "9uccdsN7F492",
      "execution_count": null,
      "outputs": []
    },
    {
      "cell_type": "code",
      "source": [
        "def testMaxValBruteForce(ingredients, maxUnits, budget, printItems=True):\n",
        "    print('Use brute force to allocate', maxUnits, 'kg weight and budget of', budget)\n",
        "    val, taken = maxValBruteForce(ingredients, maxUnits, budget)\n",
        "    print('Total cost of items taken =', val)\n",
        "    if printItems:\n",
        "        for item in taken:\n",
        "            print('   ', item)"
      ],
      "metadata": {
        "id": "7q6bAi-cF51E"
      },
      "id": "7q6bAi-cF51E",
      "execution_count": null,
      "outputs": []
    },
    {
      "cell_type": "code",
      "source": [
        "names = ['pork loin', 'pork belly', 'pork ribs', 'chicken', 'salmon', 'beef tender loin', 'beef brisket']\n",
        "cost = [350, 400, 300, 180, 500, 700, 500]  # in Php/kilo\n",
        "weight = [8, 8, 7, 10, 8, 8, 7]             # in kilograms\n",
        "prep_time = [3, 3, 5, 2, 1, 5, 4, 5]        # in hours\n",
        "\n",
        "ingredients = buildMenu(names, cost, weight, prep_time)\n",
        "\n",
        "budget = 16000                               # ₱16,000 budget\n",
        "testMaxValBruteForce(ingredients, 30, budget)"
      ],
      "metadata": {
        "colab": {
          "base_uri": "https://localhost:8080/"
        },
        "id": "ovGkn19mF6Es",
        "outputId": "22e90f08-be3e-4917-964b-5504771b3015"
      },
      "id": "ovGkn19mF6Es",
      "execution_count": null,
      "outputs": [
        {
          "output_type": "stream",
          "name": "stdout",
          "text": [
            "Use brute force to allocate 30 kg weight and budget of 16000\n",
            "Total cost of items taken = 15200\n",
            "    beef brisket: <500, 7, 4>\n",
            "    beef tender loin: <700, 8, 5>\n",
            "    salmon: <500, 8, 1>\n",
            "    pork ribs: <300, 7, 5>\n"
          ]
        }
      ]
    },
    {
      "cell_type": "markdown",
      "id": "8bbdd39c",
      "metadata": {
        "id": "8bbdd39c"
      },
      "source": [
        "#### Conclusion:"
      ]
    },
    {
      "cell_type": "markdown",
      "source": [],
      "metadata": {
        "id": "OmODdEejIrmY"
      },
      "id": "OmODdEejIrmY"
    },
    {
      "cell_type": "markdown",
      "id": "fb608ce3",
      "metadata": {
        "id": "fb608ce3"
      },
      "source": [
        "#type your conclusion here"
      ]
    },
    {
      "cell_type": "markdown",
      "source": [
        "Indeed, knapsack problems are common in everyday situations, making optimization an important concept to understand. In considerations of a business, just like Toni, opting for optimization is beneficial to find the most efficient way of serving dishes. Algorithms like brute force and greedy methods are useful, but the greedy help find the better/best solution for a reasonable alternative."
      ],
      "metadata": {
        "id": "bfxxXoGdzp7m"
      },
      "id": "bfxxXoGdzp7m"
    },
    {
      "cell_type": "code",
      "execution_count": null,
      "id": "3945391c",
      "metadata": {
        "id": "3945391c",
        "colab": {
          "base_uri": "https://localhost:8080/"
        },
        "outputId": "236c55da-00c5-41d5-8ec3-8a4be88d1623"
      },
      "outputs": [
        {
          "output_type": "stream",
          "name": "stdout",
          "text": [
            " \n"
          ]
        }
      ],
      "source": [
        "print(\" \")"
      ]
    }
  ],
  "metadata": {
    "kernelspec": {
      "display_name": "Python 3",
      "language": "python",
      "name": "python3"
    },
    "language_info": {
      "codemirror_mode": {
        "name": "ipython",
        "version": 3
      },
      "file_extension": ".py",
      "mimetype": "text/x-python",
      "name": "python",
      "nbconvert_exporter": "python",
      "pygments_lexer": "ipython3",
      "version": "3.7.10"
    },
    "colab": {
      "provenance": []
    }
  },
  "nbformat": 4,
  "nbformat_minor": 5
}