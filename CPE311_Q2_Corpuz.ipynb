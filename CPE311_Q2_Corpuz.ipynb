{
 "cells": [
  {
   "cell_type": "code",
   "execution_count": 117,
   "id": "f1e4d338-a3f5-4790-a787-07c12a820e06",
   "metadata": {},
   "outputs": [
    {
     "name": "stdout",
     "output_type": "stream",
     "text": [
      "==================================================\n",
      " Array: [-2, 1, 3, 4, -5, 3, -8, 2, -4] \n",
      "\n",
      " The maximum subarray sum is  8\n",
      "==================================================\n"
     ]
    }
   ],
   "source": [
    "'''\n",
    "ASSIGNED PROBLEM\n",
    "Given a sequence of n real numbers A(1) ... A(n), \n",
    "determine a contiguous subsequence A(i) ... A(j) \n",
    "for which the sum of elements in the subsequence\n",
    "is maximized.\n",
    "'''\n",
    "\n",
    "def max_subarray_sum(arr):\n",
    "    max_sum = 0\n",
    "    current_sum = 0\n",
    "\n",
    "    for num in arr:\n",
    "        current_sum = max(num, current_sum + num)\n",
    "        max_sum = max(current_sum, max_sum)\n",
    "    \n",
    "    return max_sum\n",
    "\n",
    "    \n",
    "arr = [-2, 1, 3, 4, -5, 3, -8, 2, -4]\n",
    "print(\"=\" * 50)\n",
    "print(\" Array:\", arr, \"\\n\")\n",
    "print(\" The maximum subarray sum is \", max_subarray_sum(arr))\n",
    "print(\"=\" * 50)\n",
    "\n",
    "# Im taking time showing the array but it is [1, 3, 4]"
   ]
  },
  {
   "cell_type": "code",
   "execution_count": 114,
   "id": "9de20cc7-de0f-4ba4-b4b7-d881cece6b53",
   "metadata": {},
   "outputs": [
    {
     "name": "stdout",
     "output_type": "stream",
     "text": [
      "(3, [20, 20, 10])\n"
     ]
    },
    {
     "ename": "IndexError",
     "evalue": "list index out of range",
     "output_type": "error",
     "traceback": [
      "\u001b[1;31m---------------------------------------------------------------------------\u001b[0m",
      "\u001b[1;31mIndexError\u001b[0m                                Traceback (most recent call last)",
      "Cell \u001b[1;32mIn[114], line 39\u001b[0m\n\u001b[0;32m     37\u001b[0m coins \u001b[38;5;241m=\u001b[39m [\u001b[38;5;241m1\u001b[39m, \u001b[38;5;241m5\u001b[39m, \u001b[38;5;241m10\u001b[39m, \u001b[38;5;241m20\u001b[39m]\n\u001b[0;32m     38\u001b[0m bill \u001b[38;5;241m=\u001b[39m \u001b[38;5;241m50\u001b[39m\n\u001b[1;32m---> 39\u001b[0m \u001b[38;5;28mprint\u001b[39m(myTry(coins, bill))\n",
      "Cell \u001b[1;32mIn[114], line 33\u001b[0m, in \u001b[0;36mmyTry\u001b[1;34m(coins, amount)\u001b[0m\n\u001b[0;32m     31\u001b[0m     \u001b[38;5;28;01mfor\u001b[39;00m coin \u001b[38;5;129;01min\u001b[39;00m coins:\n\u001b[0;32m     32\u001b[0m         \u001b[38;5;28;01mif\u001b[39;00m i \u001b[38;5;241m>\u001b[39m\u001b[38;5;241m=\u001b[39m coin:\n\u001b[1;32m---> 33\u001b[0m             dp[i] \u001b[38;5;241m=\u001b[39m \u001b[38;5;28mmax\u001b[39m(coins[i], dp[i \u001b[38;5;241m-\u001b[39m coin])\n\u001b[0;32m     35\u001b[0m \u001b[38;5;28;01mreturn\u001b[39;00m dp[i] \u001b[38;5;28;01mif\u001b[39;00m dp[i] \u001b[38;5;241m!=\u001b[39m \u001b[38;5;28mfloat\u001b[39m(\u001b[38;5;124m'\u001b[39m\u001b[38;5;124minf\u001b[39m\u001b[38;5;124m'\u001b[39m) \u001b[38;5;28;01melse\u001b[39;00m \u001b[38;5;241m-\u001b[39m\u001b[38;5;241m1\u001b[39m\n",
      "\u001b[1;31mIndexError\u001b[0m: list index out of range"
     ]
    }
   ],
   "source": [
    "'''\n",
    "You are given n types of coin denominations of values\n",
    "v(1) < v(2) < ... < v(n) (all integers). Assume v(1) = 1,\n",
    "so you can always make change for any amount of money C. \n",
    "Give an algorithm which makes change for an amount of\n",
    "money C with as few coins as possible.\n",
    "'''\n",
    "\n",
    "def make_change(Coin, amount):\n",
    "    Coin.sort(reverse = True)\n",
    "    count = 0\n",
    "    change = []\n",
    "\n",
    "    for coin in Coin:\n",
    "        while amount >= coin:\n",
    "            amount -= coin\n",
    "            count += 1\n",
    "            change.append(coin)\n",
    "    return count, change\n",
    "\n",
    "denominations = [0.25, 1, 5, 10, 20]\n",
    "bill = 50\n",
    "print(make_change(denominations, bill))\n",
    "\n",
    "\n",
    "def myTry(coins, amount):\n",
    "    dp = [float('inf')] * (amount + 1)\n",
    "    dp[0] = 0\n",
    "\n",
    "    for i in range(1, amount + 1):\n",
    "        for coin in coins:\n",
    "            if i >= coin:\n",
    "                dp[i] = max(coins[i], dp[i - coin])\n",
    "\n",
    "    return dp[i] if dp[i] != float('inf') else -1\n",
    "\n",
    "coins = [1, 5, 10, 20]\n",
    "bill = 50\n",
    "print(myTry(coins, bill))"
   ]
  },
  {
   "cell_type": "code",
   "execution_count": null,
   "id": "4f4c71a1-dd0e-44dd-8c9a-71ec71a4518a",
   "metadata": {},
   "outputs": [],
   "source": []
  }
 ],
 "metadata": {
  "kernelspec": {
   "display_name": "Python 3 (ipykernel)",
   "language": "python",
   "name": "python3"
  },
  "language_info": {
   "codemirror_mode": {
    "name": "ipython",
    "version": 3
   },
   "file_extension": ".py",
   "mimetype": "text/x-python",
   "name": "python",
   "nbconvert_exporter": "python",
   "pygments_lexer": "ipython3",
   "version": "3.12.4"
  }
 },
 "nbformat": 4,
 "nbformat_minor": 5
}
