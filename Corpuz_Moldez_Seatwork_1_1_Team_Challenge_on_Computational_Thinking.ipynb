{
  "nbformat": 4,
  "nbformat_minor": 0,
  "metadata": {
    "colab": {
      "provenance": [],
      "include_colab_link": true
    },
    "kernelspec": {
      "name": "python3",
      "display_name": "Python 3"
    },
    "language_info": {
      "name": "python"
    }
  },
  "cells": [
    {
      "cell_type": "markdown",
      "metadata": {
        "id": "view-in-github",
        "colab_type": "text"
      },
      "source": [
        "<a href=\"https://colab.research.google.com/github/mcklrrn-corpuz/CPE-311/blob/main/Corpuz_Moldez_Seatwork_1_1_Team_Challenge_on_Computational_Thinking.ipynb\" target=\"_parent\"><img src=\"https://colab.research.google.com/assets/colab-badge.svg\" alt=\"Open In Colab\"/></a>"
      ]
    },
    {
      "cell_type": "code",
      "execution_count": 1,
      "metadata": {
        "id": "vE3W4-VV46U8",
        "colab": {
          "base_uri": "https://localhost:8080/",
          "height": 0
        },
        "outputId": "894c35eb-b42e-4ce7-cbd1-249f0d0ae59a"
      },
      "outputs": [
        {
          "output_type": "stream",
          "name": "stdout",
          "text": [
            "Lloyd and Robin rode the boat across.\n",
            "Lloyd stays on the safe side. Robin returns with the boat.\n",
            "Safe side: ['Lloyd']\n",
            "\n",
            "Verlyn and supplies rode the boat across.\n",
            "Verlyn stays on the safe side. supplies returns with the boat.\n",
            "Safe side: ['Verlyn', 'Lloyd']\n",
            "\n",
            "Robin and supplies rode the boat across.\n",
            "Robin stays on the safe side. supplies returns with the boat.\n",
            "Safe side: ['Verlyn', 'Lloyd', 'Robin']\n",
            "\n",
            "People left to cross: ['Roman', 'supplies']\n",
            "Choose person: Roman\n",
            "\n",
            "All people safely crossed the river!\n"
          ]
        }
      ],
      "source": [
        "# Load and their values\n",
        "people_dict = {\n",
        "    \"Roman\": 90,\n",
        "    \"Verlyn\": 80,\n",
        "    \"Lloyd\": 60,\n",
        "    \"Robin\": 40,\n",
        "    \"supplies\": 20\n",
        "}\n",
        "\n",
        "limit = 100  # Weight limit\n",
        "\n",
        "# Create a list for people with their weights\n",
        "people = list(people_dict.values())\n",
        "\n",
        "safe_side = []  # People who have crossed the river\n",
        "boat = []       # People on the boat\n",
        "\n",
        "# Finds a valid pair to send across while staying under the weight limit.\n",
        "def find_valid_pair(people):\n",
        "    for each_person in range(len(people)):\n",
        "        for next_person in range(each_person + 1, len(people)):\n",
        "            if people[each_person] + people[next_person] <= limit:\n",
        "                return people[each_person], people[next_person]\n",
        "    return None, None\n",
        "\n",
        "# Main function for the river crossing sequence\n",
        "def sequenceOver(people):\n",
        "    safe_side = []  # People who have crossed the river\n",
        "    boat = []       # People on the boat\n",
        "\n",
        "    # Start with Lloyd and Robin\n",
        "    p1, p2 = people_dict['Lloyd'], people_dict['Robin']\n",
        "    print(f\"Lloyd and Robin rode the boat across.\")\n",
        "    boat.extend([p1, p2])\n",
        "    people.remove(p1)\n",
        "    people.remove(p2)\n",
        "\n",
        "    # One person stays, the other returns with the boat\n",
        "    returning = min(p1, p2)  # The lighter person returns\n",
        "    returning_name = next(name for name, weight in people_dict.items() if weight == returning)\n",
        "\n",
        "    safe_side.append(max(p1, p2))  # The heavier one stays on the safe side\n",
        "    max_name = next(name for name, weight in people_dict.items() if weight == max(p1, p2))\n",
        "\n",
        "    print(f\"{max_name} stays on the safe side. {returning_name} returns with the boat.\")\n",
        "    print(f\"Safe side: {[name for name in people_dict if people_dict[name] in safe_side]}\\n\")  # Show the updated safe side\n",
        "\n",
        "    people.append(returning)  # Add the returning person back to the start side\n",
        "\n",
        "    # Continue with the rest of the sequenceOver logic to get everyone across\n",
        "    while len(safe_side) < len(people_dict) - 1:  # Until everyone but the last person has crossed\n",
        "        # Find a valid pair to send across\n",
        "        p1, p2 = find_valid_pair(people)\n",
        "\n",
        "        # Null case: Ask the user to choose if no valid pair found\n",
        "        if p1 is None or p2 is None:\n",
        "            print(f\"People left to cross: {[name for name, weight in people_dict.items() if weight in people and weight not in safe_side]}\")\n",
        "            choice = input(\"Choose person: \")\n",
        "            p1 = people_dict[choice]  # Assuming user chooses a valid person from remaining people\n",
        "            people.remove(p1)\n",
        "            safe_side.append(p1)\n",
        "            continue\n",
        "\n",
        "        # Get the names of the people based on their weights\n",
        "        p1_name = next(name for name, weight in people_dict.items() if weight == p1)\n",
        "        p2_name = next(name for name, weight in people_dict.items() if weight == p2)\n",
        "\n",
        "        # Move the pair across\n",
        "        print(f\"{p1_name} and {p2_name} rode the boat across.\")\n",
        "        boat.extend([p1, p2])  # They enter the boat\n",
        "        people.remove(p1)\n",
        "        people.remove(p2)\n",
        "\n",
        "        # One person stays, the other returns with the boat\n",
        "        returning = min(p1, p2)  # The lighter person returns\n",
        "        returning_name = next(name for name, weight in people_dict.items() if weight == returning)\n",
        "\n",
        "        safe_side.append(max(p1, p2))  # The heavier one stays on the safe side\n",
        "        max_name = next(name for name, weight in people_dict.items() if weight == max(p1, p2))\n",
        "\n",
        "        print(f\"{max_name} stays on the safe side. {returning_name} returns with the boat.\")\n",
        "        print(f\"Safe side: {[name for name in people_dict if people_dict[name] in safe_side]}\\n\")  # Show the updated safe side\n",
        "\n",
        "        people.append(returning)  # Add the returning person back to the start side\n",
        "\n",
        "    print(\"\\nAll people safely crossed the river!\")\n",
        "\n",
        "# Simulation\n",
        "sequenceOver(people)\n"
      ]
    }
  ]
}