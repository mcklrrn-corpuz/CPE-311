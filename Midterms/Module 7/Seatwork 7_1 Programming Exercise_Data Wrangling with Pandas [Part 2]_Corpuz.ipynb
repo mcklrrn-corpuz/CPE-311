{
 "cells": [
  {
   "cell_type": "markdown",
   "id": "80dcc5b3-6b89-43ec-9e06-991180f31134",
   "metadata": {},
   "source": [
    "# Corpuz, Micki Laurren B. | 03 April 2025"
   ]
  },
  {
   "cell_type": "markdown",
   "id": "200a1236-56d9-4934-b202-928ddf9e8dd4",
   "metadata": {},
   "source": [
    "## Exercise Part 4"
   ]
  },
  {
   "cell_type": "markdown",
   "id": "852dabfe-239b-44b5-97b2-8bd1bbde2a6b",
   "metadata": {},
   "source": [
    "1. Using the meteorite data from the Meteorite_Landings.csv file, create a pivot table that shows both the number of meteorites and the 95th percentile of meteorite mass for those that were found versus observed falling per year from 2005 through 2009 (inclusive). Hint: Be sure to convert the year column to a number as we did in the previous exercise."
   ]
  },
  {
   "cell_type": "code",
   "execution_count": 162,
   "id": "404af3b7-923e-413c-b1f1-402a363f111b",
   "metadata": {},
   "outputs": [],
   "source": [
    "import pandas as pd\n",
    "meteorites = pd.read_csv(\"Meteorite_Landings.csv\")"
   ]
  },
  {
   "cell_type": "code",
   "execution_count": 163,
   "id": "f6928e53-1e86-41fb-af6f-657e110b6e05",
   "metadata": {},
   "outputs": [],
   "source": [
    "# Splice and Convert to numeric\n",
    "meteorites['year'] = meteorites.year.str.slice(6, 11)\n",
    "meteorites['year'] = pd.to_numeric(meteorites['year'], errors='coerce')"
   ]
  },
  {
   "cell_type": "code",
   "execution_count": 164,
   "id": "511910c4-09b9-4eaa-9ca5-897e810b1b19",
   "metadata": {},
   "outputs": [],
   "source": [
    "meteorites = meteorites[(meteorites['year'] >= 2005) & (meteorites['year'] <= 2009)]\n",
    "years = meteorites['year'].unique()"
   ]
  },
  {
   "cell_type": "code",
   "execution_count": 165,
   "id": "0dd127bf-b10d-4f6f-8062-b6dac2f031a8",
   "metadata": {},
   "outputs": [],
   "source": [
    "# Create a pivot table using the built-in .pivot_table()\n",
    "pivot_table = meteorites.pivot_table(\n",
    "    index='year', \n",
    "    columns='fall', \n",
    "    values='mass (g)', \n",
    "    aggfunc=['count', lambda x: x.quantile(0.95)]\n",
    ")"
   ]
  },
  {
   "cell_type": "code",
   "execution_count": 166,
   "id": "479138e9-bdb0-4828-a447-b7a735d24d6c",
   "metadata": {},
   "outputs": [
    {
     "data": {
      "text/html": [
       "<div>\n",
       "<style scoped>\n",
       "    .dataframe tbody tr th:only-of-type {\n",
       "        vertical-align: middle;\n",
       "    }\n",
       "\n",
       "    .dataframe tbody tr th {\n",
       "        vertical-align: top;\n",
       "    }\n",
       "\n",
       "    .dataframe thead th {\n",
       "        text-align: right;\n",
       "    }\n",
       "</style>\n",
       "<table border=\"1\" class=\"dataframe\">\n",
       "  <thead>\n",
       "    <tr style=\"text-align: right;\">\n",
       "      <th></th>\n",
       "      <th>No. Fell</th>\n",
       "      <th>No. Found</th>\n",
       "      <th>Mass 95th Fell</th>\n",
       "      <th>Mass 95th Found</th>\n",
       "    </tr>\n",
       "    <tr>\n",
       "      <th>year</th>\n",
       "      <th></th>\n",
       "      <th></th>\n",
       "      <th></th>\n",
       "      <th></th>\n",
       "    </tr>\n",
       "  </thead>\n",
       "  <tbody>\n",
       "    <tr>\n",
       "      <th>2005.0</th>\n",
       "      <td>NaN</td>\n",
       "      <td>874.0</td>\n",
       "      <td>NaN</td>\n",
       "      <td>4500.00</td>\n",
       "    </tr>\n",
       "    <tr>\n",
       "      <th>2006.0</th>\n",
       "      <td>5.0</td>\n",
       "      <td>2450.0</td>\n",
       "      <td>25008.0</td>\n",
       "      <td>1600.50</td>\n",
       "    </tr>\n",
       "    <tr>\n",
       "      <th>2007.0</th>\n",
       "      <td>8.0</td>\n",
       "      <td>1181.0</td>\n",
       "      <td>89675.0</td>\n",
       "      <td>1126.90</td>\n",
       "    </tr>\n",
       "    <tr>\n",
       "      <th>2008.0</th>\n",
       "      <td>9.0</td>\n",
       "      <td>948.0</td>\n",
       "      <td>106000.0</td>\n",
       "      <td>2274.80</td>\n",
       "    </tr>\n",
       "    <tr>\n",
       "      <th>2009.0</th>\n",
       "      <td>5.0</td>\n",
       "      <td>1492.0</td>\n",
       "      <td>8333.4</td>\n",
       "      <td>1397.25</td>\n",
       "    </tr>\n",
       "  </tbody>\n",
       "</table>\n",
       "</div>"
      ],
      "text/plain": [
       "        No. Fell  No. Found  Mass 95th Fell  Mass 95th Found\n",
       "year                                                        \n",
       "2005.0       NaN      874.0             NaN          4500.00\n",
       "2006.0       5.0     2450.0         25008.0          1600.50\n",
       "2007.0       8.0     1181.0         89675.0          1126.90\n",
       "2008.0       9.0      948.0        106000.0          2274.80\n",
       "2009.0       5.0     1492.0          8333.4          1397.25"
      ]
     },
     "execution_count": 166,
     "metadata": {},
     "output_type": "execute_result"
    }
   ],
   "source": [
    "pivot_table.columns = ['No. Fell', 'No. Found', 'Mass 95th Fell', 'Mass 95th Found']\n",
    "pivot_table"
   ]
  },
  {
   "cell_type": "markdown",
   "id": "f63bfea6-7d9f-4aef-bbcb-c919e05dd880",
   "metadata": {},
   "source": [
    "2. Using the meteorite data from the Meteorite_Landings.csv file, compare summary statistics of the mass column for the meteorites that were found versus observed falling."
   ]
  },
  {
   "cell_type": "code",
   "execution_count": 167,
   "id": "3f8b7268-fb9f-4603-a15a-c848102f58f4",
   "metadata": {},
   "outputs": [],
   "source": [
    "# Separately calculate the summary statistics for each category, without using built-in .groupby()\n",
    "fell = meteorites[meteorites['fall'] == 'Fell']['mass (g)']\n",
    "found = meteorites[meteorites['fall'] == 'Found']['mass (g)']\n",
    "fell_stats = fell_meteorites.describe()\n",
    "found_stats = found_meteorites.describe()"
   ]
  },
  {
   "cell_type": "code",
   "execution_count": 168,
   "id": "81bd550d-7de6-42f9-b417-0a6aea136bbd",
   "metadata": {},
   "outputs": [
    {
     "data": {
      "text/html": [
       "<div>\n",
       "<style scoped>\n",
       "    .dataframe tbody tr th:only-of-type {\n",
       "        vertical-align: middle;\n",
       "    }\n",
       "\n",
       "    .dataframe tbody tr th {\n",
       "        vertical-align: top;\n",
       "    }\n",
       "\n",
       "    .dataframe thead th {\n",
       "        text-align: right;\n",
       "    }\n",
       "</style>\n",
       "<table border=\"1\" class=\"dataframe\">\n",
       "  <thead>\n",
       "    <tr style=\"text-align: right;\">\n",
       "      <th></th>\n",
       "      <th>Fell</th>\n",
       "      <th>Found</th>\n",
       "    </tr>\n",
       "  </thead>\n",
       "  <tbody>\n",
       "    <tr>\n",
       "      <th>count</th>\n",
       "      <td>27.000000</td>\n",
       "      <td>6.945000e+03</td>\n",
       "    </tr>\n",
       "    <tr>\n",
       "      <th>mean</th>\n",
       "      <td>19029.665185</td>\n",
       "      <td>1.573986e+03</td>\n",
       "    </tr>\n",
       "    <tr>\n",
       "      <th>std</th>\n",
       "      <td>34081.623779</td>\n",
       "      <td>4.202089e+04</td>\n",
       "    </tr>\n",
       "    <tr>\n",
       "      <th>min</th>\n",
       "      <td>18.410000</td>\n",
       "      <td>0.000000e+00</td>\n",
       "    </tr>\n",
       "    <tr>\n",
       "      <th>25%</th>\n",
       "      <td>410.000000</td>\n",
       "      <td>7.500000e+00</td>\n",
       "    </tr>\n",
       "    <tr>\n",
       "      <th>50%</th>\n",
       "      <td>3950.000000</td>\n",
       "      <td>3.450000e+01</td>\n",
       "    </tr>\n",
       "    <tr>\n",
       "      <th>75%</th>\n",
       "      <td>8206.500000</td>\n",
       "      <td>1.970000e+02</td>\n",
       "    </tr>\n",
       "    <tr>\n",
       "      <th>max</th>\n",
       "      <td>110000.000000</td>\n",
       "      <td>3.000000e+06</td>\n",
       "    </tr>\n",
       "  </tbody>\n",
       "</table>\n",
       "</div>"
      ],
      "text/plain": [
       "                Fell         Found\n",
       "count      27.000000  6.945000e+03\n",
       "mean    19029.665185  1.573986e+03\n",
       "std     34081.623779  4.202089e+04\n",
       "min        18.410000  0.000000e+00\n",
       "25%       410.000000  7.500000e+00\n",
       "50%      3950.000000  3.450000e+01\n",
       "75%      8206.500000  1.970000e+02\n",
       "max    110000.000000  3.000000e+06"
      ]
     },
     "execution_count": 168,
     "metadata": {},
     "output_type": "execute_result"
    }
   ],
   "source": [
    "summary = pd.DataFrame({'Fell': fell_stats, 'Found': found_stats})\n",
    "summary"
   ]
  },
  {
   "cell_type": "code",
   "execution_count": 169,
   "id": "59e3bb1b-b489-402f-b771-d87ce0a809ad",
   "metadata": {},
   "outputs": [
    {
     "data": {
      "text/html": [
       "<div>\n",
       "<style scoped>\n",
       "    .dataframe tbody tr th:only-of-type {\n",
       "        vertical-align: middle;\n",
       "    }\n",
       "\n",
       "    .dataframe tbody tr th {\n",
       "        vertical-align: top;\n",
       "    }\n",
       "\n",
       "    .dataframe thead th {\n",
       "        text-align: right;\n",
       "    }\n",
       "</style>\n",
       "<table border=\"1\" class=\"dataframe\">\n",
       "  <thead>\n",
       "    <tr style=\"text-align: right;\">\n",
       "      <th></th>\n",
       "      <th>count</th>\n",
       "      <th>mean</th>\n",
       "      <th>std</th>\n",
       "      <th>min</th>\n",
       "      <th>25%</th>\n",
       "      <th>50%</th>\n",
       "      <th>75%</th>\n",
       "      <th>max</th>\n",
       "    </tr>\n",
       "    <tr>\n",
       "      <th>fall</th>\n",
       "      <th></th>\n",
       "      <th></th>\n",
       "      <th></th>\n",
       "      <th></th>\n",
       "      <th></th>\n",
       "      <th></th>\n",
       "      <th></th>\n",
       "      <th></th>\n",
       "    </tr>\n",
       "  </thead>\n",
       "  <tbody>\n",
       "    <tr>\n",
       "      <th>Fell</th>\n",
       "      <td>27.0</td>\n",
       "      <td>19029.665185</td>\n",
       "      <td>34081.623779</td>\n",
       "      <td>18.41</td>\n",
       "      <td>410.0</td>\n",
       "      <td>3950.0</td>\n",
       "      <td>8206.5</td>\n",
       "      <td>110000.0</td>\n",
       "    </tr>\n",
       "    <tr>\n",
       "      <th>Found</th>\n",
       "      <td>6945.0</td>\n",
       "      <td>1573.986245</td>\n",
       "      <td>42020.893987</td>\n",
       "      <td>0.00</td>\n",
       "      <td>7.5</td>\n",
       "      <td>34.5</td>\n",
       "      <td>197.0</td>\n",
       "      <td>3000000.0</td>\n",
       "    </tr>\n",
       "  </tbody>\n",
       "</table>\n",
       "</div>"
      ],
      "text/plain": [
       "        count          mean           std    min    25%     50%     75%  \\\n",
       "fall                                                                      \n",
       "Fell     27.0  19029.665185  34081.623779  18.41  410.0  3950.0  8206.5   \n",
       "Found  6945.0   1573.986245  42020.893987   0.00    7.5    34.5   197.0   \n",
       "\n",
       "             max  \n",
       "fall              \n",
       "Fell    110000.0  \n",
       "Found  3000000.0  "
      ]
     },
     "execution_count": 169,
     "metadata": {},
     "output_type": "execute_result"
    }
   ],
   "source": [
    "# Provide the summary statistics of categories of 'fall' using built-in .groupby()\n",
    "summaryStat = meteorites.groupby('fall')['mass (g)'].describe()\n",
    "summaryStat"
   ]
  },
  {
   "cell_type": "markdown",
   "id": "6e9a96a8-8f5a-4a82-8593-f1c085fcab89",
   "metadata": {},
   "source": [
    "## Exercise Part 5"
   ]
  },
  {
   "cell_type": "markdown",
   "id": "c6b6579c-f6a1-441b-a0f5-acca92b135d4",
   "metadata": {},
   "source": [
    "Using the taxi trip data in the 2019_Yellow_Taxi_Trip_Data.csv file, resample the data to an hourly frequency based on the dropoff time. Calculate the total trip_distance, fare_amount, tolls_amount, and tip_amount, then find the 5 hours with the most tips."
   ]
  },
  {
   "cell_type": "code",
   "execution_count": 170,
   "id": "d2fcb914-a736-4489-8f23-29368579ddb2",
   "metadata": {},
   "outputs": [],
   "source": [
    "taxis = pd.read_csv(\"2019_Yellow_Taxi_Trip_Data.csv\")"
   ]
  },
  {
   "cell_type": "code",
   "execution_count": 171,
   "id": "8410173d-3ed6-43a4-9106-d243b9e15347",
   "metadata": {},
   "outputs": [],
   "source": [
    "# Resample the data following panda's built-in .resample()\n",
    "\n",
    "taxis['tpep_dropoff_datetime'] = pd.to_datetime(taxis['tpep_dropoff_datetime'])\n",
    "new_taxis = taxis.resample('h', on = 'tpep_dropoff_datetime').sum()[['trip_distance', 'fare_amount', 'tolls_amount', 'tip_amount']]"
   ]
  },
  {
   "cell_type": "code",
   "execution_count": 172,
   "id": "903cfaad-f3be-4511-9019-5285a7612ccd",
   "metadata": {},
   "outputs": [
    {
     "data": {
      "text/html": [
       "<div>\n",
       "<style scoped>\n",
       "    .dataframe tbody tr th:only-of-type {\n",
       "        vertical-align: middle;\n",
       "    }\n",
       "\n",
       "    .dataframe tbody tr th {\n",
       "        vertical-align: top;\n",
       "    }\n",
       "\n",
       "    .dataframe thead th {\n",
       "        text-align: right;\n",
       "    }\n",
       "</style>\n",
       "<table border=\"1\" class=\"dataframe\">\n",
       "  <thead>\n",
       "    <tr style=\"text-align: right;\">\n",
       "      <th></th>\n",
       "      <th>trip_distance</th>\n",
       "      <th>fare_amount</th>\n",
       "      <th>tolls_amount</th>\n",
       "      <th>tip_amount</th>\n",
       "    </tr>\n",
       "    <tr>\n",
       "      <th>tpep_dropoff_datetime</th>\n",
       "      <th></th>\n",
       "      <th></th>\n",
       "      <th></th>\n",
       "      <th></th>\n",
       "    </tr>\n",
       "  </thead>\n",
       "  <tbody>\n",
       "    <tr>\n",
       "      <th>2019-10-23 16:00:00</th>\n",
       "      <td>10676.95</td>\n",
       "      <td>67797.76</td>\n",
       "      <td>699.04</td>\n",
       "      <td>12228.64</td>\n",
       "    </tr>\n",
       "    <tr>\n",
       "      <th>2019-10-23 17:00:00</th>\n",
       "      <td>16052.83</td>\n",
       "      <td>70131.91</td>\n",
       "      <td>4044.04</td>\n",
       "      <td>12044.03</td>\n",
       "    </tr>\n",
       "    <tr>\n",
       "      <th>2019-10-23 18:00:00</th>\n",
       "      <td>3104.56</td>\n",
       "      <td>11565.56</td>\n",
       "      <td>1454.67</td>\n",
       "      <td>1907.64</td>\n",
       "    </tr>\n",
       "    <tr>\n",
       "      <th>2019-10-23 15:00:00</th>\n",
       "      <td>14.34</td>\n",
       "      <td>213.50</td>\n",
       "      <td>0.00</td>\n",
       "      <td>51.75</td>\n",
       "    </tr>\n",
       "    <tr>\n",
       "      <th>2019-10-23 19:00:00</th>\n",
       "      <td>98.59</td>\n",
       "      <td>268.00</td>\n",
       "      <td>24.48</td>\n",
       "      <td>25.74</td>\n",
       "    </tr>\n",
       "  </tbody>\n",
       "</table>\n",
       "</div>"
      ],
      "text/plain": [
       "                       trip_distance  fare_amount  tolls_amount  tip_amount\n",
       "tpep_dropoff_datetime                                                      \n",
       "2019-10-23 16:00:00         10676.95     67797.76        699.04    12228.64\n",
       "2019-10-23 17:00:00         16052.83     70131.91       4044.04    12044.03\n",
       "2019-10-23 18:00:00          3104.56     11565.56       1454.67     1907.64\n",
       "2019-10-23 15:00:00            14.34       213.50          0.00       51.75\n",
       "2019-10-23 19:00:00            98.59       268.00         24.48       25.74"
      ]
     },
     "execution_count": 172,
     "metadata": {},
     "output_type": "execute_result"
    }
   ],
   "source": [
    "top_5_tips = new_taxis.nlargest(5, 'tip_amount')\n",
    "top_5_tips"
   ]
  },
  {
   "cell_type": "code",
   "execution_count": null,
   "id": "2beddb0d-fcd2-4ca3-acc0-475abb3a880f",
   "metadata": {},
   "outputs": [],
   "source": []
  }
 ],
 "metadata": {
  "kernelspec": {
   "display_name": "Python 3 (ipykernel)",
   "language": "python",
   "name": "python3"
  },
  "language_info": {
   "codemirror_mode": {
    "name": "ipython",
    "version": 3
   },
   "file_extension": ".py",
   "mimetype": "text/x-python",
   "name": "python",
   "nbconvert_exporter": "python",
   "pygments_lexer": "ipython3",
   "version": "3.12.4"
  }
 },
 "nbformat": 4,
 "nbformat_minor": 5
}
