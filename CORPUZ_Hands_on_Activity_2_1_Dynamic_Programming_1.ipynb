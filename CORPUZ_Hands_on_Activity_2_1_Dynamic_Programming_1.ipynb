{
  "cells": [
    {
      "cell_type": "markdown",
      "metadata": {
        "id": "view-in-github",
        "colab_type": "text"
      },
      "source": [
        "<a href=\"https://colab.research.google.com/github/mcklrrn-corpuz/CPE-311/blob/main/CORPUZ_Hands_on_Activity_2_1_Dynamic_Programming_1.ipynb\" target=\"_parent\"><img src=\"https://colab.research.google.com/assets/colab-badge.svg\" alt=\"Open In Colab\"/></a>"
      ]
    },
    {
      "cell_type": "markdown",
      "id": "f1c6ec95",
      "metadata": {
        "id": "f1c6ec95"
      },
      "source": [
        "# Hands-on Activity 2.1 : Dynamic Programming"
      ]
    },
    {
      "cell_type": "markdown",
      "id": "56dacba1",
      "metadata": {
        "id": "56dacba1"
      },
      "source": [
        "#### Objective(s):\n",
        "\n",
        "This activity aims to demonstrate how to use dynamic programming to solve problems."
      ]
    },
    {
      "cell_type": "markdown",
      "id": "e51f84e3",
      "metadata": {
        "id": "e51f84e3"
      },
      "source": [
        "#### Intended Learning Outcomes (ILOs):\n",
        "* Differentiate recursion method from dynamic programming to solve problems.\n",
        "* Demonstrate how to  solve real-world problems using dynamic programming\n"
      ]
    },
    {
      "cell_type": "markdown",
      "id": "39047b1a",
      "metadata": {
        "id": "39047b1a"
      },
      "source": [
        "#### Resources:\n",
        "* Jupyter Notebook\n"
      ]
    },
    {
      "cell_type": "markdown",
      "id": "cb5360c0",
      "metadata": {
        "id": "cb5360c0"
      },
      "source": [
        "#### Procedures:"
      ]
    },
    {
      "cell_type": "markdown",
      "id": "206a914c",
      "metadata": {
        "id": "206a914c"
      },
      "source": [
        "1. Create a code that demonstrate how to use recursion method to solve problem"
      ]
    },
    {
      "cell_type": "markdown",
      "id": "5744a876",
      "metadata": {
        "id": "5744a876"
      },
      "source": [
        "2. Create a program codes that demonstrate how to use dynamic programming to solve the same problem"
      ]
    },
    {
      "cell_type": "markdown",
      "id": "8e3f6572",
      "metadata": {
        "id": "8e3f6572"
      },
      "source": [
        "##### Question:\n",
        "Explain the difference of using the recursion from dynamic programming using the given sample codes to solve the same problem"
      ]
    },
    {
      "cell_type": "markdown",
      "id": "b5a71b53",
      "metadata": {
        "id": "b5a71b53"
      },
      "source": [
        "Type your answer here:\n",
        "\n",
        "\n",
        "\n"
      ]
    },
    {
      "cell_type": "code",
      "source": [
        "'''\n",
        "(Answer)\n",
        "Recursion solves the problem by repeatedly breaking it down into smaller parts,\n",
        "but it ends up doing the same calculations many times, making it slow.\n",
        "As the input gets bigger, the time it takes grows quickly. While in dynamic programming,\n",
        "itsaves past results so it doesn’t repeat work. This makes it much faster because\n",
        "it only calculates each value once.\n",
        "'''\n",
        "# Recursive approach\n",
        "def fibonacci_recursive(n):\n",
        "    if n <= 0:\n",
        "        return 0\n",
        "    elif n == 1:\n",
        "        return 1\n",
        "    return fibonacci_recursive(n - 1) + fibonacci_recursive(n - 2)\n",
        "\n",
        "# Dynamic Programming\n",
        "def fibonacci_dp(n):\n",
        "    if n <= 0:\n",
        "        return 0\n",
        "    elif n == 1:\n",
        "        return 1\n",
        "\n",
        "    fib = [0] * (n + 1)\n",
        "    fib[1] = 1\n",
        "    for i in range(2, n + 1):\n",
        "        fib[i] = fib[i - 1] + fib[i - 2]\n",
        "\n",
        "    return fib[n]\n",
        "\n",
        "n = 10\n",
        "print(\"Recursive Fibonacci:\", fibonacci_recursive(n))\n",
        "print(\"Dynamic Programming Fibonacci:\", fibonacci_dp(n))"
      ],
      "metadata": {
        "colab": {
          "base_uri": "https://localhost:8080/"
        },
        "id": "WQY6x75bgHIt",
        "outputId": "f0007942-e2f0-47aa-d2ee-2ed15ab019f1"
      },
      "id": "WQY6x75bgHIt",
      "execution_count": null,
      "outputs": [
        {
          "output_type": "stream",
          "name": "stdout",
          "text": [
            "Recursive Fibonacci: 55\n",
            "Dynamic Programming Fibonacci: 55\n"
          ]
        }
      ]
    },
    {
      "cell_type": "markdown",
      "id": "60074702",
      "metadata": {
        "id": "60074702"
      },
      "source": [
        "3. Create a sample program codes to simulate bottom-up dynamic programming"
      ]
    },
    {
      "cell_type": "code",
      "source": [
        "#Implementation of Factorial of a number N using Tabulation\n",
        "def factorial_Tab(n):\n",
        "    tb = [1]\n",
        "    for i in range(2, n + 1):\n",
        "        tb.append(tb[-1] * i)\n",
        "    return tb\n",
        "\n",
        "fact = int(input(\"Enter a number: \"))\n",
        "print(\"=\" * 30)\n",
        "print(\" Factorial-Tabulation\")\n",
        "print(\"-\" * 30)\n",
        "print(factorial_Tab(fact))\n",
        "print(\"=\" * 30)"
      ],
      "metadata": {
        "colab": {
          "base_uri": "https://localhost:8080/"
        },
        "id": "4ad2WMD7fPTU",
        "outputId": "05e56668-0e61-4ee0-eb0f-8d39c61bdac3"
      },
      "id": "4ad2WMD7fPTU",
      "execution_count": null,
      "outputs": [
        {
          "output_type": "stream",
          "name": "stdout",
          "text": [
            "Enter a number: 5\n",
            "==============================\n",
            " Factorial-Tabulation\n",
            "------------------------------\n",
            "[1, 2, 6, 24, 120]\n",
            "==============================\n"
          ]
        }
      ]
    },
    {
      "cell_type": "markdown",
      "id": "e629eb89",
      "metadata": {
        "id": "e629eb89"
      },
      "source": [
        "4. Create a sample program codes that simulate tops-down dynamic programming"
      ]
    },
    {
      "cell_type": "code",
      "source": [
        "#Implementation of Factorial of a number N using Memoization\n",
        "factorial_cache = {}\n",
        "\n",
        "def factorial(x):\n",
        "  if x in factorial_cache:\n",
        "    return factorial_cache[x]\n",
        "\n",
        "  if x <= 1:\n",
        "    result = 1\n",
        "\n",
        "  else:\n",
        "    result = x * factorial(x-1)\n",
        "\n",
        "  factorial_cache[x] = result\n",
        "  return result\n",
        "\n",
        "sample = int(input(\"Enter a number: \"))\n",
        "print(\"=\" * 25)\n",
        "print(\"Factorial Memoization\")\n",
        "print(\"-\" * 25)\n",
        "for o in range(1, sample + 1):\n",
        "  print(o, \"! = \", factorial(o))\n",
        "print(\"=\" * 25)"
      ],
      "metadata": {
        "colab": {
          "base_uri": "https://localhost:8080/"
        },
        "id": "2qfzdDvXfaLu",
        "outputId": "c34332bd-d66a-43dc-84fe-3968cd8a035c"
      },
      "id": "2qfzdDvXfaLu",
      "execution_count": null,
      "outputs": [
        {
          "output_type": "stream",
          "name": "stdout",
          "text": [
            "Enter a number: 5\n",
            "=========================\n",
            "Factorial Memoization\n",
            "-------------------------\n",
            "1 ! =  1\n",
            "2 ! =  2\n",
            "3 ! =  6\n",
            "4 ! =  24\n",
            "5 ! =  120\n",
            "=========================\n"
          ]
        }
      ]
    },
    {
      "cell_type": "markdown",
      "id": "c2e2434c",
      "metadata": {
        "id": "c2e2434c"
      },
      "source": [
        "#### Question:\n",
        " Explain the difference between bottom-up from top-down dynamic programming using the given sample codes"
      ]
    },
    {
      "cell_type": "code",
      "source": [
        "'''\n",
        "Bottom-up starts with the smallest subproblems and works up to the final solution using loop and table.\n",
        "It avoids recursion. On the other hand, top-down takes a more straightforward approach by breaking the\n",
        "problem into smaller parts using recursion. It stores computed values to prevent redoing the same work,\n",
        "but deep recursion can be a problem for large inputs. Both methods arrive at the same answer. While top\n",
        "-down is easier to understand since it is structured like human-way problem-solving process, bottom-up\n",
        "is often preferred for its efficiency in larger/ more inputs.\n",
        "'''"
      ],
      "metadata": {
        "id": "fxuYlptQd615"
      },
      "id": "fxuYlptQd615",
      "execution_count": null,
      "outputs": []
    },
    {
      "cell_type": "markdown",
      "id": "f7a5bfbd",
      "metadata": {
        "id": "f7a5bfbd"
      },
      "source": [
        "0/1 Knapsack Problem\n",
        "\n",
        "* Analyze three different techniques to solve knapsacks problem\n",
        "1. Recursion\n",
        "2. Dynamic Programming\n",
        "3. Memoization"
      ]
    },
    {
      "cell_type": "code",
      "source": [
        "#sample code for knapsack problem using recursion\n",
        "def rec_knapSack(w, wt, val, n):\n",
        "\n",
        "  #base case\n",
        "  #defined as nth item is empty;\n",
        "  #or the capacity w is 0\n",
        "  if n == 0 or w == 0:\n",
        "    return 0\n",
        "\n",
        "  #if weight of the nth item is more than\n",
        "  #the capacity W, then this item cannot be included\n",
        "  #as part of the optimal solution\n",
        "  if(wt[n-1] > w):\n",
        "    return rec_knapSack(w, wt, val, n-1)\n",
        "\n",
        "  #return the maximum of the two cases:\n",
        "  # (1) include the nth item\n",
        "  # (2) don't include the nth item\n",
        "  else:\n",
        "    return max(\n",
        "        val[n-1] + rec_knapSack(\n",
        "            w-wt[n-1], wt, val, n-1),\n",
        "            rec_knapSack(w, wt, val, n-1)\n",
        "    )"
      ],
      "metadata": {
        "id": "15SVHF85_1Ji"
      },
      "id": "15SVHF85_1Ji",
      "execution_count": null,
      "outputs": []
    },
    {
      "cell_type": "code",
      "source": [
        "#To test:\n",
        "val = [60, 100, 120] #values for the items\n",
        "wt = [10, 20, 30] #weight of the items\n",
        "w = 50 #knapsack weight capacity\n",
        "n = len(val) #number of items\n",
        "\n",
        "rec_knapSack(w, wt, val, n)"
      ],
      "metadata": {
        "colab": {
          "base_uri": "https://localhost:8080/"
        },
        "id": "b1D3YRJ7cMqU",
        "outputId": "788d87c8-0d84-4dd6-dfcf-1206fa495812"
      },
      "id": "b1D3YRJ7cMqU",
      "execution_count": null,
      "outputs": [
        {
          "output_type": "execute_result",
          "data": {
            "text/plain": [
              "220"
            ]
          },
          "metadata": {},
          "execution_count": 27
        }
      ]
    },
    {
      "cell_type": "code",
      "source": [
        "#Dynamic Programming for the Knapsack Problem\n",
        "def DP_knapSack(w, wt, val, n):\n",
        "  #create the table\n",
        "  table = [[0 for x in range(w+1)] for x in range (n+1)]\n",
        "\n",
        "  #populate the table in a bottom-up approach\n",
        "  for i in range(n+1):\n",
        "    for w in range(w+1):\n",
        "      if i == 0 or w == 0:\n",
        "        table[i][w] = 0\n",
        "      elif wt[i-1] <= w:\n",
        "        table[i][w] = max(val[i-1] + table[i-1][w-wt[i-1]],\n",
        "                          table[i-1][w])\n",
        "  return table[n][w]"
      ],
      "metadata": {
        "id": "A8OU1sUJ_1ES"
      },
      "id": "A8OU1sUJ_1ES",
      "execution_count": null,
      "outputs": []
    },
    {
      "cell_type": "code",
      "source": [
        "#To test:\n",
        "val = [60, 100, 120]\n",
        "wt = [10, 20, 30]\n",
        "w = 50\n",
        "n = len(val)\n",
        "\n",
        "DP_knapSack(w, wt, val, n)"
      ],
      "metadata": {
        "colab": {
          "base_uri": "https://localhost:8080/"
        },
        "id": "GUNeEPHrd-N1",
        "outputId": "4829e602-248b-48f8-cbd3-e75c4d87d3b6"
      },
      "id": "GUNeEPHrd-N1",
      "execution_count": null,
      "outputs": [
        {
          "output_type": "execute_result",
          "data": {
            "text/plain": [
              "220"
            ]
          },
          "metadata": {},
          "execution_count": 29
        }
      ]
    },
    {
      "cell_type": "code",
      "source": [
        "#Sample for top-down DP approach (memoization)\n",
        "#initialize the list of items\n",
        "val = [60, 100, 120]\n",
        "wt = [10, 20, 30]\n",
        "w = 50\n",
        "n = len(val)\n",
        "\n",
        "#initialize the container for the values that have to be stored\n",
        "#values are initialized to -1\n",
        "calc =[[-1 for i in range(w+1)] for j in range(n+1)]\n",
        "\n",
        "\n",
        "def mem_knapSack(wt, val, w, n):\n",
        "  #base conditions\n",
        "  if n == 0 or w == 0:\n",
        "    return 0\n",
        "  if calc[n][w] != -1:\n",
        "    return calc[n][w]\n",
        "\n",
        "  #compute for the other cases\n",
        "  if wt[n-1] <= w:\n",
        "    calc[n][w] = max(val[n-1] + mem_knapSack(wt, val, w-wt[n-1], n-1),\n",
        "                     mem_knapSack(wt, val, w, n-1))\n",
        "    return calc[n][w]\n",
        "  elif wt[n-1] > w:\n",
        "    calc[n][w] = mem_knapSack(wt, val, w, n-1)\n",
        "    return calc[n][w]\n",
        "\n",
        "mem_knapSack(wt, val, w, n)"
      ],
      "metadata": {
        "id": "VgwTX-XT_0_h",
        "colab": {
          "base_uri": "https://localhost:8080/"
        },
        "outputId": "6f3c2cc6-01fc-433a-ae1e-cbb99976c028"
      },
      "id": "VgwTX-XT_0_h",
      "execution_count": null,
      "outputs": [
        {
          "output_type": "execute_result",
          "data": {
            "text/plain": [
              "220"
            ]
          },
          "metadata": {},
          "execution_count": 31
        }
      ]
    },
    {
      "cell_type": "markdown",
      "source": [
        "**Code Analysis**\n",
        "\n",
        "The code solves the 0/1 Knapsack Problem using three techniques: recursion, bottom-up dynamic programming, and memoization. Recursion goes through every possible way to include or exclude items, but it takes too long for big inputs since it repeats a lot of work, making its time complexity O(2ⁿ) (exponential). The bottom-up approach fixes this by filling up a table with solutions to smaller subproblems, making it much faster with a time complexity of O(n * w) (polynomial), where n is the number of items and w is the knapsack’s capacity. Memoization also speeds things up by storing previously computed values, so the recursion doesn’t redo the same calculations."
      ],
      "metadata": {
        "id": "-UXSSblDcF8T"
      },
      "id": "-UXSSblDcF8T"
    },
    {
      "cell_type": "markdown",
      "source": [
        "## Seatwork 2.1"
      ],
      "metadata": {
        "id": "IGsdUGCUcTFd"
      },
      "id": "IGsdUGCUcTFd"
    },
    {
      "cell_type": "markdown",
      "id": "0462053d",
      "metadata": {
        "id": "0462053d"
      },
      "source": [
        "Task 1: Modify the three techniques to include additional criterion in the knapsack problems"
      ]
    },
    {
      "cell_type": "code",
      "source": [
        "'''\n",
        "Criterion 'threshold' filters items based on their value–weight ratio (efficiency).\n",
        "Items with an efficiency below the threshold are ignored, so that space-efficient items are considered.\n",
        "This maximizes the overall value within the given weight limit.\n",
        "\n",
        "efficiency = val[n-1] / wt[n-1], this calculates value over weight ratio\n",
        "'''\n",
        "# Recursive\n",
        "def modRec_knapSack(w, wt, val, n, threshold):\n",
        "    #base case or the capacity w is 0\n",
        "    if n == 0 or w == 0:\n",
        "        return 0\n",
        "\n",
        "    efficiency = val[n-1] / wt[n-1]\n",
        "\n",
        "    # If efficiency is below the threshold, item is ignored\n",
        "    if efficiency < threshold:\n",
        "        return rec_knapSack(w, wt, val, n-1, threshold)\n",
        "\n",
        "    if wt[n-1] > w:\n",
        "        return rec_knapSack(w, wt, val, n-1, threshold)\n",
        "\n",
        "    return max(\n",
        "        val[n-1] + rec_knapSack(w - wt[n-1], wt, val, n-1, threshold),\n",
        "        rec_knapSack(w, wt, val, n-1, threshold)\n",
        "    )\n",
        "\n",
        "# Dynamic\n",
        "def modDP_knapSack(w, wt, val, n, threshold):\n",
        "    table = [[0 for x in range(w+1)] for x in range(n+1)]\n",
        "\n",
        "    #populate the table in a bottom-up approach\n",
        "    for i in range(1, n+1):\n",
        "        efficiency = val[i-1] / wt[i-1]\n",
        "        for j in range(1, w+1):\n",
        "            if wt[i-1] <= j and efficiency >= threshold:\n",
        "                table[i][j] = max(val[i-1] + table[i-1][j-wt[i-1]], table[i-1][j])\n",
        "            else:\n",
        "                table[i][j] = table[i-1][j]\n",
        "\n",
        "    return table[n][w]\n",
        "\n",
        "#initialize the container for the values that have to be stored values are initialized to -1\n",
        "calcu = [[-1 for i in range(w+1)] for i in range(4)]\n",
        "\n",
        "# Memoization\n",
        "def modMemoization(wt, val, w, n, threshold):\n",
        "    if n == 0 or w == 0:\n",
        "        return 0\n",
        "\n",
        "    if calcu[n][w] != -1:\n",
        "        return calc[n][w]\n",
        "\n",
        "    efficiency = val[n-1] / wt[n-1]\n",
        "    if efficiency < threshold:\n",
        "        calc[n][w] = modMemoization(wt, val, w, n-1, threshold)\n",
        "        return calc[n][w]\n",
        "\n",
        "    if wt[n-1] <= w:\n",
        "        calcu[n][w] = max(\n",
        "                          val[n-1] + modMemoization(wt, val, w - wt[n-1], n-1, threshold),\n",
        "                          modMemoization(wt, val, w, n-1, threshold)\n",
        "                          )\n",
        "    else:\n",
        "        calcu[n][w] = modMemoization(wt, val, w, n-1, threshold)\n",
        "\n",
        "    return calcu[n][w]\n",
        "\n",
        "val = [60, 100, 120]\n",
        "wt = [10, 20, 30]\n",
        "w = 50\n",
        "n = len(val)\n",
        "threshold = 4\n",
        "\n",
        "print(\" ◘ Recursive:\", modRec_knapSack(w, wt, val, n, threshold))\n",
        "print(\" ◘ Dynamic Programming:\", modDP_knapSack(w, wt, val, n, threshold))\n",
        "print(\" ◘ Memoization:\", modMemoization(wt, val, w, n, threshold))"
      ],
      "metadata": {
        "colab": {
          "base_uri": "https://localhost:8080/"
        },
        "id": "xiMEast0WB1Z",
        "outputId": "9dd17211-53e2-4fd0-d79d-f55814e2bbf5"
      },
      "id": "xiMEast0WB1Z",
      "execution_count": null,
      "outputs": [
        {
          "output_type": "stream",
          "name": "stdout",
          "text": [
            " ◘ Recursive: 220\n",
            " ◘ Dynamic Programming: 220\n",
            " ◘ Memoization: 220\n"
          ]
        }
      ]
    },
    {
      "cell_type": "markdown",
      "id": "d97e864e",
      "metadata": {
        "id": "d97e864e"
      },
      "source": [
        "##Fibonacci Numbers"
      ]
    },
    {
      "cell_type": "markdown",
      "id": "f44e88aa",
      "metadata": {
        "id": "f44e88aa"
      },
      "source": [
        "Task 2: Create a sample program that find the nth number of Fibonacci Series using Dynamic Programming"
      ]
    },
    {
      "cell_type": "code",
      "execution_count": null,
      "id": "745871be",
      "metadata": {
        "id": "745871be",
        "colab": {
          "base_uri": "https://localhost:8080/"
        },
        "outputId": "70210008-9600-4045-84a7-d6c612041364"
      },
      "outputs": [
        {
          "output_type": "stream",
          "name": "stdout",
          "text": [
            "Enter a number: 10\n",
            "==================================================\n",
            " Fibonacci Dynamic Approach\n",
            "--------------------------------------------------\n",
            "[0, 1, 1, 2, 3, 5, 8, 13, 21, 34, 55]\n",
            "==================================================\n"
          ]
        }
      ],
      "source": [
        "'''\n",
        "Fibonacci: Dynamic Programming\n",
        "\n",
        "This section was obtained from Seatwork 2\n",
        "'''\n",
        "\n",
        "def dynamicFibonacci(n):\n",
        "    tb = [0, 1]\n",
        "    for i in range(2, n+1):\n",
        "      tb.append(tb[i-1] + tb[i-2])\n",
        "    return tb\n",
        "\n",
        "fib = int(input(\"Enter a number: \"))\n",
        "print(\"=\" * 50)\n",
        "print(\" Fibonacci Dynamic Approach\")\n",
        "print(\"-\" * 50)\n",
        "print(dynamicFibonacci(fib))\n",
        "print(\"=\" * 50)"
      ]
    },
    {
      "cell_type": "markdown",
      "id": "070ddd75",
      "metadata": {
        "id": "070ddd75"
      },
      "source": [
        "## Supplementary Problem (HOA 2.1 Submission):\n",
        "* Choose a real-life problem\n",
        "* Use recursion and dynamic programming to solve the problem"
      ]
    },
    {
      "cell_type": "markdown",
      "source": [
        "REAL-LIFE PROBLEM:\n",
        "Sometimes, managing phone battery life is tricky, especially when different apps drain power at different rates. The goal is to make the most out of the remaining battery by choosing apps that give the longest usage time without running out of power too quickly. Each app has a set battery consumption per hour and a usage time."
      ],
      "metadata": {
        "id": "am8sSKbjlWEB"
      },
      "id": "am8sSKbjlWEB"
    },
    {
      "cell_type": "markdown",
      "source": [
        "###Recursive Approach"
      ],
      "metadata": {
        "id": "HNoX6qNeB7Uo"
      },
      "id": "HNoX6qNeB7Uo"
    },
    {
      "cell_type": "code",
      "execution_count": null,
      "id": "86eef507",
      "metadata": {
        "id": "86eef507",
        "colab": {
          "base_uri": "https://localhost:8080/"
        },
        "outputId": "afbacd6a-8174-41c3-b88a-313cb17d42e5"
      },
      "outputs": [
        {
          "output_type": "stream",
          "name": "stdout",
          "text": [
            "⁃⁃⁃⁃⁃⁃⁃⁃⁃⁃⁃⁃⁃⁃⁃⁃⁃⁃⁃⁃⁃⁃⁃⁃⁃⁃⁃⁃⁃⁃⁃⁃⁃⁃⁃⁃⁃⁃⁃⁃\n",
            " Best total usage time: 15 hours\n",
            " >>>> Selected Apps <<<<\n",
            " ◘ Gmail <3% battery, 6 hrs>\n",
            " ◘ Spotify <8% battery, 5 hrs>\n",
            " ◘ WhatsApp <5% battery, 4 hrs>\n",
            "⁃⁃⁃⁃⁃⁃⁃⁃⁃⁃⁃⁃⁃⁃⁃⁃⁃⁃⁃⁃⁃⁃⁃⁃⁃⁃⁃⁃⁃⁃⁃⁃⁃⁃⁃⁃⁃⁃⁃⁃\n"
          ]
        }
      ],
      "source": [
        "class App:\n",
        "    def __init__(self, name, battery_usage, usage_time):\n",
        "        self.name = name\n",
        "        self.battery_usage = battery_usage  # Battery % per hour\n",
        "        self.usage_time = usage_time  # Hours of usage\n",
        "\n",
        "    def __str__(self):\n",
        "        return f\"{self.name} <{self.battery_usage}% battery, {self.usage_time} hrs>\"\n",
        "\n",
        "    def getName(self):\n",
        "        return self.name\n",
        "\n",
        "    def getBatteryUsage(self):\n",
        "        return self.battery_usage\n",
        "\n",
        "    def getUsageTime(self):\n",
        "        return self.usage_time\n",
        "\n",
        "    def efficiency(self):\n",
        "        return self.usage_time / self.battery_usage if self.battery_usage != 0 else 0\n",
        "\n",
        "# Populating App List\n",
        "def buildAppList(name, battery_usage, usage_time):\n",
        "    apps = []\n",
        "    for a in range(len(name)):\n",
        "        apps.append(App(name[a], battery_usage[a], usage_time[a]))\n",
        "    return apps\n",
        "\n",
        "# Function to maximize usage time within battery constraint\n",
        "def maxUsage(toConsider, available):\n",
        "  '''\n",
        "    The maxUsage function uses recursion to maximize app usage time\n",
        "    within a battery limit.\n",
        "\n",
        "  ◘ If no apps are left or the battery is empty, it returns (0, ()).\n",
        "  ◘ If the first app exceeds the battery limit, it is skipped.\n",
        "  ◘ Otherwise, it considers two cases: selecting or skipping the app.\n",
        "  ◘ The better option (higher usage time) is returned.\n",
        "  '''\n",
        "  if toConsider == [] or available == 0:\n",
        "      return (0, ())\n",
        "\n",
        "  first = toConsider[0]\n",
        "\n",
        "  # If the first app exceeds the battery limit, skip it\n",
        "  if first.getBatteryUsage() > available:\n",
        "      return maxUsage(toConsider[1:], available)\n",
        "\n",
        "  # Select an app\n",
        "  withTime, withApps = maxUsage(toConsider[1:], available - first.getBatteryUsage())\n",
        "  withTime += first.getUsageTime()\n",
        "\n",
        "  # Skip an app\n",
        "  withoutTime, withoutApps = maxUsage(toConsider[1:], available)\n",
        "\n",
        "  # Return the better option\n",
        "  if withTime > withoutTime:\n",
        "      return (withTime, withApps + (first,))\n",
        "  else:\n",
        "      return (withoutTime, withoutApps)\n",
        "\n",
        "# Test function to find maximized usage time\n",
        "def testMaxUsage(apps, max_battery):\n",
        "    bestTime, bestSelection = maxUsage(apps, max_battery)\n",
        "    print (\"⁃\"*40)\n",
        "    print(f\" Best total usage time: {bestTime} hours\")\n",
        "    print(\" >>>> Selected Apps <<<<\")\n",
        "    for app in bestSelection:\n",
        "        print(f\" ◘ {app}\")\n",
        "    print (\"⁃\"*40)\n",
        "\n",
        "app_names = ['YouTube', 'Instagram', 'WhatsApp', 'Facebook', 'Spotify', 'TikTok', 'Twitter', 'Gmail']\n",
        "battery_usage = [10, 12, 5, 15, 8, 20, 7, 3]\n",
        "usage_time = [2, 3, 4, 1, 5, 2, 3, 6]\n",
        "\n",
        "phone = buildAppList(app_names, battery_usage, usage_time)\n",
        "\n",
        "#Assuming 21% battery\n",
        "testMaxUsage(phone, 21)"
      ]
    },
    {
      "cell_type": "markdown",
      "source": [
        "###Dynamic Approach"
      ],
      "metadata": {
        "id": "gW-MQGsTCBcZ"
      },
      "id": "gW-MQGsTCBcZ"
    },
    {
      "cell_type": "code",
      "source": [
        "class App:\n",
        "    def __init__(self, name, battery_usage, usage_time):\n",
        "        self.name = name\n",
        "        self.battery_usage = battery_usage  # Battery % per hour\n",
        "        self.usage_time = usage_time  # Hours of usage\n",
        "\n",
        "    def __str__(self):\n",
        "        return f\"{self.name} <{self.battery_usage}% battery, {self.usage_time} hrs>\"\n",
        "\n",
        "    def getBatteryUsage(self):\n",
        "        return self.battery_usage\n",
        "\n",
        "    def getUsageTime(self):\n",
        "        return self.usage_time\n",
        "\n",
        "# Populating App List\n",
        "def buildAppList(name, battery_usage, usage_time):\n",
        "    return [App(name[i], battery_usage[i], usage_time[i]) for i in range(len(name))]\n",
        "\n",
        "# Memoized Recursive Function for Maximum Usage Time\n",
        "def maxUsage(toConsider, available, cache=None):\n",
        "  '''\n",
        "   ◘ Uses a cache (dictionary) to store already computed results,\n",
        "      avoiding redundant calculations.\n",
        "   ◘ If a state (remaining apps and battery) was computed before,\n",
        "      it returns the stored result.\n",
        "  '''\n",
        "  if cache is None:\n",
        "      cache = {}\n",
        "\n",
        "  if not toConsider or available == 0:\n",
        "      return (0, ())\n",
        "\n",
        "  # Check if result already computed\n",
        "  key = (len(toConsider), available)\n",
        "  if key in cache:\n",
        "      return cache[key]\n",
        "\n",
        "  first = toConsider[0]\n",
        "\n",
        "  if first.getBatteryUsage() > available:\n",
        "      # Skip this app if it consumes too much battery\n",
        "      result = maxUsage(toConsider[1:], available, cache)\n",
        "  else:\n",
        "      # Choose the app\n",
        "      withTime, withApps = maxUsage(toConsider[1:], available - first.getBatteryUsage(), cache)\n",
        "      withTime += first.getUsageTime()\n",
        "\n",
        "      # Don't choose the app\n",
        "      withoutTime, withoutApps = maxUsage(toConsider[1:], available, cache)\n",
        "\n",
        "      # Pick the better option\n",
        "      if withTime > withoutTime:\n",
        "          result = (withTime, withApps + (first,))\n",
        "      else:\n",
        "          result = (withoutTime, withoutApps)\n",
        "\n",
        "  cache[key] = result\n",
        "  return result\n",
        "\n",
        "def testMaxUsage(apps, max_battery):\n",
        "    bestTime, bestSelection = maxUsage(apps, max_battery)\n",
        "    print(\"-\" * 40)\n",
        "    print(f\" Best total usage time: {bestTime} hours\")\n",
        "    print(\" >>>> Selected Apps <<<<\")\n",
        "    for app in bestSelection:\n",
        "        print(f\" ◘ {app}\")\n",
        "    print(\"-\" * 40)\n",
        "\n",
        "app_names = ['YouTube', 'Instagram', 'WhatsApp', 'Facebook', 'Spotify', 'TikTok', 'Twitter', 'Gmail']\n",
        "battery_usage = [10, 12, 5, 15, 8, 20, 7, 3]\n",
        "usage_time = [2, 3, 4, 1, 5, 2, 3, 6]\n",
        "\n",
        "phone = buildAppList(app_names, battery_usage, usage_time)\n",
        "\n",
        "# Assuming 21% battery\n",
        "testMaxUsage(phone, 21)\n"
      ],
      "metadata": {
        "colab": {
          "base_uri": "https://localhost:8080/"
        },
        "id": "rMaNOsWmTFrR",
        "outputId": "c8d1407e-0156-4c53-cf10-bd4e24977d80"
      },
      "id": "rMaNOsWmTFrR",
      "execution_count": null,
      "outputs": [
        {
          "output_type": "stream",
          "name": "stdout",
          "text": [
            "----------------------------------------\n",
            " Best total usage time: 15 hours\n",
            " >>>> Selected Apps <<<<\n",
            " ◘ Gmail <3% battery, 6 hrs>\n",
            " ◘ Spotify <8% battery, 5 hrs>\n",
            " ◘ WhatsApp <5% battery, 4 hrs>\n",
            "----------------------------------------\n"
          ]
        }
      ]
    },
    {
      "cell_type": "markdown",
      "id": "bb0ed6a9",
      "metadata": {
        "id": "bb0ed6a9"
      },
      "source": [
        "### Conclusion"
      ]
    },
    {
      "cell_type": "code",
      "execution_count": null,
      "id": "9627d18c",
      "metadata": {
        "id": "9627d18c"
      },
      "outputs": [],
      "source": [
        "'''\n",
        "In this activity, I’m on my way to understanding how the Knapsack Problem can be solved in different ways,\n",
        "each with its own strengths and weaknesses. Recursion is simple but inefficient since it repeats a lot of\n",
        "work, making it impractical for large inputs. Dynamic programming --- bottom-up or memoization --- improves\n",
        "efficiency by storing previous results and avoiding unnecessary calculations. The bottom-up approach uses\n",
        "less memory by filling a table iteratively, while memoization speeds up recursion by storing computed\n",
        "values. Thus, dynamic programming is the better choice for balancing speed and efficiency. In short,\n",
        "dynamic programming combines the problem-solving approach of recursion with the efficiency of memoization,\n",
        "helping to find optimal solutions to complex problems.\n",
        "'''"
      ]
    },
    {
      "cell_type": "markdown",
      "source": [
        "###Greedy Approach"
      ],
      "metadata": {
        "id": "ojaeSeYFCBdR"
      },
      "id": "ojaeSeYFCBdR"
    },
    {
      "cell_type": "code",
      "source": [
        "#Greedy\n",
        "class App:\n",
        "    def __init__(self, name, battery_usage, usage_time):\n",
        "        self.name = name\n",
        "        self.battery_usage = battery_usage\n",
        "        self.usage_time = usage_time\n",
        "\n",
        "    def __str__(self):\n",
        "        return f\"{self.name} <{self.battery_usage}% battery, {self.usage_time} hrs>\"\n",
        "\n",
        "    def getName(self):\n",
        "        return self.name\n",
        "\n",
        "    def getBatteryUsage(self):\n",
        "        return self.battery_usage\n",
        "\n",
        "    def getUsageTime(self):\n",
        "        return self.usage_time\n",
        "\n",
        "    def efficiency(self):\n",
        "        return self.usage_time / self.battery_usage if self.battery_usage != 0 else 0\n",
        "\n",
        "# Populating App List\n",
        "def buildAppList(name, battery_usage, usage_time):\n",
        "    apps = []\n",
        "    for a in range(len(name)):\n",
        "        apps.append(App(name[a], battery_usage[a], usage_time[a]))\n",
        "    return apps\n",
        "\n",
        "def greedy(items, maxBatteryU, keyFunction):\n",
        "    itemsCopy = sorted(items, key=keyFunction, reverse=True)\n",
        "\n",
        "    result = []\n",
        "    totalValue, totalBattery = 0.0, 0.0\n",
        "    for i in range(len(itemsCopy)):\n",
        "        if (totalBattery + itemsCopy[i].getBatteryUsage()) <= maxBatteryU:\n",
        "            result.append(itemsCopy[i])\n",
        "            totalBattery += itemsCopy[i].getBatteryUsage()\n",
        "            totalValue += itemsCopy[i].getUsageTime()  # total usage time\n",
        "    return result, totalValue\n",
        "\n",
        "def test_greedy(items, constraint, keyFunction, description):\n",
        "    taken, val = greedy(items, constraint, keyFunction)\n",
        "    print (\"⁃\"*40)\n",
        "    print(f\"Greedy Approach: {description}\")\n",
        "    print(\"Total usage time of apps taken =\", val)\n",
        "    for item in taken:\n",
        "        print(\"  ◘\", item)\n",
        "    print (\"⁃\"*40)\n",
        "\n",
        "def testGreedys(apps, maxBattery):\n",
        "    test_greedy(apps, maxBattery, lambda x: x.getUsageTime(), \"Usage Time\")\n",
        "    test_greedy(apps, maxBattery, lambda x: -x.getBatteryUsage(), \"Least Batt. Consumption\")\n",
        "    test_greedy(apps, maxBattery, lambda x: x.efficiency(), \"Efficiency\")\n",
        "\n",
        "app_names = ['YouTube', 'Instagram', 'WhatsApp', 'Facebook', 'Spotify', 'TikTok', 'Twitter', 'Gmail']\n",
        "battery_usage = [10, 12, 5, 15, 8, 20, 7, 3]\n",
        "usage_time = [2, 3, 4, 1, 5, 2, 3, 6]\n",
        "\n",
        "#Assuming 21% battery\n",
        "phone = buildAppList(app_names, battery_usage, usage_time)\n",
        "testGreedys(phone, 21)\n"
      ],
      "metadata": {
        "colab": {
          "base_uri": "https://localhost:8080/"
        },
        "id": "sgDmvrsTCD4x",
        "outputId": "c655ff41-40dd-4de3-c76d-22a688d24238"
      },
      "id": "sgDmvrsTCD4x",
      "execution_count": null,
      "outputs": [
        {
          "output_type": "stream",
          "name": "stdout",
          "text": [
            "⁃⁃⁃⁃⁃⁃⁃⁃⁃⁃⁃⁃⁃⁃⁃⁃⁃⁃⁃⁃⁃⁃⁃⁃⁃⁃⁃⁃⁃⁃⁃⁃⁃⁃⁃⁃⁃⁃⁃⁃\n",
            "Greedy Approach: Usage Time\n",
            "Total usage time of apps taken = 15.0\n",
            "  ◘ Gmail <3% battery, 6 hrs>\n",
            "  ◘ Spotify <8% battery, 5 hrs>\n",
            "  ◘ WhatsApp <5% battery, 4 hrs>\n",
            "⁃⁃⁃⁃⁃⁃⁃⁃⁃⁃⁃⁃⁃⁃⁃⁃⁃⁃⁃⁃⁃⁃⁃⁃⁃⁃⁃⁃⁃⁃⁃⁃⁃⁃⁃⁃⁃⁃⁃⁃\n",
            "⁃⁃⁃⁃⁃⁃⁃⁃⁃⁃⁃⁃⁃⁃⁃⁃⁃⁃⁃⁃⁃⁃⁃⁃⁃⁃⁃⁃⁃⁃⁃⁃⁃⁃⁃⁃⁃⁃⁃⁃\n",
            "Greedy Approach: Least Batt. Consumption\n",
            "Total usage time of apps taken = 13.0\n",
            "  ◘ Gmail <3% battery, 6 hrs>\n",
            "  ◘ WhatsApp <5% battery, 4 hrs>\n",
            "  ◘ Twitter <7% battery, 3 hrs>\n",
            "⁃⁃⁃⁃⁃⁃⁃⁃⁃⁃⁃⁃⁃⁃⁃⁃⁃⁃⁃⁃⁃⁃⁃⁃⁃⁃⁃⁃⁃⁃⁃⁃⁃⁃⁃⁃⁃⁃⁃⁃\n",
            "⁃⁃⁃⁃⁃⁃⁃⁃⁃⁃⁃⁃⁃⁃⁃⁃⁃⁃⁃⁃⁃⁃⁃⁃⁃⁃⁃⁃⁃⁃⁃⁃⁃⁃⁃⁃⁃⁃⁃⁃\n",
            "Greedy Approach: Efficiency\n",
            "Total usage time of apps taken = 15.0\n",
            "  ◘ Gmail <3% battery, 6 hrs>\n",
            "  ◘ WhatsApp <5% battery, 4 hrs>\n",
            "  ◘ Spotify <8% battery, 5 hrs>\n",
            "⁃⁃⁃⁃⁃⁃⁃⁃⁃⁃⁃⁃⁃⁃⁃⁃⁃⁃⁃⁃⁃⁃⁃⁃⁃⁃⁃⁃⁃⁃⁃⁃⁃⁃⁃⁃⁃⁃⁃⁃\n"
          ]
        }
      ]
    }
  ],
  "metadata": {
    "kernelspec": {
      "display_name": "Python 3",
      "language": "python",
      "name": "python3"
    },
    "language_info": {
      "codemirror_mode": {
        "name": "ipython",
        "version": 3
      },
      "file_extension": ".py",
      "mimetype": "text/x-python",
      "name": "python",
      "nbconvert_exporter": "python",
      "pygments_lexer": "ipython3",
      "version": "3.7.10"
    },
    "colab": {
      "provenance": [],
      "include_colab_link": true
    }
  },
  "nbformat": 4,
  "nbformat_minor": 5
}