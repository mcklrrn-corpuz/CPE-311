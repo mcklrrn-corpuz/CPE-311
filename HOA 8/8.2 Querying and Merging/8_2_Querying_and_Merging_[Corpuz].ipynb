{
 "cells": [
  {
   "cell_type": "markdown",
   "id": "edd82743-a1d2-46f3-a230-2dc8a42c5a44",
   "metadata": {},
   "source": [
    "# Database-style Operations on Dataframes"
   ]
  },
  {
   "cell_type": "markdown",
   "id": "f7df4d50-dbb6-43b9-a3a6-c7fe5f6d9abd",
   "metadata": {},
   "source": [
    "**Name**: Corpuz, Micki Laurren B.\n",
    "\n",
    "**Section**: CPE22S3\n",
    "\n",
    "**Instructor**: Engr. Roman Richard"
   ]
  },
  {
   "cell_type": "markdown",
   "id": "f9b0f45f-fdee-4839-8a16-3061d4a48bd8",
   "metadata": {},
   "source": [
    "### About the data"
   ]
  },
  {
   "cell_type": "markdown",
   "id": "54a3217e-044f-40f7-889a-bc063dd366db",
   "metadata": {},
   "source": [
    "In this notebook, we will using daily weather data that was taken from the [National Centers for Environmental Information (NCEI) API](https://www.ncdc.noaa.gov/cdo-web/webservices/v2) . The data collection notebook contains\n",
    "the process that was followed to collect the data.\n",
    "\n",
    "    \n",
    "Note: The NCEI is part of the National Oceanic and Atmospheric Administration (NOAA) and, as you can see from the URL for the API, this resource was created when the\n",
    "NCEI was called the NCDC. Should the URL for this resource change in the future, you can search for the NCEI weather API to find the updated one."
   ]
  },
  {
   "cell_type": "markdown",
   "id": "e2ab3f7c-dc18-42fc-a636-20e0423c9499",
   "metadata": {},
   "source": [
    "### Background on the data"
   ]
  },
  {
   "cell_type": "markdown",
   "id": "663fa82f-ecbe-4197-bbce-fcfbb18aa627",
   "metadata": {},
   "source": [
    "Data meanings:"
   ]
  },
  {
   "cell_type": "markdown",
   "id": "928bf0e1-a363-4ce6-8081-b3b0010c3058",
   "metadata": {},
   "source": [
    "- <b>PRCP </b>: precipitation in millimeters\n",
    "- <b>SNOW </b>: snowfall in millimeters\n",
    "- <b>SNWD </b>: snow depth in millimeters\n",
    "- <b>TMAX </b>: maximum daily temperature in Celsius\n",
    "- <b>TMIN </b>: minimum daily temperature in Celsius\n",
    "- <b>TOBS </b> : temperature at time of observation in Celsius\n",
    "- <b> WESF </b> : water equivalent of snow in millimeters"
   ]
  },
  {
   "cell_type": "markdown",
   "id": "b4418098-a885-46c1-be31-6c234e2faa5c",
   "metadata": {},
   "source": [
    "### Setup"
   ]
  },
  {
   "cell_type": "code",
   "execution_count": 11,
   "id": "3811d445-0d4e-40dc-bc3e-74a4a572052f",
   "metadata": {},
   "outputs": [
    {
     "data": {
      "text/html": [
       "<div>\n",
       "<style scoped>\n",
       "    .dataframe tbody tr th:only-of-type {\n",
       "        vertical-align: middle;\n",
       "    }\n",
       "\n",
       "    .dataframe tbody tr th {\n",
       "        vertical-align: top;\n",
       "    }\n",
       "\n",
       "    .dataframe thead th {\n",
       "        text-align: right;\n",
       "    }\n",
       "</style>\n",
       "<table border=\"1\" class=\"dataframe\">\n",
       "  <thead>\n",
       "    <tr style=\"text-align: right;\">\n",
       "      <th></th>\n",
       "      <th>attributes</th>\n",
       "      <th>datatype</th>\n",
       "      <th>date</th>\n",
       "      <th>station</th>\n",
       "      <th>value</th>\n",
       "    </tr>\n",
       "  </thead>\n",
       "  <tbody>\n",
       "    <tr>\n",
       "      <th>0</th>\n",
       "      <td>,,N,</td>\n",
       "      <td>PRCP</td>\n",
       "      <td>2018-01-01T00:00:00</td>\n",
       "      <td>GHCND:US1CTFR0039</td>\n",
       "      <td>0.0</td>\n",
       "    </tr>\n",
       "    <tr>\n",
       "      <th>1</th>\n",
       "      <td>,,N,</td>\n",
       "      <td>PRCP</td>\n",
       "      <td>2018-01-01T00:00:00</td>\n",
       "      <td>GHCND:US1NJBG0015</td>\n",
       "      <td>0.0</td>\n",
       "    </tr>\n",
       "    <tr>\n",
       "      <th>2</th>\n",
       "      <td>,,N,</td>\n",
       "      <td>SNOW</td>\n",
       "      <td>2018-01-01T00:00:00</td>\n",
       "      <td>GHCND:US1NJBG0015</td>\n",
       "      <td>0.0</td>\n",
       "    </tr>\n",
       "    <tr>\n",
       "      <th>3</th>\n",
       "      <td>,,N,</td>\n",
       "      <td>PRCP</td>\n",
       "      <td>2018-01-01T00:00:00</td>\n",
       "      <td>GHCND:US1NJBG0017</td>\n",
       "      <td>0.0</td>\n",
       "    </tr>\n",
       "    <tr>\n",
       "      <th>4</th>\n",
       "      <td>,,N,</td>\n",
       "      <td>SNOW</td>\n",
       "      <td>2018-01-01T00:00:00</td>\n",
       "      <td>GHCND:US1NJBG0017</td>\n",
       "      <td>0.0</td>\n",
       "    </tr>\n",
       "  </tbody>\n",
       "</table>\n",
       "</div>"
      ],
      "text/plain": [
       "  attributes datatype                 date            station  value\n",
       "0       ,,N,     PRCP  2018-01-01T00:00:00  GHCND:US1CTFR0039    0.0\n",
       "1       ,,N,     PRCP  2018-01-01T00:00:00  GHCND:US1NJBG0015    0.0\n",
       "2       ,,N,     SNOW  2018-01-01T00:00:00  GHCND:US1NJBG0015    0.0\n",
       "3       ,,N,     PRCP  2018-01-01T00:00:00  GHCND:US1NJBG0017    0.0\n",
       "4       ,,N,     SNOW  2018-01-01T00:00:00  GHCND:US1NJBG0017    0.0"
      ]
     },
     "execution_count": 11,
     "metadata": {},
     "output_type": "execute_result"
    }
   ],
   "source": [
    "import pandas as pd\n",
    "weather = pd.read_csv('nyc_weather_2018.csv')\n",
    "weather.head()"
   ]
  },
  {
   "cell_type": "markdown",
   "id": "1cdf3209-9f32-403b-972c-fcdfe55ff8fb",
   "metadata": {},
   "source": [
    "### Querying DataFrames"
   ]
  },
  {
   "cell_type": "markdown",
   "id": "8fd9b4e0-a8dc-4a4b-bbdf-bf84fb32cc5a",
   "metadata": {},
   "source": [
    "The query() method is an easier way of filtering based on some criteria. For example, we can use it to find all entries where snow was recorded:"
   ]
  },
  {
   "cell_type": "code",
   "execution_count": 15,
   "id": "169890ce-bd34-48de-b6a4-be69cc9ec0ae",
   "metadata": {},
   "outputs": [
    {
     "data": {
      "text/html": [
       "<div>\n",
       "<style scoped>\n",
       "    .dataframe tbody tr th:only-of-type {\n",
       "        vertical-align: middle;\n",
       "    }\n",
       "\n",
       "    .dataframe tbody tr th {\n",
       "        vertical-align: top;\n",
       "    }\n",
       "\n",
       "    .dataframe thead th {\n",
       "        text-align: right;\n",
       "    }\n",
       "</style>\n",
       "<table border=\"1\" class=\"dataframe\">\n",
       "  <thead>\n",
       "    <tr style=\"text-align: right;\">\n",
       "      <th></th>\n",
       "      <th>attributes</th>\n",
       "      <th>datatype</th>\n",
       "      <th>date</th>\n",
       "      <th>station</th>\n",
       "      <th>value</th>\n",
       "    </tr>\n",
       "  </thead>\n",
       "  <tbody>\n",
       "    <tr>\n",
       "      <th>124</th>\n",
       "      <td>,,N,</td>\n",
       "      <td>SNOW</td>\n",
       "      <td>2018-01-01T00:00:00</td>\n",
       "      <td>GHCND:US1NYWC0019</td>\n",
       "      <td>25.0</td>\n",
       "    </tr>\n",
       "    <tr>\n",
       "      <th>723</th>\n",
       "      <td>,,N,</td>\n",
       "      <td>SNOW</td>\n",
       "      <td>2018-01-04T00:00:00</td>\n",
       "      <td>GHCND:US1NJBG0015</td>\n",
       "      <td>229.0</td>\n",
       "    </tr>\n",
       "    <tr>\n",
       "      <th>726</th>\n",
       "      <td>,,N,</td>\n",
       "      <td>SNOW</td>\n",
       "      <td>2018-01-04T00:00:00</td>\n",
       "      <td>GHCND:US1NJBG0017</td>\n",
       "      <td>10.0</td>\n",
       "    </tr>\n",
       "    <tr>\n",
       "      <th>730</th>\n",
       "      <td>,,N,</td>\n",
       "      <td>SNOW</td>\n",
       "      <td>2018-01-04T00:00:00</td>\n",
       "      <td>GHCND:US1NJBG0018</td>\n",
       "      <td>46.0</td>\n",
       "    </tr>\n",
       "    <tr>\n",
       "      <th>737</th>\n",
       "      <td>,,N,</td>\n",
       "      <td>SNOW</td>\n",
       "      <td>2018-01-04T00:00:00</td>\n",
       "      <td>GHCND:US1NJES0018</td>\n",
       "      <td>10.0</td>\n",
       "    </tr>\n",
       "  </tbody>\n",
       "</table>\n",
       "</div>"
      ],
      "text/plain": [
       "    attributes datatype                 date            station  value\n",
       "124       ,,N,     SNOW  2018-01-01T00:00:00  GHCND:US1NYWC0019   25.0\n",
       "723       ,,N,     SNOW  2018-01-04T00:00:00  GHCND:US1NJBG0015  229.0\n",
       "726       ,,N,     SNOW  2018-01-04T00:00:00  GHCND:US1NJBG0017   10.0\n",
       "730       ,,N,     SNOW  2018-01-04T00:00:00  GHCND:US1NJBG0018   46.0\n",
       "737       ,,N,     SNOW  2018-01-04T00:00:00  GHCND:US1NJES0018   10.0"
      ]
     },
     "execution_count": 15,
     "metadata": {},
     "output_type": "execute_result"
    }
   ],
   "source": [
    "snowdata = weather.query('datatype == \"SNOW\" and value > 0')\n",
    "snowdata.head(5)"
   ]
  },
  {
   "cell_type": "markdown",
   "id": "b331bb5e-7fef-456f-ac7f-899c6b5eb6a9",
   "metadata": {},
   "source": [
    "This is equivalent to quering the data/weather.db SQLite database for SELECT * FROM weather WHERE datatype == \"SNOW\" AND value > 0 :"
   ]
  },
  {
   "cell_type": "code",
   "execution_count": 18,
   "id": "67011d5a-717b-40f8-a3f3-35632598ff74",
   "metadata": {},
   "outputs": [
    {
     "data": {
      "text/plain": [
       "True"
      ]
     },
     "execution_count": 18,
     "metadata": {},
     "output_type": "execute_result"
    }
   ],
   "source": [
    "import sqlite3\n",
    "\n",
    "with sqlite3.connect('weather.db') as connection:\n",
    "    snow_data_from_db = pd.read_sql(\n",
    "        'SELECT * FROM weather WHERE datatype == \"SNOW\" AND value > 0',\n",
    "        connection\n",
    "    )\n",
    "    \n",
    "snowdata.reset_index().drop(columns='index').equals(snow_data_from_db)"
   ]
  },
  {
   "cell_type": "markdown",
   "id": "7834923c-f943-4e3c-b4de-33170cfff2e5",
   "metadata": {},
   "source": [
    "Note this is also equivalent to creating Boolean masks:"
   ]
  },
  {
   "cell_type": "code",
   "execution_count": 21,
   "id": "5f636bfb-c387-45de-b08b-a71600e69045",
   "metadata": {},
   "outputs": [
    {
     "data": {
      "text/plain": [
       "True"
      ]
     },
     "execution_count": 21,
     "metadata": {},
     "output_type": "execute_result"
    }
   ],
   "source": [
    "weather[(weather.datatype == 'SNOW') & (weather.value > 0)].equals(snowdata)"
   ]
  },
  {
   "cell_type": "markdown",
   "id": "2c8c5181-b02c-4f0c-b994-b017d92a32e9",
   "metadata": {},
   "source": [
    "### Merging DataFrames"
   ]
  },
  {
   "cell_type": "markdown",
   "id": "2b685784-fec2-49f1-85e4-7d31f08521de",
   "metadata": {},
   "source": [
    "We have data for many different stations each day; however, we don't know what the stations are just their IDs. We can join the data in the data/weather_stations.csv\n",
    "file which contains information from the stations endpoint of the NCEI API. Consult the weather_data_collection.ipynb notebook to see how this was collected. It looks like this:"
   ]
  },
  {
   "cell_type": "code",
   "execution_count": 25,
   "id": "44e61d50-da33-4c75-ae11-3aaf01c96c46",
   "metadata": {},
   "outputs": [
    {
     "data": {
      "text/html": [
       "<div>\n",
       "<style scoped>\n",
       "    .dataframe tbody tr th:only-of-type {\n",
       "        vertical-align: middle;\n",
       "    }\n",
       "\n",
       "    .dataframe tbody tr th {\n",
       "        vertical-align: top;\n",
       "    }\n",
       "\n",
       "    .dataframe thead th {\n",
       "        text-align: right;\n",
       "    }\n",
       "</style>\n",
       "<table border=\"1\" class=\"dataframe\">\n",
       "  <thead>\n",
       "    <tr style=\"text-align: right;\">\n",
       "      <th></th>\n",
       "      <th>id</th>\n",
       "      <th>name</th>\n",
       "      <th>latitude</th>\n",
       "      <th>longitude</th>\n",
       "      <th>elevation</th>\n",
       "    </tr>\n",
       "  </thead>\n",
       "  <tbody>\n",
       "    <tr>\n",
       "      <th>0</th>\n",
       "      <td>GHCND:US1CTFR0022</td>\n",
       "      <td>STAMFORD 2.6 SSW, CT US</td>\n",
       "      <td>41.0641</td>\n",
       "      <td>-73.5770</td>\n",
       "      <td>36.6</td>\n",
       "    </tr>\n",
       "    <tr>\n",
       "      <th>1</th>\n",
       "      <td>GHCND:US1CTFR0039</td>\n",
       "      <td>STAMFORD 4.2 S, CT US</td>\n",
       "      <td>41.0378</td>\n",
       "      <td>-73.5682</td>\n",
       "      <td>6.4</td>\n",
       "    </tr>\n",
       "    <tr>\n",
       "      <th>2</th>\n",
       "      <td>GHCND:US1NJBG0001</td>\n",
       "      <td>BERGENFIELD 0.3 SW, NJ US</td>\n",
       "      <td>40.9213</td>\n",
       "      <td>-74.0020</td>\n",
       "      <td>20.1</td>\n",
       "    </tr>\n",
       "    <tr>\n",
       "      <th>3</th>\n",
       "      <td>GHCND:US1NJBG0002</td>\n",
       "      <td>SADDLE BROOK TWP 0.6 E, NJ US</td>\n",
       "      <td>40.9027</td>\n",
       "      <td>-74.0834</td>\n",
       "      <td>16.8</td>\n",
       "    </tr>\n",
       "    <tr>\n",
       "      <th>4</th>\n",
       "      <td>GHCND:US1NJBG0003</td>\n",
       "      <td>TENAFLY 1.3 W, NJ US</td>\n",
       "      <td>40.9147</td>\n",
       "      <td>-73.9775</td>\n",
       "      <td>21.6</td>\n",
       "    </tr>\n",
       "  </tbody>\n",
       "</table>\n",
       "</div>"
      ],
      "text/plain": [
       "                  id                           name  latitude  longitude  \\\n",
       "0  GHCND:US1CTFR0022        STAMFORD 2.6 SSW, CT US   41.0641   -73.5770   \n",
       "1  GHCND:US1CTFR0039          STAMFORD 4.2 S, CT US   41.0378   -73.5682   \n",
       "2  GHCND:US1NJBG0001      BERGENFIELD 0.3 SW, NJ US   40.9213   -74.0020   \n",
       "3  GHCND:US1NJBG0002  SADDLE BROOK TWP 0.6 E, NJ US   40.9027   -74.0834   \n",
       "4  GHCND:US1NJBG0003           TENAFLY 1.3 W, NJ US   40.9147   -73.9775   \n",
       "\n",
       "   elevation  \n",
       "0       36.6  \n",
       "1        6.4  \n",
       "2       20.1  \n",
       "3       16.8  \n",
       "4       21.6  "
      ]
     },
     "execution_count": 25,
     "metadata": {},
     "output_type": "execute_result"
    }
   ],
   "source": [
    "station_info = pd.read_csv('weather_stations.csv')\n",
    "station_info.head()"
   ]
  },
  {
   "cell_type": "markdown",
   "id": "bcbf20bb-ca65-486a-818f-c4da5c9baaff",
   "metadata": {},
   "source": [
    "As a reminder, the weather data looks like this:"
   ]
  },
  {
   "cell_type": "code",
   "execution_count": 30,
   "id": "bb6c1b23-16f1-42ea-ac15-dfb6cb9537cb",
   "metadata": {},
   "outputs": [
    {
     "data": {
      "text/html": [
       "<div>\n",
       "<style scoped>\n",
       "    .dataframe tbody tr th:only-of-type {\n",
       "        vertical-align: middle;\n",
       "    }\n",
       "\n",
       "    .dataframe tbody tr th {\n",
       "        vertical-align: top;\n",
       "    }\n",
       "\n",
       "    .dataframe thead th {\n",
       "        text-align: right;\n",
       "    }\n",
       "</style>\n",
       "<table border=\"1\" class=\"dataframe\">\n",
       "  <thead>\n",
       "    <tr style=\"text-align: right;\">\n",
       "      <th></th>\n",
       "      <th>attributes</th>\n",
       "      <th>datatype</th>\n",
       "      <th>date</th>\n",
       "      <th>station</th>\n",
       "      <th>value</th>\n",
       "    </tr>\n",
       "  </thead>\n",
       "  <tbody>\n",
       "    <tr>\n",
       "      <th>0</th>\n",
       "      <td>,,N,</td>\n",
       "      <td>PRCP</td>\n",
       "      <td>2018-01-01T00:00:00</td>\n",
       "      <td>GHCND:US1CTFR0039</td>\n",
       "      <td>0.0</td>\n",
       "    </tr>\n",
       "    <tr>\n",
       "      <th>1</th>\n",
       "      <td>,,N,</td>\n",
       "      <td>PRCP</td>\n",
       "      <td>2018-01-01T00:00:00</td>\n",
       "      <td>GHCND:US1NJBG0015</td>\n",
       "      <td>0.0</td>\n",
       "    </tr>\n",
       "    <tr>\n",
       "      <th>2</th>\n",
       "      <td>,,N,</td>\n",
       "      <td>SNOW</td>\n",
       "      <td>2018-01-01T00:00:00</td>\n",
       "      <td>GHCND:US1NJBG0015</td>\n",
       "      <td>0.0</td>\n",
       "    </tr>\n",
       "    <tr>\n",
       "      <th>3</th>\n",
       "      <td>,,N,</td>\n",
       "      <td>PRCP</td>\n",
       "      <td>2018-01-01T00:00:00</td>\n",
       "      <td>GHCND:US1NJBG0017</td>\n",
       "      <td>0.0</td>\n",
       "    </tr>\n",
       "    <tr>\n",
       "      <th>4</th>\n",
       "      <td>,,N,</td>\n",
       "      <td>SNOW</td>\n",
       "      <td>2018-01-01T00:00:00</td>\n",
       "      <td>GHCND:US1NJBG0017</td>\n",
       "      <td>0.0</td>\n",
       "    </tr>\n",
       "  </tbody>\n",
       "</table>\n",
       "</div>"
      ],
      "text/plain": [
       "  attributes datatype                 date            station  value\n",
       "0       ,,N,     PRCP  2018-01-01T00:00:00  GHCND:US1CTFR0039    0.0\n",
       "1       ,,N,     PRCP  2018-01-01T00:00:00  GHCND:US1NJBG0015    0.0\n",
       "2       ,,N,     SNOW  2018-01-01T00:00:00  GHCND:US1NJBG0015    0.0\n",
       "3       ,,N,     PRCP  2018-01-01T00:00:00  GHCND:US1NJBG0017    0.0\n",
       "4       ,,N,     SNOW  2018-01-01T00:00:00  GHCND:US1NJBG0017    0.0"
      ]
     },
     "execution_count": 30,
     "metadata": {},
     "output_type": "execute_result"
    }
   ],
   "source": [
    "weather.head()"
   ]
  },
  {
   "cell_type": "markdown",
   "id": "71614b5a-88c8-402c-93db-be66f66ef383",
   "metadata": {},
   "source": [
    "We can join our data by matching up the station_info.id column with the weather.station column. Before doing that though, let's see how many unique values we have:"
   ]
  },
  {
   "cell_type": "code",
   "execution_count": 33,
   "id": "93933b5f-fdd3-490e-acf7-12c257893039",
   "metadata": {},
   "outputs": [
    {
     "data": {
      "text/plain": [
       "count                   262\n",
       "unique                  262\n",
       "top       GHCND:US1CTFR0022\n",
       "freq                      1\n",
       "Name: id, dtype: object"
      ]
     },
     "execution_count": 33,
     "metadata": {},
     "output_type": "execute_result"
    }
   ],
   "source": [
    "station_info.id.describe()"
   ]
  },
  {
   "cell_type": "markdown",
   "id": "98b44aa4-f6cd-4b48-bcb5-6f3ec709a206",
   "metadata": {},
   "source": [
    "While station_info has one row per station, the weather dataframe has many entries per station. Notice it also has fewer uniques:"
   ]
  },
  {
   "cell_type": "code",
   "execution_count": 36,
   "id": "2be34ffd-252c-4951-bbc3-f61ab28ac71c",
   "metadata": {},
   "outputs": [
    {
     "data": {
      "text/plain": [
       "count                 80256\n",
       "unique                  109\n",
       "top       GHCND:USW00094789\n",
       "freq                   4270\n",
       "Name: station, dtype: object"
      ]
     },
     "execution_count": 36,
     "metadata": {},
     "output_type": "execute_result"
    }
   ],
   "source": [
    "weather.station.describe()"
   ]
  },
  {
   "cell_type": "markdown",
   "id": "fdf64c83-fcb1-4622-bde9-e04b18e70c76",
   "metadata": {},
   "source": [
    "When working with joins, it is important to keep an eye on the row count. Some join types will lead to data loss:"
   ]
  },
  {
   "cell_type": "code",
   "execution_count": 39,
   "id": "45cd10f3-9f28-4292-b6f8-8381aab09c77",
   "metadata": {},
   "outputs": [
    {
     "data": {
      "text/plain": [
       "(262, 80256)"
      ]
     },
     "execution_count": 39,
     "metadata": {},
     "output_type": "execute_result"
    }
   ],
   "source": [
    "station_info.shape[0], weather.shape[0]"
   ]
  },
  {
   "cell_type": "code",
   "execution_count": 41,
   "id": "f0a82c72-77a0-43fa-b6d2-3858172a41da",
   "metadata": {},
   "outputs": [
    {
     "data": {
      "text/plain": [
       "[262, 80256]"
      ]
     },
     "execution_count": 41,
     "metadata": {},
     "output_type": "execute_result"
    }
   ],
   "source": [
    "def grc(*dfs):\n",
    "  return [df.shape[0] for df in dfs]\n",
    "grc(station_info, weather)"
   ]
  },
  {
   "cell_type": "markdown",
   "id": "2e29ed09-8130-48f7-84a2-97540463cf20",
   "metadata": {},
   "source": [
    "The map() function is more efficient than list comprehensions. We can couple this with getattr() to grab any attribute for multiple dataframes"
   ]
  },
  {
   "cell_type": "code",
   "execution_count": 44,
   "id": "7fce382b-77c2-46c7-86a2-04b09269423a",
   "metadata": {},
   "outputs": [
    {
     "data": {
      "text/plain": [
       "[(262, 5), (80256, 5)]"
      ]
     },
     "execution_count": 44,
     "metadata": {},
     "output_type": "execute_result"
    }
   ],
   "source": [
    "def getinf(attr, *dfs):\n",
    "  return list(map(lambda x: getattr(x, attr), dfs))\n",
    "getinf('shape', station_info,weather)"
   ]
  },
  {
   "cell_type": "markdown",
   "id": "4e9e82c3-9c87-4773-adec-2a5d88ea2e7b",
   "metadata": {},
   "source": [
    "By default merge() performs an inner join. We simply specify the columns to use for the join. The left dataframe is the one we call merge() on, and the right one is passed in as an argument:"
   ]
  },
  {
   "cell_type": "code",
   "execution_count": 47,
   "id": "04284587-60d3-4ef7-8424-ed1fe25a4b3b",
   "metadata": {},
   "outputs": [
    {
     "data": {
      "text/html": [
       "<div>\n",
       "<style scoped>\n",
       "    .dataframe tbody tr th:only-of-type {\n",
       "        vertical-align: middle;\n",
       "    }\n",
       "\n",
       "    .dataframe tbody tr th {\n",
       "        vertical-align: top;\n",
       "    }\n",
       "\n",
       "    .dataframe thead th {\n",
       "        text-align: right;\n",
       "    }\n",
       "</style>\n",
       "<table border=\"1\" class=\"dataframe\">\n",
       "  <thead>\n",
       "    <tr style=\"text-align: right;\">\n",
       "      <th></th>\n",
       "      <th>attributes</th>\n",
       "      <th>datatype</th>\n",
       "      <th>date</th>\n",
       "      <th>station</th>\n",
       "      <th>value</th>\n",
       "      <th>id</th>\n",
       "      <th>name</th>\n",
       "      <th>latitude</th>\n",
       "      <th>longitude</th>\n",
       "      <th>elevation</th>\n",
       "    </tr>\n",
       "  </thead>\n",
       "  <tbody>\n",
       "    <tr>\n",
       "      <th>27422</th>\n",
       "      <td>,,W,</td>\n",
       "      <td>WDF5</td>\n",
       "      <td>2018-04-29T00:00:00</td>\n",
       "      <td>GHCND:USW00094741</td>\n",
       "      <td>310.0</td>\n",
       "      <td>GHCND:USW00094741</td>\n",
       "      <td>TETERBORO AIRPORT, NJ US</td>\n",
       "      <td>40.85000</td>\n",
       "      <td>-74.06139</td>\n",
       "      <td>2.7</td>\n",
       "    </tr>\n",
       "    <tr>\n",
       "      <th>19317</th>\n",
       "      <td>,,W,</td>\n",
       "      <td>WSF5</td>\n",
       "      <td>2018-03-24T00:00:00</td>\n",
       "      <td>GHCND:USW00094728</td>\n",
       "      <td>8.5</td>\n",
       "      <td>GHCND:USW00094728</td>\n",
       "      <td>NY CITY CENTRAL PARK, NY US</td>\n",
       "      <td>40.77898</td>\n",
       "      <td>-73.96925</td>\n",
       "      <td>42.7</td>\n",
       "    </tr>\n",
       "    <tr>\n",
       "      <th>13778</th>\n",
       "      <td>,,W,</td>\n",
       "      <td>PGTM</td>\n",
       "      <td>2018-03-01T00:00:00</td>\n",
       "      <td>GHCND:USW00054743</td>\n",
       "      <td>2351.0</td>\n",
       "      <td>GHCND:USW00054743</td>\n",
       "      <td>CALDWELL ESSEX CO AIRPORT, NJ US</td>\n",
       "      <td>40.87639</td>\n",
       "      <td>-74.28306</td>\n",
       "      <td>52.7</td>\n",
       "    </tr>\n",
       "    <tr>\n",
       "      <th>39633</th>\n",
       "      <td>,,W,</td>\n",
       "      <td>WSF2</td>\n",
       "      <td>2018-06-25T00:00:00</td>\n",
       "      <td>GHCND:USW00094789</td>\n",
       "      <td>11.2</td>\n",
       "      <td>GHCND:USW00094789</td>\n",
       "      <td>JFK INTERNATIONAL AIRPORT, NY US</td>\n",
       "      <td>40.63860</td>\n",
       "      <td>-73.76220</td>\n",
       "      <td>3.4</td>\n",
       "    </tr>\n",
       "    <tr>\n",
       "      <th>51025</th>\n",
       "      <td>,,7,0700</td>\n",
       "      <td>TMAX</td>\n",
       "      <td>2018-08-19T00:00:00</td>\n",
       "      <td>GHCND:USC00280907</td>\n",
       "      <td>30.0</td>\n",
       "      <td>GHCND:USC00280907</td>\n",
       "      <td>BOONTON 1 SE, NJ US</td>\n",
       "      <td>40.89174</td>\n",
       "      <td>-74.39635</td>\n",
       "      <td>85.3</td>\n",
       "    </tr>\n",
       "  </tbody>\n",
       "</table>\n",
       "</div>"
      ],
      "text/plain": [
       "      attributes datatype                 date            station   value  \\\n",
       "27422       ,,W,     WDF5  2018-04-29T00:00:00  GHCND:USW00094741   310.0   \n",
       "19317       ,,W,     WSF5  2018-03-24T00:00:00  GHCND:USW00094728     8.5   \n",
       "13778       ,,W,     PGTM  2018-03-01T00:00:00  GHCND:USW00054743  2351.0   \n",
       "39633       ,,W,     WSF2  2018-06-25T00:00:00  GHCND:USW00094789    11.2   \n",
       "51025   ,,7,0700     TMAX  2018-08-19T00:00:00  GHCND:USC00280907    30.0   \n",
       "\n",
       "                      id                              name  latitude  \\\n",
       "27422  GHCND:USW00094741          TETERBORO AIRPORT, NJ US  40.85000   \n",
       "19317  GHCND:USW00094728       NY CITY CENTRAL PARK, NY US  40.77898   \n",
       "13778  GHCND:USW00054743  CALDWELL ESSEX CO AIRPORT, NJ US  40.87639   \n",
       "39633  GHCND:USW00094789  JFK INTERNATIONAL AIRPORT, NY US  40.63860   \n",
       "51025  GHCND:USC00280907               BOONTON 1 SE, NJ US  40.89174   \n",
       "\n",
       "       longitude  elevation  \n",
       "27422  -74.06139        2.7  \n",
       "19317  -73.96925       42.7  \n",
       "13778  -74.28306       52.7  \n",
       "39633  -73.76220        3.4  \n",
       "51025  -74.39635       85.3  "
      ]
     },
     "execution_count": 47,
     "metadata": {},
     "output_type": "execute_result"
    }
   ],
   "source": [
    "injoin = weather.merge(station_info,left_on='station', right_on='id')\n",
    "injoin.sample(5, random_state=0)"
   ]
  },
  {
   "cell_type": "markdown",
   "id": "e35f2211-2110-45e4-9a1e-0f08d89dc59f",
   "metadata": {},
   "source": [
    "We can remove the duplication of information in the station and id columns by renaming one of them before the merge and then simply using on :"
   ]
  },
  {
   "cell_type": "code",
   "execution_count": 50,
   "id": "383cd691-3a27-46c6-a863-806e72cb6bb2",
   "metadata": {},
   "outputs": [
    {
     "data": {
      "text/html": [
       "<div>\n",
       "<style scoped>\n",
       "    .dataframe tbody tr th:only-of-type {\n",
       "        vertical-align: middle;\n",
       "    }\n",
       "\n",
       "    .dataframe tbody tr th {\n",
       "        vertical-align: top;\n",
       "    }\n",
       "\n",
       "    .dataframe thead th {\n",
       "        text-align: right;\n",
       "    }\n",
       "</style>\n",
       "<table border=\"1\" class=\"dataframe\">\n",
       "  <thead>\n",
       "    <tr style=\"text-align: right;\">\n",
       "      <th></th>\n",
       "      <th>attributes</th>\n",
       "      <th>datatype</th>\n",
       "      <th>date</th>\n",
       "      <th>station</th>\n",
       "      <th>value</th>\n",
       "      <th>name</th>\n",
       "      <th>latitude</th>\n",
       "      <th>longitude</th>\n",
       "      <th>elevation</th>\n",
       "    </tr>\n",
       "  </thead>\n",
       "  <tbody>\n",
       "    <tr>\n",
       "      <th>27422</th>\n",
       "      <td>,,W,</td>\n",
       "      <td>WDF5</td>\n",
       "      <td>2018-04-29T00:00:00</td>\n",
       "      <td>GHCND:USW00094741</td>\n",
       "      <td>310.0</td>\n",
       "      <td>TETERBORO AIRPORT, NJ US</td>\n",
       "      <td>40.85000</td>\n",
       "      <td>-74.06139</td>\n",
       "      <td>2.7</td>\n",
       "    </tr>\n",
       "    <tr>\n",
       "      <th>19317</th>\n",
       "      <td>,,W,</td>\n",
       "      <td>WSF5</td>\n",
       "      <td>2018-03-24T00:00:00</td>\n",
       "      <td>GHCND:USW00094728</td>\n",
       "      <td>8.5</td>\n",
       "      <td>NY CITY CENTRAL PARK, NY US</td>\n",
       "      <td>40.77898</td>\n",
       "      <td>-73.96925</td>\n",
       "      <td>42.7</td>\n",
       "    </tr>\n",
       "    <tr>\n",
       "      <th>13778</th>\n",
       "      <td>,,W,</td>\n",
       "      <td>PGTM</td>\n",
       "      <td>2018-03-01T00:00:00</td>\n",
       "      <td>GHCND:USW00054743</td>\n",
       "      <td>2351.0</td>\n",
       "      <td>CALDWELL ESSEX CO AIRPORT, NJ US</td>\n",
       "      <td>40.87639</td>\n",
       "      <td>-74.28306</td>\n",
       "      <td>52.7</td>\n",
       "    </tr>\n",
       "    <tr>\n",
       "      <th>39633</th>\n",
       "      <td>,,W,</td>\n",
       "      <td>WSF2</td>\n",
       "      <td>2018-06-25T00:00:00</td>\n",
       "      <td>GHCND:USW00094789</td>\n",
       "      <td>11.2</td>\n",
       "      <td>JFK INTERNATIONAL AIRPORT, NY US</td>\n",
       "      <td>40.63860</td>\n",
       "      <td>-73.76220</td>\n",
       "      <td>3.4</td>\n",
       "    </tr>\n",
       "    <tr>\n",
       "      <th>51025</th>\n",
       "      <td>,,7,0700</td>\n",
       "      <td>TMAX</td>\n",
       "      <td>2018-08-19T00:00:00</td>\n",
       "      <td>GHCND:USC00280907</td>\n",
       "      <td>30.0</td>\n",
       "      <td>BOONTON 1 SE, NJ US</td>\n",
       "      <td>40.89174</td>\n",
       "      <td>-74.39635</td>\n",
       "      <td>85.3</td>\n",
       "    </tr>\n",
       "  </tbody>\n",
       "</table>\n",
       "</div>"
      ],
      "text/plain": [
       "      attributes datatype                 date            station   value  \\\n",
       "27422       ,,W,     WDF5  2018-04-29T00:00:00  GHCND:USW00094741   310.0   \n",
       "19317       ,,W,     WSF5  2018-03-24T00:00:00  GHCND:USW00094728     8.5   \n",
       "13778       ,,W,     PGTM  2018-03-01T00:00:00  GHCND:USW00054743  2351.0   \n",
       "39633       ,,W,     WSF2  2018-06-25T00:00:00  GHCND:USW00094789    11.2   \n",
       "51025   ,,7,0700     TMAX  2018-08-19T00:00:00  GHCND:USC00280907    30.0   \n",
       "\n",
       "                                   name  latitude  longitude  elevation  \n",
       "27422          TETERBORO AIRPORT, NJ US  40.85000  -74.06139        2.7  \n",
       "19317       NY CITY CENTRAL PARK, NY US  40.77898  -73.96925       42.7  \n",
       "13778  CALDWELL ESSEX CO AIRPORT, NJ US  40.87639  -74.28306       52.7  \n",
       "39633  JFK INTERNATIONAL AIRPORT, NY US  40.63860  -73.76220        3.4  \n",
       "51025               BOONTON 1 SE, NJ US  40.89174  -74.39635       85.3  "
      ]
     },
     "execution_count": 50,
     "metadata": {},
     "output_type": "execute_result"
    }
   ],
   "source": [
    "weather.merge(station_info.rename(dict(id='station'),axis=1),on='station').sample(5, random_state=0)"
   ]
  },
  {
   "cell_type": "markdown",
   "id": "bafdac19-8fed-4e28-8d20-bb07daa6d14f",
   "metadata": {},
   "source": [
    "We are losing stations that don't have weather observations associated with them, if we don't want to lose these rows, we perform a right or left join instead of the inner join:"
   ]
  },
  {
   "cell_type": "code",
   "execution_count": 53,
   "id": "a7c08555-69b8-414f-b49c-12fa0ab3568c",
   "metadata": {},
   "outputs": [
    {
     "data": {
      "text/html": [
       "<div>\n",
       "<style scoped>\n",
       "    .dataframe tbody tr th:only-of-type {\n",
       "        vertical-align: middle;\n",
       "    }\n",
       "\n",
       "    .dataframe tbody tr th {\n",
       "        vertical-align: top;\n",
       "    }\n",
       "\n",
       "    .dataframe thead th {\n",
       "        text-align: right;\n",
       "    }\n",
       "</style>\n",
       "<table border=\"1\" class=\"dataframe\">\n",
       "  <thead>\n",
       "    <tr style=\"text-align: right;\">\n",
       "      <th></th>\n",
       "      <th>attributes</th>\n",
       "      <th>datatype</th>\n",
       "      <th>date</th>\n",
       "      <th>station</th>\n",
       "      <th>value</th>\n",
       "      <th>id</th>\n",
       "      <th>name</th>\n",
       "      <th>latitude</th>\n",
       "      <th>longitude</th>\n",
       "      <th>elevation</th>\n",
       "    </tr>\n",
       "  </thead>\n",
       "  <tbody>\n",
       "    <tr>\n",
       "      <th>80404</th>\n",
       "      <td>,,W,</td>\n",
       "      <td>WDF5</td>\n",
       "      <td>2018-12-31T00:00:00</td>\n",
       "      <td>GHCND:USW00094789</td>\n",
       "      <td>130.0</td>\n",
       "      <td>GHCND:USW00094789</td>\n",
       "      <td>JFK INTERNATIONAL AIRPORT, NY US</td>\n",
       "      <td>40.6386</td>\n",
       "      <td>-73.7622</td>\n",
       "      <td>3.4</td>\n",
       "    </tr>\n",
       "    <tr>\n",
       "      <th>80405</th>\n",
       "      <td>,,W,</td>\n",
       "      <td>WSF2</td>\n",
       "      <td>2018-12-31T00:00:00</td>\n",
       "      <td>GHCND:USW00094789</td>\n",
       "      <td>9.8</td>\n",
       "      <td>GHCND:USW00094789</td>\n",
       "      <td>JFK INTERNATIONAL AIRPORT, NY US</td>\n",
       "      <td>40.6386</td>\n",
       "      <td>-73.7622</td>\n",
       "      <td>3.4</td>\n",
       "    </tr>\n",
       "    <tr>\n",
       "      <th>80406</th>\n",
       "      <td>,,W,</td>\n",
       "      <td>WSF5</td>\n",
       "      <td>2018-12-31T00:00:00</td>\n",
       "      <td>GHCND:USW00094789</td>\n",
       "      <td>12.5</td>\n",
       "      <td>GHCND:USW00094789</td>\n",
       "      <td>JFK INTERNATIONAL AIRPORT, NY US</td>\n",
       "      <td>40.6386</td>\n",
       "      <td>-73.7622</td>\n",
       "      <td>3.4</td>\n",
       "    </tr>\n",
       "    <tr>\n",
       "      <th>80407</th>\n",
       "      <td>,,W,</td>\n",
       "      <td>WT01</td>\n",
       "      <td>2018-12-31T00:00:00</td>\n",
       "      <td>GHCND:USW00094789</td>\n",
       "      <td>1.0</td>\n",
       "      <td>GHCND:USW00094789</td>\n",
       "      <td>JFK INTERNATIONAL AIRPORT, NY US</td>\n",
       "      <td>40.6386</td>\n",
       "      <td>-73.7622</td>\n",
       "      <td>3.4</td>\n",
       "    </tr>\n",
       "    <tr>\n",
       "      <th>80408</th>\n",
       "      <td>,,W,</td>\n",
       "      <td>WT02</td>\n",
       "      <td>2018-12-31T00:00:00</td>\n",
       "      <td>GHCND:USW00094789</td>\n",
       "      <td>1.0</td>\n",
       "      <td>GHCND:USW00094789</td>\n",
       "      <td>JFK INTERNATIONAL AIRPORT, NY US</td>\n",
       "      <td>40.6386</td>\n",
       "      <td>-73.7622</td>\n",
       "      <td>3.4</td>\n",
       "    </tr>\n",
       "  </tbody>\n",
       "</table>\n",
       "</div>"
      ],
      "text/plain": [
       "      attributes datatype                 date            station  value  \\\n",
       "80404       ,,W,     WDF5  2018-12-31T00:00:00  GHCND:USW00094789  130.0   \n",
       "80405       ,,W,     WSF2  2018-12-31T00:00:00  GHCND:USW00094789    9.8   \n",
       "80406       ,,W,     WSF5  2018-12-31T00:00:00  GHCND:USW00094789   12.5   \n",
       "80407       ,,W,     WT01  2018-12-31T00:00:00  GHCND:USW00094789    1.0   \n",
       "80408       ,,W,     WT02  2018-12-31T00:00:00  GHCND:USW00094789    1.0   \n",
       "\n",
       "                      id                              name  latitude  \\\n",
       "80404  GHCND:USW00094789  JFK INTERNATIONAL AIRPORT, NY US   40.6386   \n",
       "80405  GHCND:USW00094789  JFK INTERNATIONAL AIRPORT, NY US   40.6386   \n",
       "80406  GHCND:USW00094789  JFK INTERNATIONAL AIRPORT, NY US   40.6386   \n",
       "80407  GHCND:USW00094789  JFK INTERNATIONAL AIRPORT, NY US   40.6386   \n",
       "80408  GHCND:USW00094789  JFK INTERNATIONAL AIRPORT, NY US   40.6386   \n",
       "\n",
       "       longitude  elevation  \n",
       "80404   -73.7622        3.4  \n",
       "80405   -73.7622        3.4  \n",
       "80406   -73.7622        3.4  \n",
       "80407   -73.7622        3.4  \n",
       "80408   -73.7622        3.4  "
      ]
     },
     "execution_count": 53,
     "metadata": {},
     "output_type": "execute_result"
    }
   ],
   "source": [
    "left_join = station_info.merge(weather, left_on='id',right_on='station', how='left')\n",
    "right_join = weather.merge(station_info, left_on='station',right_on='id', how='right')\n",
    "\n",
    "right_join.tail()"
   ]
  },
  {
   "cell_type": "code",
   "execution_count": 55,
   "id": "092850aa-685c-42f1-9fd2-6cb316090b0b",
   "metadata": {},
   "outputs": [
    {
     "data": {
      "text/plain": [
       "True"
      ]
     },
     "execution_count": 55,
     "metadata": {},
     "output_type": "execute_result"
    }
   ],
   "source": [
    "left_join.sort_index(axis=1).sort_values(['date','station']).reset_index().drop(columns='index').equals(\n",
    "    right_join.sort_index(axis=1).sort_values(['date','station']).reset_index().drop(columns='index')\n",
    ")\n",
    "  "
   ]
  },
  {
   "cell_type": "markdown",
   "id": "6a2a95d5-d926-4c5c-b614-dc06fe7a3b0c",
   "metadata": {},
   "source": [
    "Note we have additional rows in the left and right joins because we kept all the stations that didn't have weather observations:"
   ]
  },
  {
   "cell_type": "code",
   "execution_count": 58,
   "id": "7db2edc1-1369-4bf5-b663-0c704d0bf15d",
   "metadata": {},
   "outputs": [
    {
     "data": {
      "text/plain": [
       "[(80256, 10), (80409, 10), (80409, 10)]"
      ]
     },
     "execution_count": 58,
     "metadata": {},
     "output_type": "execute_result"
    }
   ],
   "source": [
    "getinf('shape', injoin, left_join, right_join)"
   ]
  },
  {
   "cell_type": "markdown",
   "id": "22ccfaa9-1223-41c3-aea3-94650194cbb7",
   "metadata": {},
   "source": [
    "If we query the station information for stations that have NY in their name, believing that to be all the stations that record weather data for NYC and perform an outer join, we can see where the mismatches occur:"
   ]
  },
  {
   "cell_type": "code",
   "execution_count": 61,
   "id": "9c041819-b10f-4036-b498-8513d603a157",
   "metadata": {},
   "outputs": [
    {
     "data": {
      "text/html": [
       "<div>\n",
       "<style scoped>\n",
       "    .dataframe tbody tr th:only-of-type {\n",
       "        vertical-align: middle;\n",
       "    }\n",
       "\n",
       "    .dataframe tbody tr th {\n",
       "        vertical-align: top;\n",
       "    }\n",
       "\n",
       "    .dataframe thead th {\n",
       "        text-align: right;\n",
       "    }\n",
       "</style>\n",
       "<table border=\"1\" class=\"dataframe\">\n",
       "  <thead>\n",
       "    <tr style=\"text-align: right;\">\n",
       "      <th></th>\n",
       "      <th>attributes</th>\n",
       "      <th>datatype</th>\n",
       "      <th>date</th>\n",
       "      <th>station</th>\n",
       "      <th>value</th>\n",
       "      <th>id</th>\n",
       "      <th>name</th>\n",
       "      <th>latitude</th>\n",
       "      <th>longitude</th>\n",
       "      <th>elevation</th>\n",
       "      <th>_merge</th>\n",
       "    </tr>\n",
       "  </thead>\n",
       "  <tbody>\n",
       "    <tr>\n",
       "      <th>17259</th>\n",
       "      <td>,,N,</td>\n",
       "      <td>SNOW</td>\n",
       "      <td>2018-07-20T00:00:00</td>\n",
       "      <td>GHCND:US1NJMS0075</td>\n",
       "      <td>0.0</td>\n",
       "      <td>NaN</td>\n",
       "      <td>NaN</td>\n",
       "      <td>NaN</td>\n",
       "      <td>NaN</td>\n",
       "      <td>NaN</td>\n",
       "      <td>left_only</td>\n",
       "    </tr>\n",
       "    <tr>\n",
       "      <th>76178</th>\n",
       "      <td>,,W,</td>\n",
       "      <td>AWND</td>\n",
       "      <td>2018-01-12T00:00:00</td>\n",
       "      <td>GHCND:USW00094789</td>\n",
       "      <td>7.2</td>\n",
       "      <td>GHCND:USW00094789</td>\n",
       "      <td>JFK INTERNATIONAL AIRPORT, NY US</td>\n",
       "      <td>40.63860</td>\n",
       "      <td>-73.7622</td>\n",
       "      <td>3.4</td>\n",
       "      <td>both</td>\n",
       "    </tr>\n",
       "    <tr>\n",
       "      <th>73410</th>\n",
       "      <td>T,,W,2400</td>\n",
       "      <td>PRCP</td>\n",
       "      <td>2018-03-16T00:00:00</td>\n",
       "      <td>GHCND:USW00094745</td>\n",
       "      <td>0.0</td>\n",
       "      <td>GHCND:USW00094745</td>\n",
       "      <td>WESTCHESTER CO AIRPORT, NY US</td>\n",
       "      <td>41.06694</td>\n",
       "      <td>-73.7075</td>\n",
       "      <td>115.5</td>\n",
       "      <td>both</td>\n",
       "    </tr>\n",
       "    <tr>\n",
       "      <th>74822</th>\n",
       "      <td>,,W,</td>\n",
       "      <td>PGTM</td>\n",
       "      <td>2018-08-20T00:00:00</td>\n",
       "      <td>GHCND:USW00094745</td>\n",
       "      <td>1641.0</td>\n",
       "      <td>GHCND:USW00094745</td>\n",
       "      <td>WESTCHESTER CO AIRPORT, NY US</td>\n",
       "      <td>41.06694</td>\n",
       "      <td>-73.7075</td>\n",
       "      <td>115.5</td>\n",
       "      <td>both</td>\n",
       "    </tr>\n",
       "    <tr>\n",
       "      <th>14954</th>\n",
       "      <td>NaN</td>\n",
       "      <td>NaN</td>\n",
       "      <td>NaN</td>\n",
       "      <td>NaN</td>\n",
       "      <td>NaN</td>\n",
       "      <td>GHCND:US1NJMS0036</td>\n",
       "      <td>PARSIPPANY TROY HILLS TWP 2.1, NJ US</td>\n",
       "      <td>40.86560</td>\n",
       "      <td>-74.3851</td>\n",
       "      <td>64.3</td>\n",
       "      <td>right_only</td>\n",
       "    </tr>\n",
       "    <tr>\n",
       "      <th>14955</th>\n",
       "      <td>NaN</td>\n",
       "      <td>NaN</td>\n",
       "      <td>NaN</td>\n",
       "      <td>NaN</td>\n",
       "      <td>NaN</td>\n",
       "      <td>GHCND:US1NJMS0039</td>\n",
       "      <td>PARSIPPANY TROY HILLS TWP 1.3, NJ US</td>\n",
       "      <td>40.85330</td>\n",
       "      <td>-74.4470</td>\n",
       "      <td>94.2</td>\n",
       "      <td>right_only</td>\n",
       "    </tr>\n",
       "  </tbody>\n",
       "</table>\n",
       "</div>"
      ],
      "text/plain": [
       "      attributes datatype                 date            station   value  \\\n",
       "17259       ,,N,     SNOW  2018-07-20T00:00:00  GHCND:US1NJMS0075     0.0   \n",
       "76178       ,,W,     AWND  2018-01-12T00:00:00  GHCND:USW00094789     7.2   \n",
       "73410  T,,W,2400     PRCP  2018-03-16T00:00:00  GHCND:USW00094745     0.0   \n",
       "74822       ,,W,     PGTM  2018-08-20T00:00:00  GHCND:USW00094745  1641.0   \n",
       "14954        NaN      NaN                  NaN                NaN     NaN   \n",
       "14955        NaN      NaN                  NaN                NaN     NaN   \n",
       "\n",
       "                      id                                  name  latitude  \\\n",
       "17259                NaN                                   NaN       NaN   \n",
       "76178  GHCND:USW00094789      JFK INTERNATIONAL AIRPORT, NY US  40.63860   \n",
       "73410  GHCND:USW00094745         WESTCHESTER CO AIRPORT, NY US  41.06694   \n",
       "74822  GHCND:USW00094745         WESTCHESTER CO AIRPORT, NY US  41.06694   \n",
       "14954  GHCND:US1NJMS0036  PARSIPPANY TROY HILLS TWP 2.1, NJ US  40.86560   \n",
       "14955  GHCND:US1NJMS0039  PARSIPPANY TROY HILLS TWP 1.3, NJ US  40.85330   \n",
       "\n",
       "       longitude  elevation      _merge  \n",
       "17259        NaN        NaN   left_only  \n",
       "76178   -73.7622        3.4        both  \n",
       "73410   -73.7075      115.5        both  \n",
       "74822   -73.7075      115.5        both  \n",
       "14954   -74.3851       64.3  right_only  \n",
       "14955   -74.4470       94.2  right_only  "
      ]
     },
     "execution_count": 61,
     "metadata": {},
     "output_type": "execute_result"
    }
   ],
   "source": [
    "outer_join = weather.merge(\n",
    "    station_info[station_info.name.str.contains('NY')],\n",
    "    left_on='station',right_on='id', how='outer', indicator=True\n",
    ")\n",
    "pd.concat([outer_join.sample(4, random_state=0),outer_join[outer_join.station.isna()].head(2)]) # I used concat and not used append as it was an older version of pandas"
   ]
  },
  {
   "cell_type": "markdown",
   "id": "64cc81df-5a61-406f-8849-855b95a49373",
   "metadata": {},
   "source": [
    "These joins are equivalent to their SQL counterparts. Below is the inner join. Note that to use equals() you will have to do some manipulation of the dataframes to line them up:"
   ]
  },
  {
   "cell_type": "code",
   "execution_count": 64,
   "id": "8dcbd33a-c305-4428-85a2-da96b3464be9",
   "metadata": {},
   "outputs": [
    {
     "data": {
      "text/plain": [
       "True"
      ]
     },
     "execution_count": 64,
     "metadata": {},
     "output_type": "execute_result"
    }
   ],
   "source": [
    "import sqlite3 as sq3\n",
    "\n",
    "with sq3.connect('weather.db') as connection:\n",
    "  inner_join_from_db = pd.read_sql('SELECT * FROM weather JOIN stations ON weather.station == stations.id',connection)\n",
    "\n",
    "inner_join_from_db.shape == injoin.shape"
   ]
  },
  {
   "cell_type": "markdown",
   "id": "5c44f6c4-67ef-4f76-9c1d-91bb7eed0836",
   "metadata": {},
   "source": [
    "Revisit the dirty data from the previous module."
   ]
  },
  {
   "cell_type": "code",
   "execution_count": 67,
   "id": "4d7fa917-1564-459d-81da-eb5a7e8bff1d",
   "metadata": {},
   "outputs": [
    {
     "data": {
      "text/html": [
       "<div>\n",
       "<style scoped>\n",
       "    .dataframe tbody tr th:only-of-type {\n",
       "        vertical-align: middle;\n",
       "    }\n",
       "\n",
       "    .dataframe tbody tr th {\n",
       "        vertical-align: top;\n",
       "    }\n",
       "\n",
       "    .dataframe thead th {\n",
       "        text-align: right;\n",
       "    }\n",
       "</style>\n",
       "<table border=\"1\" class=\"dataframe\">\n",
       "  <thead>\n",
       "    <tr style=\"text-align: right;\">\n",
       "      <th></th>\n",
       "      <th>station</th>\n",
       "      <th>PRCP</th>\n",
       "      <th>SNOW</th>\n",
       "      <th>TMAX</th>\n",
       "      <th>TMIN</th>\n",
       "      <th>TOBS</th>\n",
       "      <th>WESF</th>\n",
       "      <th>inclement_weather</th>\n",
       "    </tr>\n",
       "    <tr>\n",
       "      <th>date</th>\n",
       "      <th></th>\n",
       "      <th></th>\n",
       "      <th></th>\n",
       "      <th></th>\n",
       "      <th></th>\n",
       "      <th></th>\n",
       "      <th></th>\n",
       "      <th></th>\n",
       "    </tr>\n",
       "  </thead>\n",
       "  <tbody>\n",
       "    <tr>\n",
       "      <th>2018-01-01T00:00:00</th>\n",
       "      <td>?</td>\n",
       "      <td>0.0</td>\n",
       "      <td>0.0</td>\n",
       "      <td>5505.0</td>\n",
       "      <td>-40.0</td>\n",
       "      <td>NaN</td>\n",
       "      <td>NaN</td>\n",
       "      <td>NaN</td>\n",
       "    </tr>\n",
       "    <tr>\n",
       "      <th>2018-01-02T00:00:00</th>\n",
       "      <td>GHCND:USC00280907</td>\n",
       "      <td>0.0</td>\n",
       "      <td>0.0</td>\n",
       "      <td>-8.3</td>\n",
       "      <td>-16.1</td>\n",
       "      <td>-12.2</td>\n",
       "      <td>NaN</td>\n",
       "      <td>False</td>\n",
       "    </tr>\n",
       "    <tr>\n",
       "      <th>2018-01-03T00:00:00</th>\n",
       "      <td>GHCND:USC00280907</td>\n",
       "      <td>0.0</td>\n",
       "      <td>0.0</td>\n",
       "      <td>-4.4</td>\n",
       "      <td>-13.9</td>\n",
       "      <td>-13.3</td>\n",
       "      <td>NaN</td>\n",
       "      <td>False</td>\n",
       "    </tr>\n",
       "    <tr>\n",
       "      <th>2018-01-04T00:00:00</th>\n",
       "      <td>?</td>\n",
       "      <td>20.6</td>\n",
       "      <td>229.0</td>\n",
       "      <td>5505.0</td>\n",
       "      <td>-40.0</td>\n",
       "      <td>NaN</td>\n",
       "      <td>19.3</td>\n",
       "      <td>True</td>\n",
       "    </tr>\n",
       "    <tr>\n",
       "      <th>2018-01-05T00:00:00</th>\n",
       "      <td>?</td>\n",
       "      <td>0.3</td>\n",
       "      <td>NaN</td>\n",
       "      <td>5505.0</td>\n",
       "      <td>-40.0</td>\n",
       "      <td>NaN</td>\n",
       "      <td>NaN</td>\n",
       "      <td>NaN</td>\n",
       "    </tr>\n",
       "  </tbody>\n",
       "</table>\n",
       "</div>"
      ],
      "text/plain": [
       "                               station  PRCP   SNOW    TMAX  TMIN  TOBS  WESF  \\\n",
       "date                                                                            \n",
       "2018-01-01T00:00:00                  ?   0.0    0.0  5505.0 -40.0   NaN   NaN   \n",
       "2018-01-02T00:00:00  GHCND:USC00280907   0.0    0.0    -8.3 -16.1 -12.2   NaN   \n",
       "2018-01-03T00:00:00  GHCND:USC00280907   0.0    0.0    -4.4 -13.9 -13.3   NaN   \n",
       "2018-01-04T00:00:00                  ?  20.6  229.0  5505.0 -40.0   NaN  19.3   \n",
       "2018-01-05T00:00:00                  ?   0.3    NaN  5505.0 -40.0   NaN   NaN   \n",
       "\n",
       "                    inclement_weather  \n",
       "date                                   \n",
       "2018-01-01T00:00:00               NaN  \n",
       "2018-01-02T00:00:00             False  \n",
       "2018-01-03T00:00:00             False  \n",
       "2018-01-04T00:00:00              True  \n",
       "2018-01-05T00:00:00               NaN  "
      ]
     },
     "execution_count": 67,
     "metadata": {},
     "output_type": "execute_result"
    }
   ],
   "source": [
    "dirty_data = pd.read_csv('dirty_data2.csv', index_col='date').drop_duplicates().drop(columns='SNWD')\n",
    "dirty_data.head()"
   ]
  },
  {
   "cell_type": "markdown",
   "id": "588d18da-a085-46da-87f3-66867529c648",
   "metadata": {},
   "source": [
    "We need to create two dataframes for the join. We will drop some unecessary columns as well for easier viewing:"
   ]
  },
  {
   "cell_type": "code",
   "execution_count": 70,
   "id": "b4d45d1c-cb13-44da-b5dd-006cc6438ac1",
   "metadata": {},
   "outputs": [],
   "source": [
    "valid_station = dirty_data.query('station != \"?\"').copy().drop(columns=['WESF','station'])\n",
    "sta_with_wesf = dirty_data.query('station == \"?\"').copy().drop(columns=['station', 'TOBS', 'TMIN', 'TMAX'])"
   ]
  },
  {
   "cell_type": "markdown",
   "id": "19bd27e9-1d62-4d23-9135-f6c029e6215d",
   "metadata": {},
   "source": [
    "Our column for the join is the index in both dataframes, so we must specify left_index and right_index :"
   ]
  },
  {
   "cell_type": "code",
   "execution_count": 73,
   "id": "8baa84a5-85cc-486d-9775-c792b8df79c9",
   "metadata": {},
   "outputs": [
    {
     "data": {
      "text/html": [
       "<div>\n",
       "<style scoped>\n",
       "    .dataframe tbody tr th:only-of-type {\n",
       "        vertical-align: middle;\n",
       "    }\n",
       "\n",
       "    .dataframe tbody tr th {\n",
       "        vertical-align: top;\n",
       "    }\n",
       "\n",
       "    .dataframe thead th {\n",
       "        text-align: right;\n",
       "    }\n",
       "</style>\n",
       "<table border=\"1\" class=\"dataframe\">\n",
       "  <thead>\n",
       "    <tr style=\"text-align: right;\">\n",
       "      <th></th>\n",
       "      <th>PRCP_x</th>\n",
       "      <th>SNOW_x</th>\n",
       "      <th>TMAX</th>\n",
       "      <th>TMIN</th>\n",
       "      <th>TOBS</th>\n",
       "      <th>inclement_weather_x</th>\n",
       "      <th>PRCP_y</th>\n",
       "      <th>SNOW_y</th>\n",
       "      <th>WESF</th>\n",
       "      <th>inclement_weather_y</th>\n",
       "    </tr>\n",
       "    <tr>\n",
       "      <th>date</th>\n",
       "      <th></th>\n",
       "      <th></th>\n",
       "      <th></th>\n",
       "      <th></th>\n",
       "      <th></th>\n",
       "      <th></th>\n",
       "      <th></th>\n",
       "      <th></th>\n",
       "      <th></th>\n",
       "      <th></th>\n",
       "    </tr>\n",
       "  </thead>\n",
       "  <tbody>\n",
       "    <tr>\n",
       "      <th>2018-01-30T00:00:00</th>\n",
       "      <td>0.0</td>\n",
       "      <td>0.0</td>\n",
       "      <td>6.7</td>\n",
       "      <td>-1.7</td>\n",
       "      <td>-0.6</td>\n",
       "      <td>False</td>\n",
       "      <td>1.5</td>\n",
       "      <td>13.0</td>\n",
       "      <td>1.8</td>\n",
       "      <td>True</td>\n",
       "    </tr>\n",
       "    <tr>\n",
       "      <th>2018-03-08T00:00:00</th>\n",
       "      <td>48.8</td>\n",
       "      <td>NaN</td>\n",
       "      <td>1.1</td>\n",
       "      <td>-0.6</td>\n",
       "      <td>1.1</td>\n",
       "      <td>False</td>\n",
       "      <td>28.4</td>\n",
       "      <td>NaN</td>\n",
       "      <td>28.7</td>\n",
       "      <td>NaN</td>\n",
       "    </tr>\n",
       "    <tr>\n",
       "      <th>2018-03-13T00:00:00</th>\n",
       "      <td>4.1</td>\n",
       "      <td>51.0</td>\n",
       "      <td>5.6</td>\n",
       "      <td>-3.9</td>\n",
       "      <td>0.0</td>\n",
       "      <td>True</td>\n",
       "      <td>3.0</td>\n",
       "      <td>13.0</td>\n",
       "      <td>3.0</td>\n",
       "      <td>True</td>\n",
       "    </tr>\n",
       "    <tr>\n",
       "      <th>2018-03-21T00:00:00</th>\n",
       "      <td>0.0</td>\n",
       "      <td>0.0</td>\n",
       "      <td>2.8</td>\n",
       "      <td>-2.8</td>\n",
       "      <td>0.6</td>\n",
       "      <td>False</td>\n",
       "      <td>6.6</td>\n",
       "      <td>114.0</td>\n",
       "      <td>8.6</td>\n",
       "      <td>True</td>\n",
       "    </tr>\n",
       "    <tr>\n",
       "      <th>2018-04-02T00:00:00</th>\n",
       "      <td>9.1</td>\n",
       "      <td>127.0</td>\n",
       "      <td>12.8</td>\n",
       "      <td>-1.1</td>\n",
       "      <td>-1.1</td>\n",
       "      <td>True</td>\n",
       "      <td>14.0</td>\n",
       "      <td>152.0</td>\n",
       "      <td>15.2</td>\n",
       "      <td>True</td>\n",
       "    </tr>\n",
       "  </tbody>\n",
       "</table>\n",
       "</div>"
      ],
      "text/plain": [
       "                     PRCP_x  SNOW_x  TMAX  TMIN  TOBS inclement_weather_x  \\\n",
       "date                                                                        \n",
       "2018-01-30T00:00:00     0.0     0.0   6.7  -1.7  -0.6               False   \n",
       "2018-03-08T00:00:00    48.8     NaN   1.1  -0.6   1.1               False   \n",
       "2018-03-13T00:00:00     4.1    51.0   5.6  -3.9   0.0                True   \n",
       "2018-03-21T00:00:00     0.0     0.0   2.8  -2.8   0.6               False   \n",
       "2018-04-02T00:00:00     9.1   127.0  12.8  -1.1  -1.1                True   \n",
       "\n",
       "                     PRCP_y  SNOW_y  WESF inclement_weather_y  \n",
       "date                                                           \n",
       "2018-01-30T00:00:00     1.5    13.0   1.8                True  \n",
       "2018-03-08T00:00:00    28.4     NaN  28.7                 NaN  \n",
       "2018-03-13T00:00:00     3.0    13.0   3.0                True  \n",
       "2018-03-21T00:00:00     6.6   114.0   8.6                True  \n",
       "2018-04-02T00:00:00    14.0   152.0  15.2                True  "
      ]
     },
     "execution_count": 73,
     "metadata": {},
     "output_type": "execute_result"
    }
   ],
   "source": [
    "valid_station.merge(sta_with_wesf, left_index=True, right_index=True).query('WESF>0').head()"
   ]
  },
  {
   "cell_type": "markdown",
   "id": "3976e546-be37-4224-8ff5-f66257a09952",
   "metadata": {},
   "source": [
    "The columns that existed in both dataframes, but didn't form part of the join got suffixes added to their names: _ x _ for columns from the left dataframe and _y_ for columns from the right dataframe. We can customize this with the suffixes argument:"
   ]
  },
  {
   "cell_type": "code",
   "execution_count": 76,
   "id": "eec61c46-1490-4639-a852-a1088c0cc573",
   "metadata": {},
   "outputs": [
    {
     "data": {
      "text/html": [
       "<div>\n",
       "<style scoped>\n",
       "    .dataframe tbody tr th:only-of-type {\n",
       "        vertical-align: middle;\n",
       "    }\n",
       "\n",
       "    .dataframe tbody tr th {\n",
       "        vertical-align: top;\n",
       "    }\n",
       "\n",
       "    .dataframe thead th {\n",
       "        text-align: right;\n",
       "    }\n",
       "</style>\n",
       "<table border=\"1\" class=\"dataframe\">\n",
       "  <thead>\n",
       "    <tr style=\"text-align: right;\">\n",
       "      <th></th>\n",
       "      <th>PRCP</th>\n",
       "      <th>SNOW</th>\n",
       "      <th>TMAX</th>\n",
       "      <th>TMIN</th>\n",
       "      <th>TOBS</th>\n",
       "      <th>inclement_weather</th>\n",
       "      <th>PRCP_?</th>\n",
       "      <th>SNOW_?</th>\n",
       "      <th>WESF</th>\n",
       "      <th>inclement_weather_?</th>\n",
       "    </tr>\n",
       "    <tr>\n",
       "      <th>date</th>\n",
       "      <th></th>\n",
       "      <th></th>\n",
       "      <th></th>\n",
       "      <th></th>\n",
       "      <th></th>\n",
       "      <th></th>\n",
       "      <th></th>\n",
       "      <th></th>\n",
       "      <th></th>\n",
       "      <th></th>\n",
       "    </tr>\n",
       "  </thead>\n",
       "  <tbody>\n",
       "    <tr>\n",
       "      <th>2018-01-30T00:00:00</th>\n",
       "      <td>0.0</td>\n",
       "      <td>0.0</td>\n",
       "      <td>6.7</td>\n",
       "      <td>-1.7</td>\n",
       "      <td>-0.6</td>\n",
       "      <td>False</td>\n",
       "      <td>1.5</td>\n",
       "      <td>13.0</td>\n",
       "      <td>1.8</td>\n",
       "      <td>True</td>\n",
       "    </tr>\n",
       "    <tr>\n",
       "      <th>2018-03-08T00:00:00</th>\n",
       "      <td>48.8</td>\n",
       "      <td>NaN</td>\n",
       "      <td>1.1</td>\n",
       "      <td>-0.6</td>\n",
       "      <td>1.1</td>\n",
       "      <td>False</td>\n",
       "      <td>28.4</td>\n",
       "      <td>NaN</td>\n",
       "      <td>28.7</td>\n",
       "      <td>NaN</td>\n",
       "    </tr>\n",
       "    <tr>\n",
       "      <th>2018-03-13T00:00:00</th>\n",
       "      <td>4.1</td>\n",
       "      <td>51.0</td>\n",
       "      <td>5.6</td>\n",
       "      <td>-3.9</td>\n",
       "      <td>0.0</td>\n",
       "      <td>True</td>\n",
       "      <td>3.0</td>\n",
       "      <td>13.0</td>\n",
       "      <td>3.0</td>\n",
       "      <td>True</td>\n",
       "    </tr>\n",
       "    <tr>\n",
       "      <th>2018-03-21T00:00:00</th>\n",
       "      <td>0.0</td>\n",
       "      <td>0.0</td>\n",
       "      <td>2.8</td>\n",
       "      <td>-2.8</td>\n",
       "      <td>0.6</td>\n",
       "      <td>False</td>\n",
       "      <td>6.6</td>\n",
       "      <td>114.0</td>\n",
       "      <td>8.6</td>\n",
       "      <td>True</td>\n",
       "    </tr>\n",
       "    <tr>\n",
       "      <th>2018-04-02T00:00:00</th>\n",
       "      <td>9.1</td>\n",
       "      <td>127.0</td>\n",
       "      <td>12.8</td>\n",
       "      <td>-1.1</td>\n",
       "      <td>-1.1</td>\n",
       "      <td>True</td>\n",
       "      <td>14.0</td>\n",
       "      <td>152.0</td>\n",
       "      <td>15.2</td>\n",
       "      <td>True</td>\n",
       "    </tr>\n",
       "  </tbody>\n",
       "</table>\n",
       "</div>"
      ],
      "text/plain": [
       "                     PRCP   SNOW  TMAX  TMIN  TOBS inclement_weather  PRCP_?  \\\n",
       "date                                                                           \n",
       "2018-01-30T00:00:00   0.0    0.0   6.7  -1.7  -0.6             False     1.5   \n",
       "2018-03-08T00:00:00  48.8    NaN   1.1  -0.6   1.1             False    28.4   \n",
       "2018-03-13T00:00:00   4.1   51.0   5.6  -3.9   0.0              True     3.0   \n",
       "2018-03-21T00:00:00   0.0    0.0   2.8  -2.8   0.6             False     6.6   \n",
       "2018-04-02T00:00:00   9.1  127.0  12.8  -1.1  -1.1              True    14.0   \n",
       "\n",
       "                     SNOW_?  WESF inclement_weather_?  \n",
       "date                                                   \n",
       "2018-01-30T00:00:00    13.0   1.8                True  \n",
       "2018-03-08T00:00:00     NaN  28.7                 NaN  \n",
       "2018-03-13T00:00:00    13.0   3.0                True  \n",
       "2018-03-21T00:00:00   114.0   8.6                True  \n",
       "2018-04-02T00:00:00   152.0  15.2                True  "
      ]
     },
     "execution_count": 76,
     "metadata": {},
     "output_type": "execute_result"
    }
   ],
   "source": [
    "valid_station.merge(sta_with_wesf, left_index=True, right_index=True, suffixes = ('','_?')).query('WESF>0').head()"
   ]
  },
  {
   "cell_type": "markdown",
   "id": "c2f9f3a6-2c6a-4514-b2c3-5875a1ef57d2",
   "metadata": {},
   "source": [
    "Since we are joining on the index, an easier way is to use the join() method instead of merge() . Note that the suffix parameter is now lsuffix for the left dataframe's suffix and rsuffix for the right one's:"
   ]
  },
  {
   "cell_type": "code",
   "execution_count": 79,
   "id": "d19c80d8-a11e-472c-b55d-4cc33be5be6d",
   "metadata": {},
   "outputs": [
    {
     "data": {
      "text/html": [
       "<div>\n",
       "<style scoped>\n",
       "    .dataframe tbody tr th:only-of-type {\n",
       "        vertical-align: middle;\n",
       "    }\n",
       "\n",
       "    .dataframe tbody tr th {\n",
       "        vertical-align: top;\n",
       "    }\n",
       "\n",
       "    .dataframe thead th {\n",
       "        text-align: right;\n",
       "    }\n",
       "</style>\n",
       "<table border=\"1\" class=\"dataframe\">\n",
       "  <thead>\n",
       "    <tr style=\"text-align: right;\">\n",
       "      <th></th>\n",
       "      <th>PRCP</th>\n",
       "      <th>SNOW</th>\n",
       "      <th>TMAX</th>\n",
       "      <th>TMIN</th>\n",
       "      <th>TOBS</th>\n",
       "      <th>inclement_weather</th>\n",
       "      <th>PRCP_?</th>\n",
       "      <th>SNOW_?</th>\n",
       "      <th>WESF</th>\n",
       "      <th>inclement_weather_?</th>\n",
       "    </tr>\n",
       "    <tr>\n",
       "      <th>date</th>\n",
       "      <th></th>\n",
       "      <th></th>\n",
       "      <th></th>\n",
       "      <th></th>\n",
       "      <th></th>\n",
       "      <th></th>\n",
       "      <th></th>\n",
       "      <th></th>\n",
       "      <th></th>\n",
       "      <th></th>\n",
       "    </tr>\n",
       "  </thead>\n",
       "  <tbody>\n",
       "    <tr>\n",
       "      <th>2018-01-30T00:00:00</th>\n",
       "      <td>0.0</td>\n",
       "      <td>0.0</td>\n",
       "      <td>6.7</td>\n",
       "      <td>-1.7</td>\n",
       "      <td>-0.6</td>\n",
       "      <td>False</td>\n",
       "      <td>1.5</td>\n",
       "      <td>13.0</td>\n",
       "      <td>1.8</td>\n",
       "      <td>True</td>\n",
       "    </tr>\n",
       "    <tr>\n",
       "      <th>2018-03-08T00:00:00</th>\n",
       "      <td>48.8</td>\n",
       "      <td>NaN</td>\n",
       "      <td>1.1</td>\n",
       "      <td>-0.6</td>\n",
       "      <td>1.1</td>\n",
       "      <td>False</td>\n",
       "      <td>28.4</td>\n",
       "      <td>NaN</td>\n",
       "      <td>28.7</td>\n",
       "      <td>NaN</td>\n",
       "    </tr>\n",
       "    <tr>\n",
       "      <th>2018-03-13T00:00:00</th>\n",
       "      <td>4.1</td>\n",
       "      <td>51.0</td>\n",
       "      <td>5.6</td>\n",
       "      <td>-3.9</td>\n",
       "      <td>0.0</td>\n",
       "      <td>True</td>\n",
       "      <td>3.0</td>\n",
       "      <td>13.0</td>\n",
       "      <td>3.0</td>\n",
       "      <td>True</td>\n",
       "    </tr>\n",
       "    <tr>\n",
       "      <th>2018-03-21T00:00:00</th>\n",
       "      <td>0.0</td>\n",
       "      <td>0.0</td>\n",
       "      <td>2.8</td>\n",
       "      <td>-2.8</td>\n",
       "      <td>0.6</td>\n",
       "      <td>False</td>\n",
       "      <td>6.6</td>\n",
       "      <td>114.0</td>\n",
       "      <td>8.6</td>\n",
       "      <td>True</td>\n",
       "    </tr>\n",
       "    <tr>\n",
       "      <th>2018-04-02T00:00:00</th>\n",
       "      <td>9.1</td>\n",
       "      <td>127.0</td>\n",
       "      <td>12.8</td>\n",
       "      <td>-1.1</td>\n",
       "      <td>-1.1</td>\n",
       "      <td>True</td>\n",
       "      <td>14.0</td>\n",
       "      <td>152.0</td>\n",
       "      <td>15.2</td>\n",
       "      <td>True</td>\n",
       "    </tr>\n",
       "  </tbody>\n",
       "</table>\n",
       "</div>"
      ],
      "text/plain": [
       "                     PRCP   SNOW  TMAX  TMIN  TOBS inclement_weather  PRCP_?  \\\n",
       "date                                                                           \n",
       "2018-01-30T00:00:00   0.0    0.0   6.7  -1.7  -0.6             False     1.5   \n",
       "2018-03-08T00:00:00  48.8    NaN   1.1  -0.6   1.1             False    28.4   \n",
       "2018-03-13T00:00:00   4.1   51.0   5.6  -3.9   0.0              True     3.0   \n",
       "2018-03-21T00:00:00   0.0    0.0   2.8  -2.8   0.6             False     6.6   \n",
       "2018-04-02T00:00:00   9.1  127.0  12.8  -1.1  -1.1              True    14.0   \n",
       "\n",
       "                     SNOW_?  WESF inclement_weather_?  \n",
       "date                                                   \n",
       "2018-01-30T00:00:00    13.0   1.8                True  \n",
       "2018-03-08T00:00:00     NaN  28.7                 NaN  \n",
       "2018-03-13T00:00:00    13.0   3.0                True  \n",
       "2018-03-21T00:00:00   114.0   8.6                True  \n",
       "2018-04-02T00:00:00   152.0  15.2                True  "
      ]
     },
     "execution_count": 79,
     "metadata": {},
     "output_type": "execute_result"
    }
   ],
   "source": [
    "valid_station.join(sta_with_wesf, rsuffix='_?').query('WESF >0').head()"
   ]
  },
  {
   "cell_type": "markdown",
   "id": "f87f6761-3cfc-41ee-8109-0bca3a8303db",
   "metadata": {},
   "source": [
    "Joins can be very resource-intensive, so it's a good idea to figure out what type of join you need using set operations before trying the join itself. The pandas set operations are performed on the index, so whichever columns we will be joining on will need to be the index. Let's go back to the weather and station_info dataframes and set the station ID columns as the index:"
   ]
  },
  {
   "cell_type": "code",
   "execution_count": 82,
   "id": "ffba73b3-d88a-4fd1-a976-02ba217eb5b3",
   "metadata": {},
   "outputs": [],
   "source": [
    "weather.set_index('station', inplace=True)\n",
    "station_info.set_index('id', inplace=True)"
   ]
  },
  {
   "cell_type": "markdown",
   "id": "149f0610-cf92-4a5a-bf0d-e4db2e240c27",
   "metadata": {},
   "source": [
    "The intersection will tell us the stations that are present in both dataframes. The result will be the index when performing an inner join:"
   ]
  },
  {
   "cell_type": "code",
   "execution_count": 85,
   "id": "a2324eb5-81ea-40bf-907c-45e0ad174587",
   "metadata": {},
   "outputs": [
    {
     "data": {
      "text/plain": [
       "Index(['GHCND:US1CTFR0039', 'GHCND:US1NJBG0015', 'GHCND:US1NJBG0017',\n",
       "       'GHCND:US1NJBG0018', 'GHCND:US1NJBG0023', 'GHCND:US1NJBG0030',\n",
       "       'GHCND:US1NJBG0039', 'GHCND:US1NJBG0044', 'GHCND:US1NJES0018',\n",
       "       'GHCND:US1NJES0024',\n",
       "       ...\n",
       "       'GHCND:US1NJMS0047', 'GHCND:US1NYSF0083', 'GHCND:US1NYNY0074',\n",
       "       'GHCND:US1NJPS0018', 'GHCND:US1NJBG0037', 'GHCND:USC00284987',\n",
       "       'GHCND:US1NJES0031', 'GHCND:US1NJMD0086', 'GHCND:US1NJMS0097',\n",
       "       'GHCND:US1NJMN0081'],\n",
       "      dtype='object', length=109)"
      ]
     },
     "execution_count": 85,
     "metadata": {},
     "output_type": "execute_result"
    }
   ],
   "source": [
    "weather.index.intersection(station_info.index)"
   ]
  },
  {
   "cell_type": "code",
   "execution_count": 87,
   "id": "09f0e0a6-9e19-42c1-8c4c-79d02426d56c",
   "metadata": {},
   "outputs": [
    {
     "data": {
      "text/plain": [
       "Index([], dtype='object')"
      ]
     },
     "execution_count": 87,
     "metadata": {},
     "output_type": "execute_result"
    }
   ],
   "source": [
    "weather.index.difference(station_info.index)"
   ]
  },
  {
   "cell_type": "markdown",
   "id": "0092d30f-99fa-4b87-b5f0-7b97c6e7ec7d",
   "metadata": {},
   "source": [
    "We lose 114 stations from the station_info dataframe, however:"
   ]
  },
  {
   "cell_type": "code",
   "execution_count": 90,
   "id": "a7b14a10-0ef0-4765-a914-3703d204deb1",
   "metadata": {},
   "outputs": [
    {
     "data": {
      "text/plain": [
       "Index(['GHCND:US1CTFR0022', 'GHCND:US1NJBG0001', 'GHCND:US1NJBG0002',\n",
       "       'GHCND:US1NJBG0005', 'GHCND:US1NJBG0006', 'GHCND:US1NJBG0008',\n",
       "       'GHCND:US1NJBG0011', 'GHCND:US1NJBG0012', 'GHCND:US1NJBG0013',\n",
       "       'GHCND:US1NJBG0020',\n",
       "       ...\n",
       "       'GHCND:USC00308322', 'GHCND:USC00308749', 'GHCND:USC00308946',\n",
       "       'GHCND:USC00309117', 'GHCND:USC00309270', 'GHCND:USC00309400',\n",
       "       'GHCND:USC00309466', 'GHCND:USC00309576', 'GHCND:USW00014708',\n",
       "       'GHCND:USW00014786'],\n",
       "      dtype='object', length=153)"
      ]
     },
     "execution_count": 90,
     "metadata": {},
     "output_type": "execute_result"
    }
   ],
   "source": [
    "station_info.index.difference(weather.index)"
   ]
  },
  {
   "cell_type": "markdown",
   "id": "926a56b0-ae3e-489a-888e-1f03c7c246b8",
   "metadata": {},
   "source": [
    "The symmetric difference will tell us what gets lost from both sides. It is the combination of the set difference in both directions: 216 + 114 = 330 which was station_info shape was"
   ]
  },
  {
   "cell_type": "code",
   "execution_count": 93,
   "id": "39e830e9-324c-44dc-ab6d-078a119a31fe",
   "metadata": {},
   "outputs": [
    {
     "data": {
      "text/plain": [
       "True"
      ]
     },
     "execution_count": 93,
     "metadata": {},
     "output_type": "execute_result"
    }
   ],
   "source": [
    "ny_in_name = station_info[station_info.name.str.contains('NY')]\n",
    "\n",
    "ny_in_name.index.difference(weather.index).shape[0]\\\n",
    "+ weather.index.difference(ny_in_name.index).shape[0]\\\n",
    "== weather.index.symmetric_difference(ny_in_name.index).shape[0]"
   ]
  },
  {
   "cell_type": "markdown",
   "id": "eb80e43c-4b8f-4bcc-9ccd-196575464bf9",
   "metadata": {},
   "source": [
    "The union will show us everything that will be present after a full outer join. Note that since these are sets (which don't allow duplicates by definition), we must pass unique\n",
    "entries for union:"
   ]
  },
  {
   "cell_type": "code",
   "execution_count": 96,
   "id": "6bb1090c-b739-4d31-bb72-422f2a9ba9ec",
   "metadata": {},
   "outputs": [
    {
     "data": {
      "text/plain": [
       "Index(['GHCND:US1CTFR0022', 'GHCND:US1CTFR0039', 'GHCND:US1NJBG0001',\n",
       "       'GHCND:US1NJBG0002', 'GHCND:US1NJBG0003', 'GHCND:US1NJBG0005',\n",
       "       'GHCND:US1NJBG0006', 'GHCND:US1NJBG0008', 'GHCND:US1NJBG0010',\n",
       "       'GHCND:US1NJBG0011',\n",
       "       ...\n",
       "       'GHCND:USW00014708', 'GHCND:USW00014732', 'GHCND:USW00014734',\n",
       "       'GHCND:USW00014786', 'GHCND:USW00054743', 'GHCND:USW00054787',\n",
       "       'GHCND:USW00094728', 'GHCND:USW00094741', 'GHCND:USW00094745',\n",
       "       'GHCND:USW00094789'],\n",
       "      dtype='object', length=262)"
      ]
     },
     "execution_count": 96,
     "metadata": {},
     "output_type": "execute_result"
    }
   ],
   "source": [
    "weather.index.unique().union(station_info.index)"
   ]
  },
  {
   "cell_type": "markdown",
   "id": "9c2bb46d-d4ca-4330-9ad4-25e9de562827",
   "metadata": {},
   "source": [
    "Note that the symmetric difference is actually the union of the set differences:"
   ]
  },
  {
   "cell_type": "code",
   "execution_count": 99,
   "id": "47973691-446c-4117-ad0b-5ee921b9fa6e",
   "metadata": {},
   "outputs": [
    {
     "data": {
      "text/plain": [
       "True"
      ]
     },
     "execution_count": 99,
     "metadata": {},
     "output_type": "execute_result"
    }
   ],
   "source": [
    "ny_in_name = station_info[station_info.name.str.contains('NY')]\n",
    "ny_in_name.index.difference(weather.index).union(weather.index.difference(ny_in_name.index)).equals(\n",
    "weather.index.symmetric_difference(ny_in_name.index)\n",
    ")"
   ]
  }
 ],
 "metadata": {
  "kernelspec": {
   "display_name": "Python 3 (ipykernel)",
   "language": "python",
   "name": "python3"
  },
  "language_info": {
   "codemirror_mode": {
    "name": "ipython",
    "version": 3
   },
   "file_extension": ".py",
   "mimetype": "text/x-python",
   "name": "python",
   "nbconvert_exporter": "python",
   "pygments_lexer": "ipython3",
   "version": "3.12.4"
  }
 },
 "nbformat": 4,
 "nbformat_minor": 5
}
