{
 "cells": [
  {
   "cell_type": "markdown",
   "metadata": {
    "id": "k2H1vgFPRr2a"
   },
   "source": [
    "# **Collecting weather data from an API**\n",
    "**Name**: Corpuz, Micki Laurren B.\n",
    "\n",
    "**Section**: CPE22S3\n",
    "\n",
    "**Instructor**: Engr. Roman Richard"
   ]
  },
  {
   "cell_type": "markdown",
   "metadata": {
    "id": "ufjt2LmoTBvL"
   },
   "source": [
    "**About the data**\n",
    "> In this notebook, we will be collecting daily weather data from the National Centers for Environmental Information (NCEI) API. We will use the Global Historical Climatology\n",
    "Network - Daily (GHCND) data set; see the documentation here.\n",
    "Note: The NCEI is part of the National Oceanic and Atmospheric Administration (NOAA) and, as you can see from the URL for the API, this resource was created when the\n",
    "NCEI was called the NCDC. Should the URL for this resource change in the future, you can search for the NCEI weather API to find the updated one."
   ]
  },
  {
   "cell_type": "markdown",
   "metadata": {
    "id": "AW-OulH8Rz42"
   },
   "source": [
    "**Using the NCEI API**\n",
    "> Paste your token below"
   ]
  },
  {
   "cell_type": "code",
   "execution_count": 1,
   "metadata": {
    "id": "FXLjFfMeRVrp"
   },
   "outputs": [],
   "source": [
    "import requests\n",
    "\n",
    "def make_request(endpoint, payload=None):\n",
    "  \"\"\"\n",
    "  Make a request to a specific endpoint on the weather API\n",
    "  passing headers and optional payload.\n",
    "\n",
    "  Parameters:\n",
    "  - endpoint: The endpoint of the API you want to\n",
    "  make a GET request to.\n",
    "  - payload: A dictionary of data to pass along\n",
    "  with the request.\n",
    "\n",
    "  Returns:\n",
    "  Response object.\n",
    "  \"\"\"\n",
    "\n",
    "  return requests.get(\n",
    "      f'https://www.ncdc.noaa.gov/cdo-web/api/v2/{endpoint}',\n",
    "      headers={\n",
    "          'token': 'XkaqeIEyRpEAvMXJvbNofZPfAiqjsBDl'\n",
    "      },\n",
    "      params=payload\n",
    "  )"
   ]
  },
  {
   "cell_type": "markdown",
   "metadata": {
    "id": "RKLnzSriSAO7"
   },
   "source": [
    "**Collect All Data Points for 2018 In NYC (Various Stations)**\n",
    "> We can make a loop to query for all the data points one day at a time. Here we create a list of all the results:"
   ]
  },
  {
   "cell_type": "code",
   "execution_count": 2,
   "metadata": {
    "colab": {
     "base_uri": "https://localhost:8080/",
     "height": 36
    },
    "id": "yGyxmdr1SPTV",
    "outputId": "30fabd92-53ba-4d9b-a49b-0856f627ad27"
   },
   "outputs": [
    {
     "data": {
      "application/vnd.google.colaboratory.intrinsic+json": {
       "type": "string"
      },
      "text/plain": [
       "'Gathering data for 2018-12-31'"
      ]
     },
     "metadata": {},
     "output_type": "display_data"
    }
   ],
   "source": [
    "import datetime\n",
    "\n",
    "from IPython import display # for updating the cell dynamically\n",
    "\n",
    "current = datetime.date(2018, 1, 1)\n",
    "end = datetime.date(2019, 1, 1)\n",
    "\n",
    "results = []\n",
    "\n",
    "while current < end:\n",
    "  # update the cell with status information\n",
    "  display.clear_output(wait=True)\n",
    "  display.display(f'Gathering data for {str(current)}')\n",
    "\n",
    "  response = make_request(\n",
    "      'data',\n",
    "      {\n",
    "          'datasetid' : 'GHCND', # Global HIstorical Climatology Network - Daily (GHCND) dataset\n",
    "          'locationid' : 'CITY:US360019', # NYC\n",
    "          'startdate' : current,\n",
    "          'enddate' : current,\n",
    "          'units' : 'metric',\n",
    "          'limit' : 1000 # max allowed\n",
    "      }\n",
    "  )\n",
    "\n",
    "  if response.ok:\n",
    "    # we extend the list instead of appeanding to avoid getting a nested list\n",
    "    results.extend(response.json()['results'])\n",
    "\n",
    "  # update the current date to avoid an infinite loop\n",
    "  current += datetime.timedelta(days=1)"
   ]
  },
  {
   "cell_type": "markdown",
   "metadata": {
    "id": "EqBwZRu4TdaV"
   },
   "source": [
    "> Now, we can create a dataframe with all this data. Notice there are multiple stations with values for each datatype on a given day. We don't know what the stations are, but we\n",
    "can look them up and add them to the data:"
   ]
  },
  {
   "cell_type": "code",
   "execution_count": 4,
   "metadata": {
    "colab": {
     "base_uri": "https://localhost:8080/",
     "height": 206
    },
    "id": "wvG1-r4gT0JN",
    "outputId": "f01909b3-eeb9-4a5c-c0dd-53bdfd0f87af"
   },
   "outputs": [
    {
     "data": {
      "application/vnd.google.colaboratory.intrinsic+json": {
       "summary": "{\n  \"name\": \"df\",\n  \"rows\": 91291,\n  \"fields\": [\n    {\n      \"column\": \"date\",\n      \"properties\": {\n        \"dtype\": \"object\",\n        \"num_unique_values\": 361,\n        \"samples\": [\n          \"2018-06-14T00:00:00\",\n          \"2018-02-03T00:00:00\",\n          \"2018-01-16T00:00:00\"\n        ],\n        \"semantic_type\": \"\",\n        \"description\": \"\"\n      }\n    },\n    {\n      \"column\": \"datatype\",\n      \"properties\": {\n        \"dtype\": \"category\",\n        \"num_unique_values\": 34,\n        \"samples\": [\n          \"RHMX\",\n          \"WSF2\",\n          \"WT08\"\n        ],\n        \"semantic_type\": \"\",\n        \"description\": \"\"\n      }\n    },\n    {\n      \"column\": \"station\",\n      \"properties\": {\n        \"dtype\": \"category\",\n        \"num_unique_values\": 114,\n        \"samples\": [\n          \"GHCND:US1NJMS0016\",\n          \"GHCND:US1NJBG0023\",\n          \"GHCND:US1NYNS0027\"\n        ],\n        \"semantic_type\": \"\",\n        \"description\": \"\"\n      }\n    },\n    {\n      \"column\": \"attributes\",\n      \"properties\": {\n        \"dtype\": \"category\",\n        \"num_unique_values\": 577,\n        \"samples\": [\n          \",,N,1020\",\n          \"T,,N,0728\",\n          \",,N,0658\"\n        ],\n        \"semantic_type\": \"\",\n        \"description\": \"\"\n      }\n    },\n    {\n      \"column\": \"value\",\n      \"properties\": {\n        \"dtype\": \"number\",\n        \"std\": 1778.543978259441,\n        \"min\": -228.0,\n        \"max\": 10413.0,\n        \"num_unique_values\": 1706,\n        \"samples\": [\n          -17.0,\n          228.0,\n          1143.0\n        ],\n        \"semantic_type\": \"\",\n        \"description\": \"\"\n      }\n    }\n  ]\n}",
       "type": "dataframe",
       "variable_name": "df"
      },
      "text/html": [
       "\n",
       "  <div id=\"df-7d172d4c-73cc-4f66-a6a9-19423ef44d59\" class=\"colab-df-container\">\n",
       "    <div>\n",
       "<style scoped>\n",
       "    .dataframe tbody tr th:only-of-type {\n",
       "        vertical-align: middle;\n",
       "    }\n",
       "\n",
       "    .dataframe tbody tr th {\n",
       "        vertical-align: top;\n",
       "    }\n",
       "\n",
       "    .dataframe thead th {\n",
       "        text-align: right;\n",
       "    }\n",
       "</style>\n",
       "<table border=\"1\" class=\"dataframe\">\n",
       "  <thead>\n",
       "    <tr style=\"text-align: right;\">\n",
       "      <th></th>\n",
       "      <th>date</th>\n",
       "      <th>datatype</th>\n",
       "      <th>station</th>\n",
       "      <th>attributes</th>\n",
       "      <th>value</th>\n",
       "    </tr>\n",
       "  </thead>\n",
       "  <tbody>\n",
       "    <tr>\n",
       "      <th>0</th>\n",
       "      <td>2018-01-01T00:00:00</td>\n",
       "      <td>PRCP</td>\n",
       "      <td>GHCND:US1CTFR0039</td>\n",
       "      <td>,,N,0800</td>\n",
       "      <td>0.0</td>\n",
       "    </tr>\n",
       "    <tr>\n",
       "      <th>1</th>\n",
       "      <td>2018-01-01T00:00:00</td>\n",
       "      <td>PRCP</td>\n",
       "      <td>GHCND:US1NJBG0015</td>\n",
       "      <td>,,N,1050</td>\n",
       "      <td>0.0</td>\n",
       "    </tr>\n",
       "    <tr>\n",
       "      <th>2</th>\n",
       "      <td>2018-01-01T00:00:00</td>\n",
       "      <td>SNOW</td>\n",
       "      <td>GHCND:US1NJBG0015</td>\n",
       "      <td>,,N,1050</td>\n",
       "      <td>0.0</td>\n",
       "    </tr>\n",
       "    <tr>\n",
       "      <th>3</th>\n",
       "      <td>2018-01-01T00:00:00</td>\n",
       "      <td>PRCP</td>\n",
       "      <td>GHCND:US1NJBG0017</td>\n",
       "      <td>,,N,0920</td>\n",
       "      <td>0.0</td>\n",
       "    </tr>\n",
       "    <tr>\n",
       "      <th>4</th>\n",
       "      <td>2018-01-01T00:00:00</td>\n",
       "      <td>SNOW</td>\n",
       "      <td>GHCND:US1NJBG0017</td>\n",
       "      <td>,,N,0920</td>\n",
       "      <td>0.0</td>\n",
       "    </tr>\n",
       "  </tbody>\n",
       "</table>\n",
       "</div>\n",
       "    <div class=\"colab-df-buttons\">\n",
       "\n",
       "  <div class=\"colab-df-container\">\n",
       "    <button class=\"colab-df-convert\" onclick=\"convertToInteractive('df-7d172d4c-73cc-4f66-a6a9-19423ef44d59')\"\n",
       "            title=\"Convert this dataframe to an interactive table.\"\n",
       "            style=\"display:none;\">\n",
       "\n",
       "  <svg xmlns=\"http://www.w3.org/2000/svg\" height=\"24px\" viewBox=\"0 -960 960 960\">\n",
       "    <path d=\"M120-120v-720h720v720H120Zm60-500h600v-160H180v160Zm220 220h160v-160H400v160Zm0 220h160v-160H400v160ZM180-400h160v-160H180v160Zm440 0h160v-160H620v160ZM180-180h160v-160H180v160Zm440 0h160v-160H620v160Z\"/>\n",
       "  </svg>\n",
       "    </button>\n",
       "\n",
       "  <style>\n",
       "    .colab-df-container {\n",
       "      display:flex;\n",
       "      gap: 12px;\n",
       "    }\n",
       "\n",
       "    .colab-df-convert {\n",
       "      background-color: #E8F0FE;\n",
       "      border: none;\n",
       "      border-radius: 50%;\n",
       "      cursor: pointer;\n",
       "      display: none;\n",
       "      fill: #1967D2;\n",
       "      height: 32px;\n",
       "      padding: 0 0 0 0;\n",
       "      width: 32px;\n",
       "    }\n",
       "\n",
       "    .colab-df-convert:hover {\n",
       "      background-color: #E2EBFA;\n",
       "      box-shadow: 0px 1px 2px rgba(60, 64, 67, 0.3), 0px 1px 3px 1px rgba(60, 64, 67, 0.15);\n",
       "      fill: #174EA6;\n",
       "    }\n",
       "\n",
       "    .colab-df-buttons div {\n",
       "      margin-bottom: 4px;\n",
       "    }\n",
       "\n",
       "    [theme=dark] .colab-df-convert {\n",
       "      background-color: #3B4455;\n",
       "      fill: #D2E3FC;\n",
       "    }\n",
       "\n",
       "    [theme=dark] .colab-df-convert:hover {\n",
       "      background-color: #434B5C;\n",
       "      box-shadow: 0px 1px 3px 1px rgba(0, 0, 0, 0.15);\n",
       "      filter: drop-shadow(0px 1px 2px rgba(0, 0, 0, 0.3));\n",
       "      fill: #FFFFFF;\n",
       "    }\n",
       "  </style>\n",
       "\n",
       "    <script>\n",
       "      const buttonEl =\n",
       "        document.querySelector('#df-7d172d4c-73cc-4f66-a6a9-19423ef44d59 button.colab-df-convert');\n",
       "      buttonEl.style.display =\n",
       "        google.colab.kernel.accessAllowed ? 'block' : 'none';\n",
       "\n",
       "      async function convertToInteractive(key) {\n",
       "        const element = document.querySelector('#df-7d172d4c-73cc-4f66-a6a9-19423ef44d59');\n",
       "        const dataTable =\n",
       "          await google.colab.kernel.invokeFunction('convertToInteractive',\n",
       "                                                    [key], {});\n",
       "        if (!dataTable) return;\n",
       "\n",
       "        const docLinkHtml = 'Like what you see? Visit the ' +\n",
       "          '<a target=\"_blank\" href=https://colab.research.google.com/notebooks/data_table.ipynb>data table notebook</a>'\n",
       "          + ' to learn more about interactive tables.';\n",
       "        element.innerHTML = '';\n",
       "        dataTable['output_type'] = 'display_data';\n",
       "        await google.colab.output.renderOutput(dataTable, element);\n",
       "        const docLink = document.createElement('div');\n",
       "        docLink.innerHTML = docLinkHtml;\n",
       "        element.appendChild(docLink);\n",
       "      }\n",
       "    </script>\n",
       "  </div>\n",
       "\n",
       "\n",
       "<div id=\"df-ea4da334-65c1-4a60-8f4a-9d075bea95c4\">\n",
       "  <button class=\"colab-df-quickchart\" onclick=\"quickchart('df-ea4da334-65c1-4a60-8f4a-9d075bea95c4')\"\n",
       "            title=\"Suggest charts\"\n",
       "            style=\"display:none;\">\n",
       "\n",
       "<svg xmlns=\"http://www.w3.org/2000/svg\" height=\"24px\"viewBox=\"0 0 24 24\"\n",
       "     width=\"24px\">\n",
       "    <g>\n",
       "        <path d=\"M19 3H5c-1.1 0-2 .9-2 2v14c0 1.1.9 2 2 2h14c1.1 0 2-.9 2-2V5c0-1.1-.9-2-2-2zM9 17H7v-7h2v7zm4 0h-2V7h2v10zm4 0h-2v-4h2v4z\"/>\n",
       "    </g>\n",
       "</svg>\n",
       "  </button>\n",
       "\n",
       "<style>\n",
       "  .colab-df-quickchart {\n",
       "      --bg-color: #E8F0FE;\n",
       "      --fill-color: #1967D2;\n",
       "      --hover-bg-color: #E2EBFA;\n",
       "      --hover-fill-color: #174EA6;\n",
       "      --disabled-fill-color: #AAA;\n",
       "      --disabled-bg-color: #DDD;\n",
       "  }\n",
       "\n",
       "  [theme=dark] .colab-df-quickchart {\n",
       "      --bg-color: #3B4455;\n",
       "      --fill-color: #D2E3FC;\n",
       "      --hover-bg-color: #434B5C;\n",
       "      --hover-fill-color: #FFFFFF;\n",
       "      --disabled-bg-color: #3B4455;\n",
       "      --disabled-fill-color: #666;\n",
       "  }\n",
       "\n",
       "  .colab-df-quickchart {\n",
       "    background-color: var(--bg-color);\n",
       "    border: none;\n",
       "    border-radius: 50%;\n",
       "    cursor: pointer;\n",
       "    display: none;\n",
       "    fill: var(--fill-color);\n",
       "    height: 32px;\n",
       "    padding: 0;\n",
       "    width: 32px;\n",
       "  }\n",
       "\n",
       "  .colab-df-quickchart:hover {\n",
       "    background-color: var(--hover-bg-color);\n",
       "    box-shadow: 0 1px 2px rgba(60, 64, 67, 0.3), 0 1px 3px 1px rgba(60, 64, 67, 0.15);\n",
       "    fill: var(--button-hover-fill-color);\n",
       "  }\n",
       "\n",
       "  .colab-df-quickchart-complete:disabled,\n",
       "  .colab-df-quickchart-complete:disabled:hover {\n",
       "    background-color: var(--disabled-bg-color);\n",
       "    fill: var(--disabled-fill-color);\n",
       "    box-shadow: none;\n",
       "  }\n",
       "\n",
       "  .colab-df-spinner {\n",
       "    border: 2px solid var(--fill-color);\n",
       "    border-color: transparent;\n",
       "    border-bottom-color: var(--fill-color);\n",
       "    animation:\n",
       "      spin 1s steps(1) infinite;\n",
       "  }\n",
       "\n",
       "  @keyframes spin {\n",
       "    0% {\n",
       "      border-color: transparent;\n",
       "      border-bottom-color: var(--fill-color);\n",
       "      border-left-color: var(--fill-color);\n",
       "    }\n",
       "    20% {\n",
       "      border-color: transparent;\n",
       "      border-left-color: var(--fill-color);\n",
       "      border-top-color: var(--fill-color);\n",
       "    }\n",
       "    30% {\n",
       "      border-color: transparent;\n",
       "      border-left-color: var(--fill-color);\n",
       "      border-top-color: var(--fill-color);\n",
       "      border-right-color: var(--fill-color);\n",
       "    }\n",
       "    40% {\n",
       "      border-color: transparent;\n",
       "      border-right-color: var(--fill-color);\n",
       "      border-top-color: var(--fill-color);\n",
       "    }\n",
       "    60% {\n",
       "      border-color: transparent;\n",
       "      border-right-color: var(--fill-color);\n",
       "    }\n",
       "    80% {\n",
       "      border-color: transparent;\n",
       "      border-right-color: var(--fill-color);\n",
       "      border-bottom-color: var(--fill-color);\n",
       "    }\n",
       "    90% {\n",
       "      border-color: transparent;\n",
       "      border-bottom-color: var(--fill-color);\n",
       "    }\n",
       "  }\n",
       "</style>\n",
       "\n",
       "  <script>\n",
       "    async function quickchart(key) {\n",
       "      const quickchartButtonEl =\n",
       "        document.querySelector('#' + key + ' button');\n",
       "      quickchartButtonEl.disabled = true;  // To prevent multiple clicks.\n",
       "      quickchartButtonEl.classList.add('colab-df-spinner');\n",
       "      try {\n",
       "        const charts = await google.colab.kernel.invokeFunction(\n",
       "            'suggestCharts', [key], {});\n",
       "      } catch (error) {\n",
       "        console.error('Error during call to suggestCharts:', error);\n",
       "      }\n",
       "      quickchartButtonEl.classList.remove('colab-df-spinner');\n",
       "      quickchartButtonEl.classList.add('colab-df-quickchart-complete');\n",
       "    }\n",
       "    (() => {\n",
       "      let quickchartButtonEl =\n",
       "        document.querySelector('#df-ea4da334-65c1-4a60-8f4a-9d075bea95c4 button');\n",
       "      quickchartButtonEl.style.display =\n",
       "        google.colab.kernel.accessAllowed ? 'block' : 'none';\n",
       "    })();\n",
       "  </script>\n",
       "</div>\n",
       "\n",
       "    </div>\n",
       "  </div>\n"
      ],
      "text/plain": [
       "                  date datatype            station attributes  value\n",
       "0  2018-01-01T00:00:00     PRCP  GHCND:US1CTFR0039   ,,N,0800    0.0\n",
       "1  2018-01-01T00:00:00     PRCP  GHCND:US1NJBG0015   ,,N,1050    0.0\n",
       "2  2018-01-01T00:00:00     SNOW  GHCND:US1NJBG0015   ,,N,1050    0.0\n",
       "3  2018-01-01T00:00:00     PRCP  GHCND:US1NJBG0017   ,,N,0920    0.0\n",
       "4  2018-01-01T00:00:00     SNOW  GHCND:US1NJBG0017   ,,N,0920    0.0"
      ]
     },
     "execution_count": 4,
     "metadata": {},
     "output_type": "execute_result"
    }
   ],
   "source": [
    "import pandas as pd\n",
    "\n",
    "df = pd.DataFrame(results)\n",
    "df.head()"
   ]
  },
  {
   "cell_type": "markdown",
   "metadata": {
    "id": "hkeqYl8-Ti9x"
   },
   "source": [
    "> Save this data to a file:"
   ]
  },
  {
   "cell_type": "code",
   "execution_count": 5,
   "metadata": {
    "id": "xfjVUZ0UT827"
   },
   "outputs": [],
   "source": [
    "df.to_csv('nyc_weather_2018.csv', index=False)"
   ]
  },
  {
   "cell_type": "markdown",
   "metadata": {
    "id": "z2GRaH2gYgv_"
   },
   "source": [
    "![image.png](data:image/png;base64,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)"
   ]
  },
  {
   "cell_type": "markdown",
   "metadata": {
    "id": "rBcgco-ITsM3"
   },
   "source": [
    "> and write it to the database:"
   ]
  },
  {
   "cell_type": "code",
   "execution_count": 6,
   "metadata": {
    "id": "bsVO3e-VVm7A"
   },
   "outputs": [],
   "source": [
    "import sqlite3\n",
    "\n",
    "with sqlite3.connect('weather.db') as connection:\n",
    "  df.to_sql(\n",
    "      'weather', connection, index=False, if_exists='replace'\n",
    "  )"
   ]
  },
  {
   "cell_type": "markdown",
   "metadata": {
    "id": "mt-GiMefTyQq"
   },
   "source": [
    "> For learning about merging dataframes, we will also get the data mapping station IDs to information about the station:"
   ]
  },
  {
   "cell_type": "code",
   "execution_count": 7,
   "metadata": {
    "id": "ekjp1-_DV2Ev"
   },
   "outputs": [],
   "source": [
    "response = make_request(\n",
    "    'stations',\n",
    "    {\n",
    "        'datasetid' : 'GHCND', # Global Historical Climatology Network - Daily (GHCND) dataset\n",
    "        'locationid' : 'CITY:US360019', # NYC\n",
    "        'limit' : 1000 # max allowed\n",
    "    }\n",
    ")\n",
    "\n",
    "stations = pd.DataFrame(response.json()['results'])[['id', 'name', 'latitude', 'longitude', 'elevation']]\n",
    "stations.to_csv('weather_stations.csv', index=False)\n",
    "\n",
    "with sqlite3.connect('weather.db') as connection:\n",
    "  stations.to_sql(\n",
    "      'stations', connection, index=False, if_exists='replace'\n",
    "  )"
   ]
  },
  {
   "cell_type": "markdown",
   "metadata": {
    "id": "52ylwc4DYoeA"
   },
   "source": [
    "![image.png](data:image/png;base64,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)"
   ]
  }
 ],
 "metadata": {
  "colab": {
   "provenance": []
  },
  "kernelspec": {
   "display_name": "Python 3 (ipykernel)",
   "language": "python",
   "name": "python3"
  },
  "language_info": {
   "codemirror_mode": {
    "name": "ipython",
    "version": 3
   },
   "file_extension": ".py",
   "mimetype": "text/x-python",
   "name": "python",
   "nbconvert_exporter": "python",
   "pygments_lexer": "ipython3",
   "version": "3.12.4"
  }
 },
 "nbformat": 4,
 "nbformat_minor": 4
}
