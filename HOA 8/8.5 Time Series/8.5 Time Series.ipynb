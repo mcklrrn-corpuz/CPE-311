{
 "cells": [
  {
   "cell_type": "markdown",
   "metadata": {
    "id": "46uJMPORVPfQ"
   },
   "source": [
    "# Time Series\n",
    "\n",
    "**Name**: Corpuz, Micki Laurren B.\n",
    "\n",
    "**Section**: CPE22S3\n",
    "\n",
    "**Instructor**: Engr. Roman Richard\n",
    "\n",
    "### About the Data\n",
    "In this notebook, we will be working with 5 data sets:\n",
    "* (CSV) Facebook's stock price daily throughout 2018 (obtained using the stock_analysis package).\n",
    "* (CSV) Facebook's OHLC stock data from May 20, 2019 - May 24, 2019 per minute from Nasdaq.com.\n",
    "* (CSV) melted stock data for Facebook from May 20, 2019 - May 24, 2019 per minute from Nasdaq.com.\n",
    "* (DB) stock opening prices by the minute for Apple from May 20, 2019 - May 24, 2019 altered to have seconds in the time from Nasdaq.com.\n",
    "* (DB) stock opening prices by the minute for Facebook from May 20, 2019 - May 24, 2019 from Nasdaq.com.\n",
    "\n",
    "# Setup"
   ]
  },
  {
   "cell_type": "code",
   "execution_count": 2,
   "metadata": {
    "colab": {
     "base_uri": "https://localhost:8080/",
     "height": 237
    },
    "id": "E1FM3XrXVdjo",
    "outputId": "c1b896fc-337f-425f-a53c-a2b38ced4aca"
   },
   "outputs": [
    {
     "data": {
      "text/html": [
       "<div>\n",
       "<style scoped>\n",
       "    .dataframe tbody tr th:only-of-type {\n",
       "        vertical-align: middle;\n",
       "    }\n",
       "\n",
       "    .dataframe tbody tr th {\n",
       "        vertical-align: top;\n",
       "    }\n",
       "\n",
       "    .dataframe thead th {\n",
       "        text-align: right;\n",
       "    }\n",
       "</style>\n",
       "<table border=\"1\" class=\"dataframe\">\n",
       "  <thead>\n",
       "    <tr style=\"text-align: right;\">\n",
       "      <th></th>\n",
       "      <th>open</th>\n",
       "      <th>high</th>\n",
       "      <th>low</th>\n",
       "      <th>close</th>\n",
       "      <th>volume</th>\n",
       "      <th>trading_volume</th>\n",
       "    </tr>\n",
       "    <tr>\n",
       "      <th>date</th>\n",
       "      <th></th>\n",
       "      <th></th>\n",
       "      <th></th>\n",
       "      <th></th>\n",
       "      <th></th>\n",
       "      <th></th>\n",
       "    </tr>\n",
       "  </thead>\n",
       "  <tbody>\n",
       "    <tr>\n",
       "      <th>2018-01-02</th>\n",
       "      <td>177.68</td>\n",
       "      <td>181.58</td>\n",
       "      <td>177.5500</td>\n",
       "      <td>181.42</td>\n",
       "      <td>18151903</td>\n",
       "      <td>low</td>\n",
       "    </tr>\n",
       "    <tr>\n",
       "      <th>2018-01-03</th>\n",
       "      <td>181.88</td>\n",
       "      <td>184.78</td>\n",
       "      <td>181.3300</td>\n",
       "      <td>184.67</td>\n",
       "      <td>16886563</td>\n",
       "      <td>low</td>\n",
       "    </tr>\n",
       "    <tr>\n",
       "      <th>2018-01-04</th>\n",
       "      <td>184.90</td>\n",
       "      <td>186.21</td>\n",
       "      <td>184.0996</td>\n",
       "      <td>184.33</td>\n",
       "      <td>13880896</td>\n",
       "      <td>low</td>\n",
       "    </tr>\n",
       "    <tr>\n",
       "      <th>2018-01-05</th>\n",
       "      <td>185.59</td>\n",
       "      <td>186.90</td>\n",
       "      <td>184.9300</td>\n",
       "      <td>186.85</td>\n",
       "      <td>13574535</td>\n",
       "      <td>low</td>\n",
       "    </tr>\n",
       "    <tr>\n",
       "      <th>2018-01-08</th>\n",
       "      <td>187.20</td>\n",
       "      <td>188.90</td>\n",
       "      <td>186.3300</td>\n",
       "      <td>188.28</td>\n",
       "      <td>17994726</td>\n",
       "      <td>low</td>\n",
       "    </tr>\n",
       "  </tbody>\n",
       "</table>\n",
       "</div>"
      ],
      "text/plain": [
       "              open    high       low   close    volume trading_volume\n",
       "date                                                                 \n",
       "2018-01-02  177.68  181.58  177.5500  181.42  18151903            low\n",
       "2018-01-03  181.88  184.78  181.3300  184.67  16886563            low\n",
       "2018-01-04  184.90  186.21  184.0996  184.33  13880896            low\n",
       "2018-01-05  185.59  186.90  184.9300  186.85  13574535            low\n",
       "2018-01-08  187.20  188.90  186.3300  188.28  17994726            low"
      ]
     },
     "execution_count": 2,
     "metadata": {},
     "output_type": "execute_result"
    }
   ],
   "source": [
    "import numpy as np\n",
    "import pandas as pd\n",
    "fb = pd.read_csv('fb_2018.csv', index_col='date', parse_dates=True).assign(\n",
    "  trading_volume=lambda x: pd.cut(x.volume, bins=3, labels=['low', 'med', 'high'])\n",
    ")\n",
    "fb.head()\n",
    "# Makes new columns that identify volume intensity"
   ]
  },
  {
   "cell_type": "markdown",
   "metadata": {
    "id": "B4sLYoNzVf5p"
   },
   "source": [
    "# Time-based selection and filtering\n",
    "Remember, when we have a DatetimeIndex , we can use datetime slicing. We can provide a range of dates. We only get three days back because the stock market is\n",
    "closed on the weekends:\n"
   ]
  },
  {
   "cell_type": "code",
   "execution_count": 5,
   "metadata": {
    "colab": {
     "base_uri": "https://localhost:8080/",
     "height": 175
    },
    "id": "jxc-RswHTx-T",
    "outputId": "772fa031-b26a-485d-b308-c407676584de"
   },
   "outputs": [
    {
     "data": {
      "text/html": [
       "<div>\n",
       "<style scoped>\n",
       "    .dataframe tbody tr th:only-of-type {\n",
       "        vertical-align: middle;\n",
       "    }\n",
       "\n",
       "    .dataframe tbody tr th {\n",
       "        vertical-align: top;\n",
       "    }\n",
       "\n",
       "    .dataframe thead th {\n",
       "        text-align: right;\n",
       "    }\n",
       "</style>\n",
       "<table border=\"1\" class=\"dataframe\">\n",
       "  <thead>\n",
       "    <tr style=\"text-align: right;\">\n",
       "      <th></th>\n",
       "      <th>open</th>\n",
       "      <th>high</th>\n",
       "      <th>low</th>\n",
       "      <th>close</th>\n",
       "      <th>volume</th>\n",
       "      <th>trading_volume</th>\n",
       "    </tr>\n",
       "    <tr>\n",
       "      <th>date</th>\n",
       "      <th></th>\n",
       "      <th></th>\n",
       "      <th></th>\n",
       "      <th></th>\n",
       "      <th></th>\n",
       "      <th></th>\n",
       "    </tr>\n",
       "  </thead>\n",
       "  <tbody>\n",
       "    <tr>\n",
       "      <th>2018-10-11</th>\n",
       "      <td>150.13</td>\n",
       "      <td>154.81</td>\n",
       "      <td>149.1600</td>\n",
       "      <td>153.35</td>\n",
       "      <td>35338901</td>\n",
       "      <td>low</td>\n",
       "    </tr>\n",
       "    <tr>\n",
       "      <th>2018-10-12</th>\n",
       "      <td>156.73</td>\n",
       "      <td>156.89</td>\n",
       "      <td>151.2998</td>\n",
       "      <td>153.74</td>\n",
       "      <td>25293492</td>\n",
       "      <td>low</td>\n",
       "    </tr>\n",
       "    <tr>\n",
       "      <th>2018-10-15</th>\n",
       "      <td>153.32</td>\n",
       "      <td>155.57</td>\n",
       "      <td>152.5500</td>\n",
       "      <td>153.52</td>\n",
       "      <td>15433521</td>\n",
       "      <td>low</td>\n",
       "    </tr>\n",
       "  </tbody>\n",
       "</table>\n",
       "</div>"
      ],
      "text/plain": [
       "              open    high       low   close    volume trading_volume\n",
       "date                                                                 \n",
       "2018-10-11  150.13  154.81  149.1600  153.35  35338901            low\n",
       "2018-10-12  156.73  156.89  151.2998  153.74  25293492            low\n",
       "2018-10-15  153.32  155.57  152.5500  153.52  15433521            low"
      ]
     },
     "execution_count": 5,
     "metadata": {},
     "output_type": "execute_result"
    }
   ],
   "source": [
    "fb['2018-10-11':'2018-10-15']\n",
    "# date slicing"
   ]
  },
  {
   "cell_type": "markdown",
   "metadata": {
    "id": "4Tx3UEY7VpcO"
   },
   "source": [
    "We can select ranges of months and quarters"
   ]
  },
  {
   "cell_type": "code",
   "execution_count": 14,
   "metadata": {
    "colab": {
     "base_uri": "https://localhost:8080/"
    },
    "id": "cMFPxlgnVsQx",
    "outputId": "bfa4f13a-108f-410f-b815-4cf599d3ad4c"
   },
   "outputs": [
    {
     "data": {
      "text/plain": [
       "True"
      ]
     },
     "execution_count": 14,
     "metadata": {},
     "output_type": "execute_result"
    }
   ],
   "source": [
    "# fb['2018-q1'].equals(fb['2018-01':'2018-03']) raises error\n",
    "fb.loc['2018Q1'].equals(fb.loc['2018-01':'2018-03']) # I searched for an updated syntax for my versions\n",
    "# Comparing"
   ]
  },
  {
   "cell_type": "markdown",
   "metadata": {
    "id": "HMKACmNoVvsv"
   },
   "source": [
    "The first() method will give us a specified length of time from the beginning of the time series. Here, we ask for a week. January 1, 2018 was a holiday—meaning the\n",
    "market was closed. It was also a Monday, so the week here is only four days:"
   ]
  },
  {
   "cell_type": "code",
   "execution_count": 17,
   "metadata": {
    "colab": {
     "base_uri": "https://localhost:8080/",
     "height": 206
    },
    "id": "uZxmvnFVVwT9",
    "outputId": "ae65dd81-57fe-4f1c-c94e-173b4024ceb0"
   },
   "outputs": [
    {
     "name": "stderr",
     "output_type": "stream",
     "text": [
      "C:\\Users\\micki\\AppData\\Local\\Temp\\ipykernel_13752\\3644223734.py:1: FutureWarning: first is deprecated and will be removed in a future version. Please create a mask and filter using `.loc` instead\n",
      "  fb.first('1W')\n"
     ]
    },
    {
     "data": {
      "text/html": [
       "<div>\n",
       "<style scoped>\n",
       "    .dataframe tbody tr th:only-of-type {\n",
       "        vertical-align: middle;\n",
       "    }\n",
       "\n",
       "    .dataframe tbody tr th {\n",
       "        vertical-align: top;\n",
       "    }\n",
       "\n",
       "    .dataframe thead th {\n",
       "        text-align: right;\n",
       "    }\n",
       "</style>\n",
       "<table border=\"1\" class=\"dataframe\">\n",
       "  <thead>\n",
       "    <tr style=\"text-align: right;\">\n",
       "      <th></th>\n",
       "      <th>open</th>\n",
       "      <th>high</th>\n",
       "      <th>low</th>\n",
       "      <th>close</th>\n",
       "      <th>volume</th>\n",
       "      <th>trading_volume</th>\n",
       "    </tr>\n",
       "    <tr>\n",
       "      <th>date</th>\n",
       "      <th></th>\n",
       "      <th></th>\n",
       "      <th></th>\n",
       "      <th></th>\n",
       "      <th></th>\n",
       "      <th></th>\n",
       "    </tr>\n",
       "  </thead>\n",
       "  <tbody>\n",
       "    <tr>\n",
       "      <th>2018-01-02</th>\n",
       "      <td>177.68</td>\n",
       "      <td>181.58</td>\n",
       "      <td>177.5500</td>\n",
       "      <td>181.42</td>\n",
       "      <td>18151903</td>\n",
       "      <td>low</td>\n",
       "    </tr>\n",
       "    <tr>\n",
       "      <th>2018-01-03</th>\n",
       "      <td>181.88</td>\n",
       "      <td>184.78</td>\n",
       "      <td>181.3300</td>\n",
       "      <td>184.67</td>\n",
       "      <td>16886563</td>\n",
       "      <td>low</td>\n",
       "    </tr>\n",
       "    <tr>\n",
       "      <th>2018-01-04</th>\n",
       "      <td>184.90</td>\n",
       "      <td>186.21</td>\n",
       "      <td>184.0996</td>\n",
       "      <td>184.33</td>\n",
       "      <td>13880896</td>\n",
       "      <td>low</td>\n",
       "    </tr>\n",
       "    <tr>\n",
       "      <th>2018-01-05</th>\n",
       "      <td>185.59</td>\n",
       "      <td>186.90</td>\n",
       "      <td>184.9300</td>\n",
       "      <td>186.85</td>\n",
       "      <td>13574535</td>\n",
       "      <td>low</td>\n",
       "    </tr>\n",
       "  </tbody>\n",
       "</table>\n",
       "</div>"
      ],
      "text/plain": [
       "              open    high       low   close    volume trading_volume\n",
       "date                                                                 \n",
       "2018-01-02  177.68  181.58  177.5500  181.42  18151903            low\n",
       "2018-01-03  181.88  184.78  181.3300  184.67  16886563            low\n",
       "2018-01-04  184.90  186.21  184.0996  184.33  13880896            low\n",
       "2018-01-05  185.59  186.90  184.9300  186.85  13574535            low"
      ]
     },
     "execution_count": 17,
     "metadata": {},
     "output_type": "execute_result"
    }
   ],
   "source": [
    "fb.first('1W')\n",
    "# GEts the 1 st week"
   ]
  },
  {
   "cell_type": "markdown",
   "metadata": {
    "id": "oqNMRIVrVzDd"
   },
   "source": [
    "The last() method will take from the end:"
   ]
  },
  {
   "cell_type": "code",
   "execution_count": 20,
   "metadata": {
    "colab": {
     "base_uri": "https://localhost:8080/",
     "height": 112
    },
    "id": "zAVZxoGlV1Fi",
    "outputId": "91f352cf-2382-472c-ed91-855c5be68919"
   },
   "outputs": [
    {
     "name": "stderr",
     "output_type": "stream",
     "text": [
      "C:\\Users\\micki\\AppData\\Local\\Temp\\ipykernel_13752\\555493495.py:1: FutureWarning: last is deprecated and will be removed in a future version. Please create a mask and filter using `.loc` instead\n",
      "  fb.last('1W')\n"
     ]
    },
    {
     "data": {
      "text/html": [
       "<div>\n",
       "<style scoped>\n",
       "    .dataframe tbody tr th:only-of-type {\n",
       "        vertical-align: middle;\n",
       "    }\n",
       "\n",
       "    .dataframe tbody tr th {\n",
       "        vertical-align: top;\n",
       "    }\n",
       "\n",
       "    .dataframe thead th {\n",
       "        text-align: right;\n",
       "    }\n",
       "</style>\n",
       "<table border=\"1\" class=\"dataframe\">\n",
       "  <thead>\n",
       "    <tr style=\"text-align: right;\">\n",
       "      <th></th>\n",
       "      <th>open</th>\n",
       "      <th>high</th>\n",
       "      <th>low</th>\n",
       "      <th>close</th>\n",
       "      <th>volume</th>\n",
       "      <th>trading_volume</th>\n",
       "    </tr>\n",
       "    <tr>\n",
       "      <th>date</th>\n",
       "      <th></th>\n",
       "      <th></th>\n",
       "      <th></th>\n",
       "      <th></th>\n",
       "      <th></th>\n",
       "      <th></th>\n",
       "    </tr>\n",
       "  </thead>\n",
       "  <tbody>\n",
       "    <tr>\n",
       "      <th>2018-12-31</th>\n",
       "      <td>134.45</td>\n",
       "      <td>134.64</td>\n",
       "      <td>129.95</td>\n",
       "      <td>131.09</td>\n",
       "      <td>24625308</td>\n",
       "      <td>low</td>\n",
       "    </tr>\n",
       "  </tbody>\n",
       "</table>\n",
       "</div>"
      ],
      "text/plain": [
       "              open    high     low   close    volume trading_volume\n",
       "date                                                               \n",
       "2018-12-31  134.45  134.64  129.95  131.09  24625308            low"
      ]
     },
     "execution_count": 20,
     "metadata": {},
     "output_type": "execute_result"
    }
   ],
   "source": [
    "fb.last('1W')\n",
    "# gets the last week"
   ]
  },
  {
   "cell_type": "markdown",
   "metadata": {
    "id": "B7tQ5gjdV3sN"
   },
   "source": [
    "For the next few examples, we need datetimes, so we will read in the stock data per minute file:"
   ]
  },
  {
   "cell_type": "code",
   "execution_count": 25,
   "metadata": {
    "colab": {
     "base_uri": "https://localhost:8080/",
     "height": 237
    },
    "id": "9_y1OhSNV5k7",
    "outputId": "84a42bd6-b6d2-40d0-c879-9caba99c2705"
   },
   "outputs": [
    {
     "name": "stderr",
     "output_type": "stream",
     "text": [
      "C:\\Users\\micki\\AppData\\Local\\Temp\\ipykernel_13752\\1785798962.py:1: FutureWarning: The argument 'date_parser' is deprecated and will be removed in a future version. Please use 'date_format' instead, or read your data in as 'object' dtype and then call 'to_datetime'.\n",
      "  stock_data_per_minute = pd.read_csv(\n"
     ]
    },
    {
     "data": {
      "text/html": [
       "<div>\n",
       "<style scoped>\n",
       "    .dataframe tbody tr th:only-of-type {\n",
       "        vertical-align: middle;\n",
       "    }\n",
       "\n",
       "    .dataframe tbody tr th {\n",
       "        vertical-align: top;\n",
       "    }\n",
       "\n",
       "    .dataframe thead th {\n",
       "        text-align: right;\n",
       "    }\n",
       "</style>\n",
       "<table border=\"1\" class=\"dataframe\">\n",
       "  <thead>\n",
       "    <tr style=\"text-align: right;\">\n",
       "      <th></th>\n",
       "      <th>open</th>\n",
       "      <th>high</th>\n",
       "      <th>low</th>\n",
       "      <th>close</th>\n",
       "      <th>volume</th>\n",
       "    </tr>\n",
       "    <tr>\n",
       "      <th>date</th>\n",
       "      <th></th>\n",
       "      <th></th>\n",
       "      <th></th>\n",
       "      <th></th>\n",
       "      <th></th>\n",
       "    </tr>\n",
       "  </thead>\n",
       "  <tbody>\n",
       "    <tr>\n",
       "      <th>2019-05-20 09:30:00</th>\n",
       "      <td>181.6200</td>\n",
       "      <td>181.6200</td>\n",
       "      <td>181.6200</td>\n",
       "      <td>181.6200</td>\n",
       "      <td>159049.0</td>\n",
       "    </tr>\n",
       "    <tr>\n",
       "      <th>2019-05-20 09:31:00</th>\n",
       "      <td>182.6100</td>\n",
       "      <td>182.6100</td>\n",
       "      <td>182.6100</td>\n",
       "      <td>182.6100</td>\n",
       "      <td>468017.0</td>\n",
       "    </tr>\n",
       "    <tr>\n",
       "      <th>2019-05-20 09:32:00</th>\n",
       "      <td>182.7458</td>\n",
       "      <td>182.7458</td>\n",
       "      <td>182.7458</td>\n",
       "      <td>182.7458</td>\n",
       "      <td>97258.0</td>\n",
       "    </tr>\n",
       "    <tr>\n",
       "      <th>2019-05-20 09:33:00</th>\n",
       "      <td>182.9500</td>\n",
       "      <td>182.9500</td>\n",
       "      <td>182.9500</td>\n",
       "      <td>182.9500</td>\n",
       "      <td>43961.0</td>\n",
       "    </tr>\n",
       "    <tr>\n",
       "      <th>2019-05-20 09:34:00</th>\n",
       "      <td>183.0600</td>\n",
       "      <td>183.0600</td>\n",
       "      <td>183.0600</td>\n",
       "      <td>183.0600</td>\n",
       "      <td>79562.0</td>\n",
       "    </tr>\n",
       "  </tbody>\n",
       "</table>\n",
       "</div>"
      ],
      "text/plain": [
       "                         open      high       low     close    volume\n",
       "date                                                                 \n",
       "2019-05-20 09:30:00  181.6200  181.6200  181.6200  181.6200  159049.0\n",
       "2019-05-20 09:31:00  182.6100  182.6100  182.6100  182.6100  468017.0\n",
       "2019-05-20 09:32:00  182.7458  182.7458  182.7458  182.7458   97258.0\n",
       "2019-05-20 09:33:00  182.9500  182.9500  182.9500  182.9500   43961.0\n",
       "2019-05-20 09:34:00  183.0600  183.0600  183.0600  183.0600   79562.0"
      ]
     },
     "execution_count": 25,
     "metadata": {},
     "output_type": "execute_result"
    }
   ],
   "source": [
    "stock_data_per_minute = pd.read_csv(\n",
    " 'fb_week_of_may_20_per_minute.csv', index_col='date', parse_dates=True,\n",
    " date_parser=lambda x: pd.to_datetime(x, format='%Y-%m-%d %H-%M')\n",
    ")\n",
    "stock_data_per_minute.head()"
   ]
  },
  {
   "cell_type": "markdown",
   "metadata": {
    "id": "SrBc3hUoV8O2"
   },
   "source": [
    "We can use the Grouper to roll up our data to the daily level along with first and last :"
   ]
  },
  {
   "cell_type": "code",
   "execution_count": 28,
   "metadata": {
    "colab": {
     "base_uri": "https://localhost:8080/",
     "height": 237
    },
    "id": "VGvvf1ZuV_9E",
    "outputId": "f3dda480-9caf-47f7-fe90-815bc1832f6b"
   },
   "outputs": [
    {
     "data": {
      "text/html": [
       "<div>\n",
       "<style scoped>\n",
       "    .dataframe tbody tr th:only-of-type {\n",
       "        vertical-align: middle;\n",
       "    }\n",
       "\n",
       "    .dataframe tbody tr th {\n",
       "        vertical-align: top;\n",
       "    }\n",
       "\n",
       "    .dataframe thead th {\n",
       "        text-align: right;\n",
       "    }\n",
       "</style>\n",
       "<table border=\"1\" class=\"dataframe\">\n",
       "  <thead>\n",
       "    <tr style=\"text-align: right;\">\n",
       "      <th></th>\n",
       "      <th>open</th>\n",
       "      <th>high</th>\n",
       "      <th>low</th>\n",
       "      <th>close</th>\n",
       "      <th>volume</th>\n",
       "    </tr>\n",
       "    <tr>\n",
       "      <th>date</th>\n",
       "      <th></th>\n",
       "      <th></th>\n",
       "      <th></th>\n",
       "      <th></th>\n",
       "      <th></th>\n",
       "    </tr>\n",
       "  </thead>\n",
       "  <tbody>\n",
       "    <tr>\n",
       "      <th>2019-05-20</th>\n",
       "      <td>181.62</td>\n",
       "      <td>184.1800</td>\n",
       "      <td>181.6200</td>\n",
       "      <td>182.72</td>\n",
       "      <td>10044838.0</td>\n",
       "    </tr>\n",
       "    <tr>\n",
       "      <th>2019-05-21</th>\n",
       "      <td>184.53</td>\n",
       "      <td>185.5800</td>\n",
       "      <td>183.9700</td>\n",
       "      <td>184.82</td>\n",
       "      <td>7198405.0</td>\n",
       "    </tr>\n",
       "    <tr>\n",
       "      <th>2019-05-22</th>\n",
       "      <td>184.81</td>\n",
       "      <td>186.5603</td>\n",
       "      <td>184.0120</td>\n",
       "      <td>185.32</td>\n",
       "      <td>8412433.0</td>\n",
       "    </tr>\n",
       "    <tr>\n",
       "      <th>2019-05-23</th>\n",
       "      <td>182.50</td>\n",
       "      <td>183.7300</td>\n",
       "      <td>179.7559</td>\n",
       "      <td>180.87</td>\n",
       "      <td>12479171.0</td>\n",
       "    </tr>\n",
       "    <tr>\n",
       "      <th>2019-05-24</th>\n",
       "      <td>182.33</td>\n",
       "      <td>183.5227</td>\n",
       "      <td>181.0400</td>\n",
       "      <td>181.06</td>\n",
       "      <td>7686030.0</td>\n",
       "    </tr>\n",
       "  </tbody>\n",
       "</table>\n",
       "</div>"
      ],
      "text/plain": [
       "              open      high       low   close      volume\n",
       "date                                                      \n",
       "2019-05-20  181.62  184.1800  181.6200  182.72  10044838.0\n",
       "2019-05-21  184.53  185.5800  183.9700  184.82   7198405.0\n",
       "2019-05-22  184.81  186.5603  184.0120  185.32   8412433.0\n",
       "2019-05-23  182.50  183.7300  179.7559  180.87  12479171.0\n",
       "2019-05-24  182.33  183.5227  181.0400  181.06   7686030.0"
      ]
     },
     "execution_count": 28,
     "metadata": {},
     "output_type": "execute_result"
    }
   ],
   "source": [
    "stock_data_per_minute.groupby(pd.Grouper(freq='1D')).agg({\n",
    " 'open': 'first',\n",
    " 'high': 'max',\n",
    " 'low': 'min',\n",
    " 'close': 'last',\n",
    " 'volume': 'sum'\n",
    "})\n",
    "# group by and agg mythod combination for aggregation"
   ]
  },
  {
   "cell_type": "markdown",
   "metadata": {
    "id": "EFKwHjYsWA7w"
   },
   "source": [
    "The at_time() method allows us to pull out all datetimes that match a certain time. Here, we can grab all the rows from the time the stock market opens (930 AM):"
   ]
  },
  {
   "cell_type": "code",
   "execution_count": 31,
   "metadata": {
    "colab": {
     "base_uri": "https://localhost:8080/",
     "height": 237
    },
    "id": "xWUW7EQ7WEQe",
    "outputId": "ee994ee1-a3ca-4a39-e8b4-e3b8c840eda6"
   },
   "outputs": [
    {
     "data": {
      "text/html": [
       "<div>\n",
       "<style scoped>\n",
       "    .dataframe tbody tr th:only-of-type {\n",
       "        vertical-align: middle;\n",
       "    }\n",
       "\n",
       "    .dataframe tbody tr th {\n",
       "        vertical-align: top;\n",
       "    }\n",
       "\n",
       "    .dataframe thead th {\n",
       "        text-align: right;\n",
       "    }\n",
       "</style>\n",
       "<table border=\"1\" class=\"dataframe\">\n",
       "  <thead>\n",
       "    <tr style=\"text-align: right;\">\n",
       "      <th></th>\n",
       "      <th>open</th>\n",
       "      <th>high</th>\n",
       "      <th>low</th>\n",
       "      <th>close</th>\n",
       "      <th>volume</th>\n",
       "    </tr>\n",
       "    <tr>\n",
       "      <th>date</th>\n",
       "      <th></th>\n",
       "      <th></th>\n",
       "      <th></th>\n",
       "      <th></th>\n",
       "      <th></th>\n",
       "    </tr>\n",
       "  </thead>\n",
       "  <tbody>\n",
       "    <tr>\n",
       "      <th>2019-05-20 09:30:00</th>\n",
       "      <td>181.62</td>\n",
       "      <td>181.62</td>\n",
       "      <td>181.62</td>\n",
       "      <td>181.62</td>\n",
       "      <td>159049.0</td>\n",
       "    </tr>\n",
       "    <tr>\n",
       "      <th>2019-05-21 09:30:00</th>\n",
       "      <td>184.53</td>\n",
       "      <td>184.53</td>\n",
       "      <td>184.53</td>\n",
       "      <td>184.53</td>\n",
       "      <td>58171.0</td>\n",
       "    </tr>\n",
       "    <tr>\n",
       "      <th>2019-05-22 09:30:00</th>\n",
       "      <td>184.81</td>\n",
       "      <td>184.81</td>\n",
       "      <td>184.81</td>\n",
       "      <td>184.81</td>\n",
       "      <td>41585.0</td>\n",
       "    </tr>\n",
       "    <tr>\n",
       "      <th>2019-05-23 09:30:00</th>\n",
       "      <td>182.50</td>\n",
       "      <td>182.50</td>\n",
       "      <td>182.50</td>\n",
       "      <td>182.50</td>\n",
       "      <td>121930.0</td>\n",
       "    </tr>\n",
       "    <tr>\n",
       "      <th>2019-05-24 09:30:00</th>\n",
       "      <td>182.33</td>\n",
       "      <td>182.33</td>\n",
       "      <td>182.33</td>\n",
       "      <td>182.33</td>\n",
       "      <td>52681.0</td>\n",
       "    </tr>\n",
       "  </tbody>\n",
       "</table>\n",
       "</div>"
      ],
      "text/plain": [
       "                       open    high     low   close    volume\n",
       "date                                                         \n",
       "2019-05-20 09:30:00  181.62  181.62  181.62  181.62  159049.0\n",
       "2019-05-21 09:30:00  184.53  184.53  184.53  184.53   58171.0\n",
       "2019-05-22 09:30:00  184.81  184.81  184.81  184.81   41585.0\n",
       "2019-05-23 09:30:00  182.50  182.50  182.50  182.50  121930.0\n",
       "2019-05-24 09:30:00  182.33  182.33  182.33  182.33   52681.0"
      ]
     },
     "execution_count": 31,
     "metadata": {},
     "output_type": "execute_result"
    }
   ],
   "source": [
    "stock_data_per_minute.at_time('9:30')\n",
    "# gets data whose time is on 9 30"
   ]
  },
  {
   "cell_type": "markdown",
   "metadata": {
    "id": "4ZxR_Q5OWZhf"
   },
   "source": [
    "We can use between_time() to grab data for the last two minutes of trading daily:"
   ]
  },
  {
   "cell_type": "code",
   "execution_count": 34,
   "metadata": {
    "colab": {
     "base_uri": "https://localhost:8080/",
     "height": 394
    },
    "id": "BFNQDKMAWceZ",
    "outputId": "56c5252f-e8d6-4d1e-ab1d-8fca0599b0a1"
   },
   "outputs": [
    {
     "data": {
      "text/html": [
       "<div>\n",
       "<style scoped>\n",
       "    .dataframe tbody tr th:only-of-type {\n",
       "        vertical-align: middle;\n",
       "    }\n",
       "\n",
       "    .dataframe tbody tr th {\n",
       "        vertical-align: top;\n",
       "    }\n",
       "\n",
       "    .dataframe thead th {\n",
       "        text-align: right;\n",
       "    }\n",
       "</style>\n",
       "<table border=\"1\" class=\"dataframe\">\n",
       "  <thead>\n",
       "    <tr style=\"text-align: right;\">\n",
       "      <th></th>\n",
       "      <th>open</th>\n",
       "      <th>high</th>\n",
       "      <th>low</th>\n",
       "      <th>close</th>\n",
       "      <th>volume</th>\n",
       "    </tr>\n",
       "    <tr>\n",
       "      <th>date</th>\n",
       "      <th></th>\n",
       "      <th></th>\n",
       "      <th></th>\n",
       "      <th></th>\n",
       "      <th></th>\n",
       "    </tr>\n",
       "  </thead>\n",
       "  <tbody>\n",
       "    <tr>\n",
       "      <th>2019-05-20 15:59:00</th>\n",
       "      <td>182.915</td>\n",
       "      <td>182.915</td>\n",
       "      <td>182.915</td>\n",
       "      <td>182.915</td>\n",
       "      <td>134569.0</td>\n",
       "    </tr>\n",
       "    <tr>\n",
       "      <th>2019-05-20 16:00:00</th>\n",
       "      <td>182.720</td>\n",
       "      <td>182.720</td>\n",
       "      <td>182.720</td>\n",
       "      <td>182.720</td>\n",
       "      <td>1113672.0</td>\n",
       "    </tr>\n",
       "    <tr>\n",
       "      <th>2019-05-21 15:59:00</th>\n",
       "      <td>184.840</td>\n",
       "      <td>184.840</td>\n",
       "      <td>184.840</td>\n",
       "      <td>184.840</td>\n",
       "      <td>61606.0</td>\n",
       "    </tr>\n",
       "    <tr>\n",
       "      <th>2019-05-21 16:00:00</th>\n",
       "      <td>184.820</td>\n",
       "      <td>184.820</td>\n",
       "      <td>184.820</td>\n",
       "      <td>184.820</td>\n",
       "      <td>801080.0</td>\n",
       "    </tr>\n",
       "    <tr>\n",
       "      <th>2019-05-22 15:59:00</th>\n",
       "      <td>185.290</td>\n",
       "      <td>185.290</td>\n",
       "      <td>185.290</td>\n",
       "      <td>185.290</td>\n",
       "      <td>96099.0</td>\n",
       "    </tr>\n",
       "    <tr>\n",
       "      <th>2019-05-22 16:00:00</th>\n",
       "      <td>185.320</td>\n",
       "      <td>185.320</td>\n",
       "      <td>185.320</td>\n",
       "      <td>185.320</td>\n",
       "      <td>1220993.0</td>\n",
       "    </tr>\n",
       "    <tr>\n",
       "      <th>2019-05-23 15:59:00</th>\n",
       "      <td>180.720</td>\n",
       "      <td>180.720</td>\n",
       "      <td>180.720</td>\n",
       "      <td>180.720</td>\n",
       "      <td>109648.0</td>\n",
       "    </tr>\n",
       "    <tr>\n",
       "      <th>2019-05-23 16:00:00</th>\n",
       "      <td>180.870</td>\n",
       "      <td>180.870</td>\n",
       "      <td>180.870</td>\n",
       "      <td>180.870</td>\n",
       "      <td>1329217.0</td>\n",
       "    </tr>\n",
       "    <tr>\n",
       "      <th>2019-05-24 15:59:00</th>\n",
       "      <td>181.070</td>\n",
       "      <td>181.070</td>\n",
       "      <td>181.070</td>\n",
       "      <td>181.070</td>\n",
       "      <td>52994.0</td>\n",
       "    </tr>\n",
       "    <tr>\n",
       "      <th>2019-05-24 16:00:00</th>\n",
       "      <td>181.060</td>\n",
       "      <td>181.060</td>\n",
       "      <td>181.060</td>\n",
       "      <td>181.060</td>\n",
       "      <td>764906.0</td>\n",
       "    </tr>\n",
       "  </tbody>\n",
       "</table>\n",
       "</div>"
      ],
      "text/plain": [
       "                        open     high      low    close     volume\n",
       "date                                                              \n",
       "2019-05-20 15:59:00  182.915  182.915  182.915  182.915   134569.0\n",
       "2019-05-20 16:00:00  182.720  182.720  182.720  182.720  1113672.0\n",
       "2019-05-21 15:59:00  184.840  184.840  184.840  184.840    61606.0\n",
       "2019-05-21 16:00:00  184.820  184.820  184.820  184.820   801080.0\n",
       "2019-05-22 15:59:00  185.290  185.290  185.290  185.290    96099.0\n",
       "2019-05-22 16:00:00  185.320  185.320  185.320  185.320  1220993.0\n",
       "2019-05-23 15:59:00  180.720  180.720  180.720  180.720   109648.0\n",
       "2019-05-23 16:00:00  180.870  180.870  180.870  180.870  1329217.0\n",
       "2019-05-24 15:59:00  181.070  181.070  181.070  181.070    52994.0\n",
       "2019-05-24 16:00:00  181.060  181.060  181.060  181.060   764906.0"
      ]
     },
     "execution_count": 34,
     "metadata": {},
     "output_type": "execute_result"
    }
   ],
   "source": [
    "stock_data_per_minute.between_time('15:59', '16:00')\n",
    "# gets time betweek 15;59 to 16;00"
   ]
  },
  {
   "cell_type": "markdown",
   "metadata": {
    "id": "U1a1bnN7WiSv"
   },
   "source": [
    "On average, are more shares traded within the first 30 minutes of trading or in the last 30 minutes? We can combine between_time() with Groupers and filter()\n",
    "\n",
    "from the aggregation.ipynb notebook to answer this question. For the week in question, more are traded on average around opening time than closing time:"
   ]
  },
  {
   "cell_type": "code",
   "execution_count": 37,
   "metadata": {
    "colab": {
     "base_uri": "https://localhost:8080/"
    },
    "id": "CQpihHHGWjZC",
    "outputId": "9838a4b5-e325-4c40-cba9-65e266207399"
   },
   "outputs": [
    {
     "data": {
      "text/plain": [
       "18592.967741935485"
      ]
     },
     "execution_count": 37,
     "metadata": {},
     "output_type": "execute_result"
    }
   ],
   "source": [
    "shares_traded_in_first_30_min = stock_data_per_minute\\\n",
    " .between_time('9:30', '10:00')\\\n",
    " .groupby(pd.Grouper(freq='1D'))\\\n",
    " .filter(lambda x: (x.volume > 0).all())\\\n",
    " .volume.mean()\n",
    "shares_traded_in_last_30_min = stock_data_per_minute\\\n",
    " .between_time('15:30', '16:00')\\\n",
    " .groupby(pd.Grouper(freq='1D'))\\\n",
    " .filter(lambda x: (x.volume > 0).all())\\\n",
    " .volume.mean()\n",
    "shares_traded_in_first_30_min - shares_traded_in_last_30_min\n",
    "# difference of values in first 30 mins minus the last 30 mins"
   ]
  },
  {
   "cell_type": "markdown",
   "metadata": {
    "id": "Posubn0rWmre"
   },
   "source": [
    "In cases where time doesn't matter, we can normalize the times to midnight:"
   ]
  },
  {
   "cell_type": "code",
   "execution_count": 40,
   "metadata": {
    "colab": {
     "base_uri": "https://localhost:8080/",
     "height": 206
    },
    "id": "zkYkvwA_WqIS",
    "outputId": "3bd88e18-a0bb-4038-d76d-937af8ea97ba"
   },
   "outputs": [
    {
     "data": {
      "text/html": [
       "<div>\n",
       "<style scoped>\n",
       "    .dataframe tbody tr th:only-of-type {\n",
       "        vertical-align: middle;\n",
       "    }\n",
       "\n",
       "    .dataframe tbody tr th {\n",
       "        vertical-align: top;\n",
       "    }\n",
       "\n",
       "    .dataframe thead th {\n",
       "        text-align: right;\n",
       "    }\n",
       "</style>\n",
       "<table border=\"1\" class=\"dataframe\">\n",
       "  <thead>\n",
       "    <tr style=\"text-align: right;\">\n",
       "      <th></th>\n",
       "      <th>before</th>\n",
       "      <th>after</th>\n",
       "    </tr>\n",
       "  </thead>\n",
       "  <tbody>\n",
       "    <tr>\n",
       "      <th>0</th>\n",
       "      <td>2019-05-20 09:30:00</td>\n",
       "      <td>2019-05-20</td>\n",
       "    </tr>\n",
       "    <tr>\n",
       "      <th>1</th>\n",
       "      <td>2019-05-20 09:31:00</td>\n",
       "      <td>2019-05-20</td>\n",
       "    </tr>\n",
       "    <tr>\n",
       "      <th>2</th>\n",
       "      <td>2019-05-20 09:32:00</td>\n",
       "      <td>2019-05-20</td>\n",
       "    </tr>\n",
       "    <tr>\n",
       "      <th>3</th>\n",
       "      <td>2019-05-20 09:33:00</td>\n",
       "      <td>2019-05-20</td>\n",
       "    </tr>\n",
       "    <tr>\n",
       "      <th>4</th>\n",
       "      <td>2019-05-20 09:34:00</td>\n",
       "      <td>2019-05-20</td>\n",
       "    </tr>\n",
       "  </tbody>\n",
       "</table>\n",
       "</div>"
      ],
      "text/plain": [
       "               before      after\n",
       "0 2019-05-20 09:30:00 2019-05-20\n",
       "1 2019-05-20 09:31:00 2019-05-20\n",
       "2 2019-05-20 09:32:00 2019-05-20\n",
       "3 2019-05-20 09:33:00 2019-05-20\n",
       "4 2019-05-20 09:34:00 2019-05-20"
      ]
     },
     "execution_count": 40,
     "metadata": {},
     "output_type": "execute_result"
    }
   ],
   "source": [
    "pd.DataFrame(\n",
    " dict(before=stock_data_per_minute.index, after=stock_data_per_minute.index.normalize())\n",
    ").head()\n",
    "# THis converts datetime to normal data"
   ]
  },
  {
   "cell_type": "markdown",
   "metadata": {
    "id": "arjFnSA9Wrms"
   },
   "source": [
    "Note that we can also use normalize() on a Series object after accessing the dt attribute:"
   ]
  },
  {
   "cell_type": "code",
   "execution_count": 43,
   "metadata": {
    "colab": {
     "base_uri": "https://localhost:8080/"
    },
    "id": "zUUcWzyTWtCk",
    "outputId": "1f5f00a1-5f89-4ad5-a25d-6d5ed8e74310"
   },
   "outputs": [
    {
     "data": {
      "text/plain": [
       "date\n",
       "2019-05-20 09:30:00   2019-05-20\n",
       "2019-05-20 09:31:00   2019-05-20\n",
       "2019-05-20 09:32:00   2019-05-20\n",
       "2019-05-20 09:33:00   2019-05-20\n",
       "2019-05-20 09:34:00   2019-05-20\n",
       "Name: date, dtype: datetime64[ns]"
      ]
     },
     "execution_count": 43,
     "metadata": {},
     "output_type": "execute_result"
    }
   ],
   "source": [
    "stock_data_per_minute.index.to_series().dt.normalize().head()"
   ]
  },
  {
   "cell_type": "markdown",
   "metadata": {
    "id": "IF3l382EWule"
   },
   "source": [
    "# Shifting for lagged data\n",
    "We can use shift() to create some lagged data. By default, the shift will be one period. For example, we can use shift() to create a new column that indicates the\n",
    "previous day's closing price. From this new column, we can calculate the price change due to after hours trading (after the close one day right up to the open the following\n",
    "day):"
   ]
  },
  {
   "cell_type": "code",
   "execution_count": 46,
   "metadata": {
    "colab": {
     "base_uri": "https://localhost:8080/",
     "height": 237
    },
    "id": "TVlWMKwTWxtz",
    "outputId": "a930d4fc-ae0e-4422-a2cd-34b5b23ba3d4"
   },
   "outputs": [
    {
     "data": {
      "text/html": [
       "<div>\n",
       "<style scoped>\n",
       "    .dataframe tbody tr th:only-of-type {\n",
       "        vertical-align: middle;\n",
       "    }\n",
       "\n",
       "    .dataframe tbody tr th {\n",
       "        vertical-align: top;\n",
       "    }\n",
       "\n",
       "    .dataframe thead th {\n",
       "        text-align: right;\n",
       "    }\n",
       "</style>\n",
       "<table border=\"1\" class=\"dataframe\">\n",
       "  <thead>\n",
       "    <tr style=\"text-align: right;\">\n",
       "      <th></th>\n",
       "      <th>open</th>\n",
       "      <th>high</th>\n",
       "      <th>low</th>\n",
       "      <th>close</th>\n",
       "      <th>volume</th>\n",
       "      <th>trading_volume</th>\n",
       "      <th>prior_close</th>\n",
       "      <th>after_hours_change_in_price</th>\n",
       "      <th>abs_change</th>\n",
       "    </tr>\n",
       "    <tr>\n",
       "      <th>date</th>\n",
       "      <th></th>\n",
       "      <th></th>\n",
       "      <th></th>\n",
       "      <th></th>\n",
       "      <th></th>\n",
       "      <th></th>\n",
       "      <th></th>\n",
       "      <th></th>\n",
       "      <th></th>\n",
       "    </tr>\n",
       "  </thead>\n",
       "  <tbody>\n",
       "    <tr>\n",
       "      <th>2018-07-26</th>\n",
       "      <td>174.89</td>\n",
       "      <td>180.13</td>\n",
       "      <td>173.75</td>\n",
       "      <td>176.26</td>\n",
       "      <td>169803668</td>\n",
       "      <td>high</td>\n",
       "      <td>217.50</td>\n",
       "      <td>-42.61</td>\n",
       "      <td>42.61</td>\n",
       "    </tr>\n",
       "    <tr>\n",
       "      <th>2018-04-26</th>\n",
       "      <td>173.22</td>\n",
       "      <td>176.27</td>\n",
       "      <td>170.80</td>\n",
       "      <td>174.16</td>\n",
       "      <td>77556934</td>\n",
       "      <td>med</td>\n",
       "      <td>159.69</td>\n",
       "      <td>13.53</td>\n",
       "      <td>13.53</td>\n",
       "    </tr>\n",
       "    <tr>\n",
       "      <th>2018-01-12</th>\n",
       "      <td>178.06</td>\n",
       "      <td>181.48</td>\n",
       "      <td>177.40</td>\n",
       "      <td>179.37</td>\n",
       "      <td>77551299</td>\n",
       "      <td>med</td>\n",
       "      <td>187.77</td>\n",
       "      <td>-9.71</td>\n",
       "      <td>9.71</td>\n",
       "    </tr>\n",
       "    <tr>\n",
       "      <th>2018-10-31</th>\n",
       "      <td>155.00</td>\n",
       "      <td>156.40</td>\n",
       "      <td>148.96</td>\n",
       "      <td>151.79</td>\n",
       "      <td>60101251</td>\n",
       "      <td>low</td>\n",
       "      <td>146.22</td>\n",
       "      <td>8.78</td>\n",
       "      <td>8.78</td>\n",
       "    </tr>\n",
       "    <tr>\n",
       "      <th>2018-03-19</th>\n",
       "      <td>177.01</td>\n",
       "      <td>177.17</td>\n",
       "      <td>170.06</td>\n",
       "      <td>172.56</td>\n",
       "      <td>88140060</td>\n",
       "      <td>med</td>\n",
       "      <td>185.09</td>\n",
       "      <td>-8.08</td>\n",
       "      <td>8.08</td>\n",
       "    </tr>\n",
       "  </tbody>\n",
       "</table>\n",
       "</div>"
      ],
      "text/plain": [
       "              open    high     low   close     volume trading_volume  \\\n",
       "date                                                                   \n",
       "2018-07-26  174.89  180.13  173.75  176.26  169803668           high   \n",
       "2018-04-26  173.22  176.27  170.80  174.16   77556934            med   \n",
       "2018-01-12  178.06  181.48  177.40  179.37   77551299            med   \n",
       "2018-10-31  155.00  156.40  148.96  151.79   60101251            low   \n",
       "2018-03-19  177.01  177.17  170.06  172.56   88140060            med   \n",
       "\n",
       "            prior_close  after_hours_change_in_price  abs_change  \n",
       "date                                                              \n",
       "2018-07-26       217.50                       -42.61       42.61  \n",
       "2018-04-26       159.69                        13.53       13.53  \n",
       "2018-01-12       187.77                        -9.71        9.71  \n",
       "2018-10-31       146.22                         8.78        8.78  \n",
       "2018-03-19       185.09                        -8.08        8.08  "
      ]
     },
     "execution_count": 46,
     "metadata": {},
     "output_type": "execute_result"
    }
   ],
   "source": [
    "fb.assign(\n",
    " prior_close=lambda x: x.close.shift(),\n",
    " after_hours_change_in_price=lambda x: x.open - x.prior_close,\n",
    " abs_change=lambda x: x.after_hours_change_in_price.abs()\n",
    ").nlargest(5, 'abs_change')"
   ]
  },
  {
   "cell_type": "markdown",
   "metadata": {
    "id": "sVzWLHrlW3I4"
   },
   "source": [
    "The tshift() method will shift the DatetimeIndex rather than the data. However, if the goal is to to add/subtract time we can use pd.Timedelta :"
   ]
  },
  {
   "cell_type": "code",
   "execution_count": 49,
   "metadata": {
    "colab": {
     "base_uri": "https://localhost:8080/"
    },
    "id": "B_78w4FmW87j",
    "outputId": "315ba4c8-488c-4844-83db-767dfa8227d0"
   },
   "outputs": [
    {
     "data": {
      "text/plain": [
       "DatetimeIndex(['2018-01-01 09:30:00', '2018-01-02 09:30:00',\n",
       "               '2018-01-03 09:30:00', '2018-01-04 09:30:00',\n",
       "               '2018-01-05 09:30:00'],\n",
       "              dtype='datetime64[ns]', freq='D')"
      ]
     },
     "execution_count": 49,
     "metadata": {},
     "output_type": "execute_result"
    }
   ],
   "source": [
    "pd.date_range('2018-01-01', freq='D', periods=5) + pd.Timedelta('9 hours 30 minutes')\n",
    "# indexing from 01 by 5"
   ]
  },
  {
   "cell_type": "markdown",
   "metadata": {
    "id": "HpeQXjplW9kj"
   },
   "source": [
    "When working with stock data, we only have data for the dates the market was open. We can use first_valid_index() to give us the index of the first non-null entry in\n",
    "our data. For September 2018, this is September 4th:"
   ]
  },
  {
   "cell_type": "code",
   "execution_count": 56,
   "metadata": {
    "colab": {
     "base_uri": "https://localhost:8080/"
    },
    "id": "V1V4Jy2ZW_mj",
    "outputId": "d31e0c2a-18b7-4ed2-8957-834ff4c586ab"
   },
   "outputs": [
    {
     "data": {
      "text/plain": [
       "Timestamp('2018-09-04 00:00:00')"
      ]
     },
     "execution_count": 56,
     "metadata": {},
     "output_type": "execute_result"
    }
   ],
   "source": [
    "# fb['2018-09'].first_valid_index()\n",
    "fb.loc['2018-09'].first_valid_index() "
   ]
  },
  {
   "cell_type": "markdown",
   "metadata": {
    "id": "wmgYDsM-XCj9"
   },
   "source": [
    "Conversely, we can use last_valid_index() to get the last entry of non-null data. For September 2018, this is September 28th:\n"
   ]
  },
  {
   "cell_type": "code",
   "execution_count": 61,
   "metadata": {
    "colab": {
     "base_uri": "https://localhost:8080/"
    },
    "id": "g-hwyd9nXGEi",
    "outputId": "9c51921c-8a09-45bc-80db-44d5cce447ef"
   },
   "outputs": [
    {
     "data": {
      "text/plain": [
       "Timestamp('2018-09-28 00:00:00')"
      ]
     },
     "execution_count": 61,
     "metadata": {},
     "output_type": "execute_result"
    }
   ],
   "source": [
    "# fb['2018-09'].last_valid_index()\n",
    "fb.loc['2018-09'].last_valid_index()"
   ]
  },
  {
   "cell_type": "markdown",
   "metadata": {
    "id": "rgAvdJpAXJVY"
   },
   "source": [
    "We can use asof() to find the last non-null data before the point we are looking for, if it isn't in the index. From the previous result, we know that the market was not open\n",
    "on September 30th. It also isn't in the index:"
   ]
  },
  {
   "cell_type": "markdown",
   "metadata": {
    "id": "dQ9P9FV2XNxz"
   },
   "source": [
    "If we ask for it, we will get the data from the index we got from fb['2018-09'].last_valid_index() , which was September 28th:"
   ]
  },
  {
   "cell_type": "code",
   "execution_count": 65,
   "metadata": {
    "colab": {
     "base_uri": "https://localhost:8080/"
    },
    "id": "OEGWP_VxXSUz",
    "outputId": "20f90bb1-809f-4472-9830-88e6dc905797"
   },
   "outputs": [
    {
     "data": {
      "text/plain": [
       "open                168.33\n",
       "high                168.79\n",
       "low                 162.56\n",
       "close               164.46\n",
       "volume            34265638\n",
       "trading_volume         low\n",
       "Name: 2018-09-30 00:00:00, dtype: object"
      ]
     },
     "execution_count": 65,
     "metadata": {},
     "output_type": "execute_result"
    }
   ],
   "source": [
    "fb.asof('2018-09-30')"
   ]
  },
  {
   "cell_type": "markdown",
   "metadata": {
    "id": "eyIbfVp9XVGC"
   },
   "source": [
    "# Differenced data\n",
    "Using the diff() method is a quick way to calculate the difference between the data and a lagged version of it. By default, it will yield the result of data -\n",
    "data.shift() :"
   ]
  },
  {
   "cell_type": "code",
   "execution_count": 68,
   "metadata": {
    "colab": {
     "base_uri": "https://localhost:8080/"
    },
    "id": "76Y5W80BXXg5",
    "outputId": "5439477d-7e88-43bd-943f-7fbd783fd195"
   },
   "outputs": [
    {
     "data": {
      "text/plain": [
       "True"
      ]
     },
     "execution_count": 68,
     "metadata": {},
     "output_type": "execute_result"
    }
   ],
   "source": [
    "(\n",
    " fb.drop(columns='trading_volume')\n",
    " - fb.drop(columns='trading_volume').shift()\n",
    ").equals(\n",
    " fb.drop(columns='trading_volume').diff()\n",
    ")\n"
   ]
  },
  {
   "cell_type": "markdown",
   "metadata": {
    "id": "7odpibXxXap9"
   },
   "source": [
    "We can use this to see how Facebook stock changed day-over-day:"
   ]
  },
  {
   "cell_type": "code",
   "execution_count": 71,
   "metadata": {
    "colab": {
     "base_uri": "https://localhost:8080/",
     "height": 237
    },
    "id": "yQ-VIYERXcah",
    "outputId": "18d5058f-f142-43e2-fd4e-ce2a034409ae"
   },
   "outputs": [
    {
     "data": {
      "text/html": [
       "<div>\n",
       "<style scoped>\n",
       "    .dataframe tbody tr th:only-of-type {\n",
       "        vertical-align: middle;\n",
       "    }\n",
       "\n",
       "    .dataframe tbody tr th {\n",
       "        vertical-align: top;\n",
       "    }\n",
       "\n",
       "    .dataframe thead th {\n",
       "        text-align: right;\n",
       "    }\n",
       "</style>\n",
       "<table border=\"1\" class=\"dataframe\">\n",
       "  <thead>\n",
       "    <tr style=\"text-align: right;\">\n",
       "      <th></th>\n",
       "      <th>open</th>\n",
       "      <th>high</th>\n",
       "      <th>low</th>\n",
       "      <th>close</th>\n",
       "      <th>volume</th>\n",
       "    </tr>\n",
       "    <tr>\n",
       "      <th>date</th>\n",
       "      <th></th>\n",
       "      <th></th>\n",
       "      <th></th>\n",
       "      <th></th>\n",
       "      <th></th>\n",
       "    </tr>\n",
       "  </thead>\n",
       "  <tbody>\n",
       "    <tr>\n",
       "      <th>2018-01-02</th>\n",
       "      <td>NaN</td>\n",
       "      <td>NaN</td>\n",
       "      <td>NaN</td>\n",
       "      <td>NaN</td>\n",
       "      <td>NaN</td>\n",
       "    </tr>\n",
       "    <tr>\n",
       "      <th>2018-01-03</th>\n",
       "      <td>4.20</td>\n",
       "      <td>3.20</td>\n",
       "      <td>3.7800</td>\n",
       "      <td>3.25</td>\n",
       "      <td>-1265340.0</td>\n",
       "    </tr>\n",
       "    <tr>\n",
       "      <th>2018-01-04</th>\n",
       "      <td>3.02</td>\n",
       "      <td>1.43</td>\n",
       "      <td>2.7696</td>\n",
       "      <td>-0.34</td>\n",
       "      <td>-3005667.0</td>\n",
       "    </tr>\n",
       "    <tr>\n",
       "      <th>2018-01-05</th>\n",
       "      <td>0.69</td>\n",
       "      <td>0.69</td>\n",
       "      <td>0.8304</td>\n",
       "      <td>2.52</td>\n",
       "      <td>-306361.0</td>\n",
       "    </tr>\n",
       "    <tr>\n",
       "      <th>2018-01-08</th>\n",
       "      <td>1.61</td>\n",
       "      <td>2.00</td>\n",
       "      <td>1.4000</td>\n",
       "      <td>1.43</td>\n",
       "      <td>4420191.0</td>\n",
       "    </tr>\n",
       "  </tbody>\n",
       "</table>\n",
       "</div>"
      ],
      "text/plain": [
       "            open  high     low  close     volume\n",
       "date                                            \n",
       "2018-01-02   NaN   NaN     NaN    NaN        NaN\n",
       "2018-01-03  4.20  3.20  3.7800   3.25 -1265340.0\n",
       "2018-01-04  3.02  1.43  2.7696  -0.34 -3005667.0\n",
       "2018-01-05  0.69  0.69  0.8304   2.52  -306361.0\n",
       "2018-01-08  1.61  2.00  1.4000   1.43  4420191.0"
      ]
     },
     "execution_count": 71,
     "metadata": {},
     "output_type": "execute_result"
    }
   ],
   "source": [
    "fb.drop(columns='trading_volume').diff().head()"
   ]
  },
  {
   "cell_type": "markdown",
   "metadata": {
    "id": "5-JLrk7OXfmi"
   },
   "source": [
    "We can specify the number of periods, can be any positive or negative integer:"
   ]
  },
  {
   "cell_type": "code",
   "execution_count": 74,
   "metadata": {
    "colab": {
     "base_uri": "https://localhost:8080/",
     "height": 237
    },
    "id": "njFYVZ2hXha0",
    "outputId": "9aa62069-026a-46bf-fbf7-3e1fa864fc59"
   },
   "outputs": [
    {
     "data": {
      "text/html": [
       "<div>\n",
       "<style scoped>\n",
       "    .dataframe tbody tr th:only-of-type {\n",
       "        vertical-align: middle;\n",
       "    }\n",
       "\n",
       "    .dataframe tbody tr th {\n",
       "        vertical-align: top;\n",
       "    }\n",
       "\n",
       "    .dataframe thead th {\n",
       "        text-align: right;\n",
       "    }\n",
       "</style>\n",
       "<table border=\"1\" class=\"dataframe\">\n",
       "  <thead>\n",
       "    <tr style=\"text-align: right;\">\n",
       "      <th></th>\n",
       "      <th>open</th>\n",
       "      <th>high</th>\n",
       "      <th>low</th>\n",
       "      <th>close</th>\n",
       "      <th>volume</th>\n",
       "    </tr>\n",
       "    <tr>\n",
       "      <th>date</th>\n",
       "      <th></th>\n",
       "      <th></th>\n",
       "      <th></th>\n",
       "      <th></th>\n",
       "      <th></th>\n",
       "    </tr>\n",
       "  </thead>\n",
       "  <tbody>\n",
       "    <tr>\n",
       "      <th>2018-01-02</th>\n",
       "      <td>-7.91</td>\n",
       "      <td>-5.32</td>\n",
       "      <td>-7.3800</td>\n",
       "      <td>-5.43</td>\n",
       "      <td>4577368.0</td>\n",
       "    </tr>\n",
       "    <tr>\n",
       "      <th>2018-01-03</th>\n",
       "      <td>-5.32</td>\n",
       "      <td>-4.12</td>\n",
       "      <td>-5.0000</td>\n",
       "      <td>-3.61</td>\n",
       "      <td>-1108163.0</td>\n",
       "    </tr>\n",
       "    <tr>\n",
       "      <th>2018-01-04</th>\n",
       "      <td>-3.80</td>\n",
       "      <td>-2.59</td>\n",
       "      <td>-3.0004</td>\n",
       "      <td>-3.54</td>\n",
       "      <td>1487839.0</td>\n",
       "    </tr>\n",
       "    <tr>\n",
       "      <th>2018-01-05</th>\n",
       "      <td>-1.35</td>\n",
       "      <td>-0.99</td>\n",
       "      <td>-0.7000</td>\n",
       "      <td>-0.99</td>\n",
       "      <td>3044641.0</td>\n",
       "    </tr>\n",
       "    <tr>\n",
       "      <th>2018-01-08</th>\n",
       "      <td>-1.20</td>\n",
       "      <td>0.50</td>\n",
       "      <td>-1.0500</td>\n",
       "      <td>0.51</td>\n",
       "      <td>8406139.0</td>\n",
       "    </tr>\n",
       "  </tbody>\n",
       "</table>\n",
       "</div>"
      ],
      "text/plain": [
       "            open  high     low  close     volume\n",
       "date                                            \n",
       "2018-01-02 -7.91 -5.32 -7.3800  -5.43  4577368.0\n",
       "2018-01-03 -5.32 -4.12 -5.0000  -3.61 -1108163.0\n",
       "2018-01-04 -3.80 -2.59 -3.0004  -3.54  1487839.0\n",
       "2018-01-05 -1.35 -0.99 -0.7000  -0.99  3044641.0\n",
       "2018-01-08 -1.20  0.50 -1.0500   0.51  8406139.0"
      ]
     },
     "execution_count": 74,
     "metadata": {},
     "output_type": "execute_result"
    }
   ],
   "source": [
    "fb.drop(columns='trading_volume').diff(-3).head()"
   ]
  },
  {
   "cell_type": "markdown",
   "metadata": {
    "id": "7eGKTGpXXkZA"
   },
   "source": [
    "# Resampling\n",
    "Sometimes the data is at a granularity that isn't conducive to our analysis. Consider the case where we have data per minute for the full year of 2018. Let's see what happens\n",
    "if we try to plot this.\n",
    "\n",
    "Plotting will be covered in the next module, so don't worry too much about the code.\n",
    "\n",
    "First, we import matplotlib for plotting:"
   ]
  },
  {
   "cell_type": "code",
   "execution_count": 77,
   "metadata": {
    "id": "Oj5iFJ8zXpzO"
   },
   "outputs": [],
   "source": [
    "import matplotlib.pyplot as plt"
   ]
  },
  {
   "cell_type": "markdown",
   "metadata": {
    "id": "CobDjO6EXrXL"
   },
   "source": [
    "Then we will look at the plot at the minute level and at the daily aggregated level (summed):"
   ]
  },
  {
   "cell_type": "code",
   "execution_count": 83,
   "metadata": {
    "colab": {
     "base_uri": "https://localhost:8080/",
     "height": 482
    },
    "id": "o5jDnx-NXtR2",
    "outputId": "99c9009d-4b2a-45b3-c511-d5195ff5aac7"
   },
   "outputs": [
    {
     "name": "stderr",
     "output_type": "stream",
     "text": [
      "C:\\Users\\micki\\AppData\\Local\\Temp\\ipykernel_13752\\601178651.py:2: FutureWarning: 'T' is deprecated and will be removed in a future version, please use 'min' instead.\n",
      "  index = pd.date_range('2018-01-01', freq='T', periods=365*24*60)\n"
     ]
    },
    {
     "data": {
      "image/png": "[encoded data removed]",
      "text/plain": [
       "<Figure size 1500x500 with 2 Axes>"
      ]
     },
     "metadata": {},
     "output_type": "display_data"
    }
   ],
   "source": [
    "np.random.seed(0)\n",
    "index = pd.date_range('2018-01-01', freq='T', periods=365*24*60)\n",
    "raw = pd.DataFrame(\n",
    " np.random.uniform(0, 10, size=index.shape[0]), index=index\n",
    ")\n",
    "fig, axes = plt.subplots(1, 2, figsize=(15, 5))\n",
    "raw.plot(legend=False, ax=axes[0], title='raw data')\n",
    "raw.resample('1D').sum().plot(legend=False, ax=axes[1], title='daily totals')\n",
    "for ax in axes:\n",
    " ax.set_xlabel('date')\n",
    " ax.set_ylabel('events')\n",
    "\n",
    "plt.suptitle('Raw versus Resampled Data')\n",
    "plt.show()\n",
    "\n",
    "# shows the minute level and the daily agg level with subplots"
   ]
  },
  {
   "cell_type": "markdown",
   "metadata": {
    "id": "ubec_gaeXxF3"
   },
   "source": [
    "The plot on the left has so much data we can't see anything. However, when we aggregate to the daily totals, we see the data. We can alter the granularity of the data we are\n",
    "working with using resampling. Recall our minute-by-minute stock data:"
   ]
  },
  {
   "cell_type": "code",
   "execution_count": 87,
   "metadata": {
    "colab": {
     "base_uri": "https://localhost:8080/",
     "height": 237
    },
    "id": "xJ2JHJOcXzDt",
    "outputId": "847b3543-3e9c-4041-e54a-d8946d561ee1"
   },
   "outputs": [
    {
     "data": {
      "text/html": [
       "<div>\n",
       "<style scoped>\n",
       "    .dataframe tbody tr th:only-of-type {\n",
       "        vertical-align: middle;\n",
       "    }\n",
       "\n",
       "    .dataframe tbody tr th {\n",
       "        vertical-align: top;\n",
       "    }\n",
       "\n",
       "    .dataframe thead th {\n",
       "        text-align: right;\n",
       "    }\n",
       "</style>\n",
       "<table border=\"1\" class=\"dataframe\">\n",
       "  <thead>\n",
       "    <tr style=\"text-align: right;\">\n",
       "      <th></th>\n",
       "      <th>open</th>\n",
       "      <th>high</th>\n",
       "      <th>low</th>\n",
       "      <th>close</th>\n",
       "      <th>volume</th>\n",
       "    </tr>\n",
       "    <tr>\n",
       "      <th>date</th>\n",
       "      <th></th>\n",
       "      <th></th>\n",
       "      <th></th>\n",
       "      <th></th>\n",
       "      <th></th>\n",
       "    </tr>\n",
       "  </thead>\n",
       "  <tbody>\n",
       "    <tr>\n",
       "      <th>2019-05-20 09:30:00</th>\n",
       "      <td>181.6200</td>\n",
       "      <td>181.6200</td>\n",
       "      <td>181.6200</td>\n",
       "      <td>181.6200</td>\n",
       "      <td>159049.0</td>\n",
       "    </tr>\n",
       "    <tr>\n",
       "      <th>2019-05-20 09:31:00</th>\n",
       "      <td>182.6100</td>\n",
       "      <td>182.6100</td>\n",
       "      <td>182.6100</td>\n",
       "      <td>182.6100</td>\n",
       "      <td>468017.0</td>\n",
       "    </tr>\n",
       "    <tr>\n",
       "      <th>2019-05-20 09:32:00</th>\n",
       "      <td>182.7458</td>\n",
       "      <td>182.7458</td>\n",
       "      <td>182.7458</td>\n",
       "      <td>182.7458</td>\n",
       "      <td>97258.0</td>\n",
       "    </tr>\n",
       "    <tr>\n",
       "      <th>2019-05-20 09:33:00</th>\n",
       "      <td>182.9500</td>\n",
       "      <td>182.9500</td>\n",
       "      <td>182.9500</td>\n",
       "      <td>182.9500</td>\n",
       "      <td>43961.0</td>\n",
       "    </tr>\n",
       "    <tr>\n",
       "      <th>2019-05-20 09:34:00</th>\n",
       "      <td>183.0600</td>\n",
       "      <td>183.0600</td>\n",
       "      <td>183.0600</td>\n",
       "      <td>183.0600</td>\n",
       "      <td>79562.0</td>\n",
       "    </tr>\n",
       "  </tbody>\n",
       "</table>\n",
       "</div>"
      ],
      "text/plain": [
       "                         open      high       low     close    volume\n",
       "date                                                                 \n",
       "2019-05-20 09:30:00  181.6200  181.6200  181.6200  181.6200  159049.0\n",
       "2019-05-20 09:31:00  182.6100  182.6100  182.6100  182.6100  468017.0\n",
       "2019-05-20 09:32:00  182.7458  182.7458  182.7458  182.7458   97258.0\n",
       "2019-05-20 09:33:00  182.9500  182.9500  182.9500  182.9500   43961.0\n",
       "2019-05-20 09:34:00  183.0600  183.0600  183.0600  183.0600   79562.0"
      ]
     },
     "execution_count": 87,
     "metadata": {},
     "output_type": "execute_result"
    }
   ],
   "source": [
    "stock_data_per_minute.head()"
   ]
  },
  {
   "cell_type": "markdown",
   "metadata": {
    "id": "nJIZkab_X0qh"
   },
   "source": [
    "We can resample this to get to a daily frequency"
   ]
  },
  {
   "cell_type": "code",
   "execution_count": 90,
   "metadata": {
    "colab": {
     "base_uri": "https://localhost:8080/",
     "height": 237
    },
    "id": "68e4XhsyX2yy",
    "outputId": "47732623-24e1-4e85-d17a-83eaaf20dd35"
   },
   "outputs": [
    {
     "data": {
      "text/html": [
       "<div>\n",
       "<style scoped>\n",
       "    .dataframe tbody tr th:only-of-type {\n",
       "        vertical-align: middle;\n",
       "    }\n",
       "\n",
       "    .dataframe tbody tr th {\n",
       "        vertical-align: top;\n",
       "    }\n",
       "\n",
       "    .dataframe thead th {\n",
       "        text-align: right;\n",
       "    }\n",
       "</style>\n",
       "<table border=\"1\" class=\"dataframe\">\n",
       "  <thead>\n",
       "    <tr style=\"text-align: right;\">\n",
       "      <th></th>\n",
       "      <th>open</th>\n",
       "      <th>high</th>\n",
       "      <th>low</th>\n",
       "      <th>close</th>\n",
       "      <th>volume</th>\n",
       "    </tr>\n",
       "    <tr>\n",
       "      <th>date</th>\n",
       "      <th></th>\n",
       "      <th></th>\n",
       "      <th></th>\n",
       "      <th></th>\n",
       "      <th></th>\n",
       "    </tr>\n",
       "  </thead>\n",
       "  <tbody>\n",
       "    <tr>\n",
       "      <th>2019-05-20</th>\n",
       "      <td>181.62</td>\n",
       "      <td>184.1800</td>\n",
       "      <td>181.6200</td>\n",
       "      <td>182.72</td>\n",
       "      <td>10044838.0</td>\n",
       "    </tr>\n",
       "    <tr>\n",
       "      <th>2019-05-21</th>\n",
       "      <td>184.53</td>\n",
       "      <td>185.5800</td>\n",
       "      <td>183.9700</td>\n",
       "      <td>184.82</td>\n",
       "      <td>7198405.0</td>\n",
       "    </tr>\n",
       "    <tr>\n",
       "      <th>2019-05-22</th>\n",
       "      <td>184.81</td>\n",
       "      <td>186.5603</td>\n",
       "      <td>184.0120</td>\n",
       "      <td>185.32</td>\n",
       "      <td>8412433.0</td>\n",
       "    </tr>\n",
       "    <tr>\n",
       "      <th>2019-05-23</th>\n",
       "      <td>182.50</td>\n",
       "      <td>183.7300</td>\n",
       "      <td>179.7559</td>\n",
       "      <td>180.87</td>\n",
       "      <td>12479171.0</td>\n",
       "    </tr>\n",
       "    <tr>\n",
       "      <th>2019-05-24</th>\n",
       "      <td>182.33</td>\n",
       "      <td>183.5227</td>\n",
       "      <td>181.0400</td>\n",
       "      <td>181.06</td>\n",
       "      <td>7686030.0</td>\n",
       "    </tr>\n",
       "  </tbody>\n",
       "</table>\n",
       "</div>"
      ],
      "text/plain": [
       "              open      high       low   close      volume\n",
       "date                                                      \n",
       "2019-05-20  181.62  184.1800  181.6200  182.72  10044838.0\n",
       "2019-05-21  184.53  185.5800  183.9700  184.82   7198405.0\n",
       "2019-05-22  184.81  186.5603  184.0120  185.32   8412433.0\n",
       "2019-05-23  182.50  183.7300  179.7559  180.87  12479171.0\n",
       "2019-05-24  182.33  183.5227  181.0400  181.06   7686030.0"
      ]
     },
     "execution_count": 90,
     "metadata": {},
     "output_type": "execute_result"
    }
   ],
   "source": [
    "stock_data_per_minute.resample('1D').agg({\n",
    " 'open': 'first',\n",
    " 'high': 'max',\n",
    " 'low': 'min',\n",
    " 'close': 'last',\n",
    " 'volume': 'sum'\n",
    "})\n"
   ]
  },
  {
   "cell_type": "markdown",
   "metadata": {
    "id": "WxUnTcl5X4xx"
   },
   "source": [
    "We can downsample to quarterly data:"
   ]
  },
  {
   "cell_type": "code",
   "execution_count": 103,
   "metadata": {
    "colab": {
     "base_uri": "https://localhost:8080/",
     "height": 261
    },
    "id": "4DQMzzfRX__U",
    "outputId": "9a1cefb0-cff6-4a53-c27a-5e49ef8c51d0"
   },
   "outputs": [
    {
     "name": "stderr",
     "output_type": "stream",
     "text": [
      "C:\\Users\\micki\\AppData\\Local\\Temp\\ipykernel_13752\\3106345863.py:3: FutureWarning: 'Q-DEC' is deprecated and will be removed in a future version, please use 'QE-DEC' instead.\n",
      "  fb.select_dtypes(include='number').resample('Q-DEC').mean()\n"
     ]
    },
    {
     "data": {
      "text/html": [
       "<div>\n",
       "<style scoped>\n",
       "    .dataframe tbody tr th:only-of-type {\n",
       "        vertical-align: middle;\n",
       "    }\n",
       "\n",
       "    .dataframe tbody tr th {\n",
       "        vertical-align: top;\n",
       "    }\n",
       "\n",
       "    .dataframe thead th {\n",
       "        text-align: right;\n",
       "    }\n",
       "</style>\n",
       "<table border=\"1\" class=\"dataframe\">\n",
       "  <thead>\n",
       "    <tr style=\"text-align: right;\">\n",
       "      <th></th>\n",
       "      <th>open</th>\n",
       "      <th>high</th>\n",
       "      <th>low</th>\n",
       "      <th>close</th>\n",
       "      <th>volume</th>\n",
       "    </tr>\n",
       "    <tr>\n",
       "      <th>date</th>\n",
       "      <th></th>\n",
       "      <th></th>\n",
       "      <th></th>\n",
       "      <th></th>\n",
       "      <th></th>\n",
       "    </tr>\n",
       "  </thead>\n",
       "  <tbody>\n",
       "    <tr>\n",
       "      <th>2018-03-31</th>\n",
       "      <td>179.472295</td>\n",
       "      <td>181.794659</td>\n",
       "      <td>177.040428</td>\n",
       "      <td>179.551148</td>\n",
       "      <td>3.292640e+07</td>\n",
       "    </tr>\n",
       "    <tr>\n",
       "      <th>2018-06-30</th>\n",
       "      <td>180.373770</td>\n",
       "      <td>182.277689</td>\n",
       "      <td>178.595964</td>\n",
       "      <td>180.704688</td>\n",
       "      <td>2.405532e+07</td>\n",
       "    </tr>\n",
       "    <tr>\n",
       "      <th>2018-09-30</th>\n",
       "      <td>180.812130</td>\n",
       "      <td>182.890886</td>\n",
       "      <td>178.955229</td>\n",
       "      <td>181.028492</td>\n",
       "      <td>2.701982e+07</td>\n",
       "    </tr>\n",
       "    <tr>\n",
       "      <th>2018-12-31</th>\n",
       "      <td>145.272460</td>\n",
       "      <td>147.620121</td>\n",
       "      <td>142.718943</td>\n",
       "      <td>144.868730</td>\n",
       "      <td>2.697433e+07</td>\n",
       "    </tr>\n",
       "  </tbody>\n",
       "</table>\n",
       "</div>"
      ],
      "text/plain": [
       "                  open        high         low       close        volume\n",
       "date                                                                    \n",
       "2018-03-31  179.472295  181.794659  177.040428  179.551148  3.292640e+07\n",
       "2018-06-30  180.373770  182.277689  178.595964  180.704688  2.405532e+07\n",
       "2018-09-30  180.812130  182.890886  178.955229  181.028492  2.701982e+07\n",
       "2018-12-31  145.272460  147.620121  142.718943  144.868730  2.697433e+07"
      ]
     },
     "execution_count": 103,
     "metadata": {},
     "output_type": "execute_result"
    }
   ],
   "source": [
    "# fb.resample('Q').mean()\n",
    "# Resample only numeric columns to compute quarterly means and avoid TypeError from non-numeric data\n",
    "fb.select_dtypes(include='number').resample('Q-DEC').mean()"
   ]
  },
  {
   "cell_type": "markdown",
   "metadata": {
    "id": "2Dvjme23YCye"
   },
   "source": [
    "We can also use apply() . Here, we show the quarterly change from start to end:"
   ]
  },
  {
   "cell_type": "code",
   "execution_count": 112,
   "metadata": {
    "colab": {
     "base_uri": "https://localhost:8080/"
    },
    "id": "m17SmGerYESY",
    "outputId": "41730154-cf38-49bb-f72f-522fea59c094"
   },
   "outputs": [
    {
     "name": "stderr",
     "output_type": "stream",
     "text": [
      "C:\\Users\\micki\\AppData\\Local\\Temp\\ipykernel_13752\\1586553122.py:1: FutureWarning: 'Q' is deprecated and will be removed in a future version, please use 'QE' instead.\n",
      "  fb.drop(columns='trading_volume').resample('Q').apply(\n",
      "C:\\Users\\micki\\AppData\\Local\\Temp\\ipykernel_13752\\1586553122.py:2: FutureWarning: last is deprecated and will be removed in a future version. Please create a mask and filter using `.loc` instead\n",
      "  lambda x: x.last('1D').values - x.first('1D').values\n",
      "C:\\Users\\micki\\AppData\\Local\\Temp\\ipykernel_13752\\1586553122.py:2: FutureWarning: first is deprecated and will be removed in a future version. Please create a mask and filter using `.loc` instead\n",
      "  lambda x: x.last('1D').values - x.first('1D').values\n",
      "C:\\Users\\micki\\AppData\\Local\\Temp\\ipykernel_13752\\1586553122.py:2: FutureWarning: last is deprecated and will be removed in a future version. Please create a mask and filter using `.loc` instead\n",
      "  lambda x: x.last('1D').values - x.first('1D').values\n",
      "C:\\Users\\micki\\AppData\\Local\\Temp\\ipykernel_13752\\1586553122.py:2: FutureWarning: first is deprecated and will be removed in a future version. Please create a mask and filter using `.loc` instead\n",
      "  lambda x: x.last('1D').values - x.first('1D').values\n"
     ]
    },
    {
     "data": {
      "text/plain": [
       "date\n",
       "2018-03-31    [[-22.53, -20.160000000000025, -23.41000000000...\n",
       "2018-06-30    [[39.50999999999999, 38.399700000000024, 39.84...\n",
       "2018-09-30    [[-25.039999999999992, -28.659999999999997, -2...\n",
       "2018-12-31    [[-28.580000000000013, -31.24000000000001, -31...\n",
       "Freq: QE-DEC, dtype: object"
      ]
     },
     "execution_count": 112,
     "metadata": {},
     "output_type": "execute_result"
    }
   ],
   "source": [
    "fb.drop(columns='trading_volume').resample('Q').apply(\n",
    " lambda x: x.last('1D').values - x.first('1D').values\n",
    ")\n",
    "\n",
    "# There is a bunch of warning about the methods pandas plans to remove soon."
   ]
  },
  {
   "cell_type": "markdown",
   "metadata": {
    "id": "XSiTj3X4YFzL"
   },
   "source": [
    "Consider the following melted stock data by the minute. We don't see the OHLC data directly:"
   ]
  },
  {
   "cell_type": "code",
   "execution_count": 115,
   "metadata": {
    "colab": {
     "base_uri": "https://localhost:8080/",
     "height": 237
    },
    "id": "OcaFekNWYHYt",
    "outputId": "ab983f57-a1ef-4890-f38f-a83a4eda5e57"
   },
   "outputs": [
    {
     "data": {
      "text/html": [
       "<div>\n",
       "<style scoped>\n",
       "    .dataframe tbody tr th:only-of-type {\n",
       "        vertical-align: middle;\n",
       "    }\n",
       "\n",
       "    .dataframe tbody tr th {\n",
       "        vertical-align: top;\n",
       "    }\n",
       "\n",
       "    .dataframe thead th {\n",
       "        text-align: right;\n",
       "    }\n",
       "</style>\n",
       "<table border=\"1\" class=\"dataframe\">\n",
       "  <thead>\n",
       "    <tr style=\"text-align: right;\">\n",
       "      <th></th>\n",
       "      <th>price</th>\n",
       "    </tr>\n",
       "    <tr>\n",
       "      <th>date</th>\n",
       "      <th></th>\n",
       "    </tr>\n",
       "  </thead>\n",
       "  <tbody>\n",
       "    <tr>\n",
       "      <th>2019-05-20 09:30:00</th>\n",
       "      <td>181.6200</td>\n",
       "    </tr>\n",
       "    <tr>\n",
       "      <th>2019-05-20 09:31:00</th>\n",
       "      <td>182.6100</td>\n",
       "    </tr>\n",
       "    <tr>\n",
       "      <th>2019-05-20 09:32:00</th>\n",
       "      <td>182.7458</td>\n",
       "    </tr>\n",
       "    <tr>\n",
       "      <th>2019-05-20 09:33:00</th>\n",
       "      <td>182.9500</td>\n",
       "    </tr>\n",
       "    <tr>\n",
       "      <th>2019-05-20 09:34:00</th>\n",
       "      <td>183.0600</td>\n",
       "    </tr>\n",
       "  </tbody>\n",
       "</table>\n",
       "</div>"
      ],
      "text/plain": [
       "                        price\n",
       "date                         \n",
       "2019-05-20 09:30:00  181.6200\n",
       "2019-05-20 09:31:00  182.6100\n",
       "2019-05-20 09:32:00  182.7458\n",
       "2019-05-20 09:33:00  182.9500\n",
       "2019-05-20 09:34:00  183.0600"
      ]
     },
     "execution_count": 115,
     "metadata": {},
     "output_type": "execute_result"
    }
   ],
   "source": [
    "melted_stock_data = pd.read_csv('melted_stock_data.csv', index_col='date', parse_dates=True)\n",
    "melted_stock_data.head()"
   ]
  },
  {
   "cell_type": "markdown",
   "metadata": {
    "id": "xi5oXRQQYI7l"
   },
   "source": [
    "We can use the ohlc() method after resampling to recover the OHLC columns:"
   ]
  },
  {
   "cell_type": "code",
   "execution_count": 118,
   "metadata": {
    "colab": {
     "base_uri": "https://localhost:8080/",
     "height": 237
    },
    "id": "9hCmt8LiYKW6",
    "outputId": "fb0ca63c-3626-4dac-a198-a104580285ec"
   },
   "outputs": [
    {
     "data": {
      "text/html": [
       "<div>\n",
       "<style scoped>\n",
       "    .dataframe tbody tr th:only-of-type {\n",
       "        vertical-align: middle;\n",
       "    }\n",
       "\n",
       "    .dataframe tbody tr th {\n",
       "        vertical-align: top;\n",
       "    }\n",
       "\n",
       "    .dataframe thead th {\n",
       "        text-align: right;\n",
       "    }\n",
       "</style>\n",
       "<table border=\"1\" class=\"dataframe\">\n",
       "  <thead>\n",
       "    <tr style=\"text-align: right;\">\n",
       "      <th></th>\n",
       "      <th>open</th>\n",
       "      <th>high</th>\n",
       "      <th>low</th>\n",
       "      <th>close</th>\n",
       "    </tr>\n",
       "    <tr>\n",
       "      <th>date</th>\n",
       "      <th></th>\n",
       "      <th></th>\n",
       "      <th></th>\n",
       "      <th></th>\n",
       "    </tr>\n",
       "  </thead>\n",
       "  <tbody>\n",
       "    <tr>\n",
       "      <th>2019-05-20</th>\n",
       "      <td>181.62</td>\n",
       "      <td>184.1800</td>\n",
       "      <td>181.6200</td>\n",
       "      <td>182.72</td>\n",
       "    </tr>\n",
       "    <tr>\n",
       "      <th>2019-05-21</th>\n",
       "      <td>184.53</td>\n",
       "      <td>185.5800</td>\n",
       "      <td>183.9700</td>\n",
       "      <td>184.82</td>\n",
       "    </tr>\n",
       "    <tr>\n",
       "      <th>2019-05-22</th>\n",
       "      <td>184.81</td>\n",
       "      <td>186.5603</td>\n",
       "      <td>184.0120</td>\n",
       "      <td>185.32</td>\n",
       "    </tr>\n",
       "    <tr>\n",
       "      <th>2019-05-23</th>\n",
       "      <td>182.50</td>\n",
       "      <td>183.7300</td>\n",
       "      <td>179.7559</td>\n",
       "      <td>180.87</td>\n",
       "    </tr>\n",
       "    <tr>\n",
       "      <th>2019-05-24</th>\n",
       "      <td>182.33</td>\n",
       "      <td>183.5227</td>\n",
       "      <td>181.0400</td>\n",
       "      <td>181.06</td>\n",
       "    </tr>\n",
       "  </tbody>\n",
       "</table>\n",
       "</div>"
      ],
      "text/plain": [
       "              open      high       low   close\n",
       "date                                          \n",
       "2019-05-20  181.62  184.1800  181.6200  182.72\n",
       "2019-05-21  184.53  185.5800  183.9700  184.82\n",
       "2019-05-22  184.81  186.5603  184.0120  185.32\n",
       "2019-05-23  182.50  183.7300  179.7559  180.87\n",
       "2019-05-24  182.33  183.5227  181.0400  181.06"
      ]
     },
     "execution_count": 118,
     "metadata": {},
     "output_type": "execute_result"
    }
   ],
   "source": [
    "melted_stock_data.resample('1D').ohlc()['price']"
   ]
  },
  {
   "cell_type": "markdown",
   "metadata": {
    "id": "VKUwNcnfYLss"
   },
   "source": [
    "Alternatively, we can upsample to increase the granularity. Note this will introduce NaN values"
   ]
  },
  {
   "cell_type": "code",
   "execution_count": 121,
   "metadata": {
    "colab": {
     "base_uri": "https://localhost:8080/",
     "height": 237
    },
    "id": "foaSoYVYYNpF",
    "outputId": "25ba4f57-7d62-414a-abba-bd6e02c45152"
   },
   "outputs": [
    {
     "name": "stderr",
     "output_type": "stream",
     "text": [
      "C:\\Users\\micki\\AppData\\Local\\Temp\\ipykernel_13752\\2962105639.py:1: FutureWarning: 'H' is deprecated and will be removed in a future version, please use 'h' instead.\n",
      "  fb.resample('6H').asfreq().head()\n"
     ]
    },
    {
     "data": {
      "text/html": [
       "<div>\n",
       "<style scoped>\n",
       "    .dataframe tbody tr th:only-of-type {\n",
       "        vertical-align: middle;\n",
       "    }\n",
       "\n",
       "    .dataframe tbody tr th {\n",
       "        vertical-align: top;\n",
       "    }\n",
       "\n",
       "    .dataframe thead th {\n",
       "        text-align: right;\n",
       "    }\n",
       "</style>\n",
       "<table border=\"1\" class=\"dataframe\">\n",
       "  <thead>\n",
       "    <tr style=\"text-align: right;\">\n",
       "      <th></th>\n",
       "      <th>open</th>\n",
       "      <th>high</th>\n",
       "      <th>low</th>\n",
       "      <th>close</th>\n",
       "      <th>volume</th>\n",
       "      <th>trading_volume</th>\n",
       "    </tr>\n",
       "    <tr>\n",
       "      <th>date</th>\n",
       "      <th></th>\n",
       "      <th></th>\n",
       "      <th></th>\n",
       "      <th></th>\n",
       "      <th></th>\n",
       "      <th></th>\n",
       "    </tr>\n",
       "  </thead>\n",
       "  <tbody>\n",
       "    <tr>\n",
       "      <th>2018-01-02 00:00:00</th>\n",
       "      <td>177.68</td>\n",
       "      <td>181.58</td>\n",
       "      <td>177.55</td>\n",
       "      <td>181.42</td>\n",
       "      <td>18151903.0</td>\n",
       "      <td>low</td>\n",
       "    </tr>\n",
       "    <tr>\n",
       "      <th>2018-01-02 06:00:00</th>\n",
       "      <td>NaN</td>\n",
       "      <td>NaN</td>\n",
       "      <td>NaN</td>\n",
       "      <td>NaN</td>\n",
       "      <td>NaN</td>\n",
       "      <td>NaN</td>\n",
       "    </tr>\n",
       "    <tr>\n",
       "      <th>2018-01-02 12:00:00</th>\n",
       "      <td>NaN</td>\n",
       "      <td>NaN</td>\n",
       "      <td>NaN</td>\n",
       "      <td>NaN</td>\n",
       "      <td>NaN</td>\n",
       "      <td>NaN</td>\n",
       "    </tr>\n",
       "    <tr>\n",
       "      <th>2018-01-02 18:00:00</th>\n",
       "      <td>NaN</td>\n",
       "      <td>NaN</td>\n",
       "      <td>NaN</td>\n",
       "      <td>NaN</td>\n",
       "      <td>NaN</td>\n",
       "      <td>NaN</td>\n",
       "    </tr>\n",
       "    <tr>\n",
       "      <th>2018-01-03 00:00:00</th>\n",
       "      <td>181.88</td>\n",
       "      <td>184.78</td>\n",
       "      <td>181.33</td>\n",
       "      <td>184.67</td>\n",
       "      <td>16886563.0</td>\n",
       "      <td>low</td>\n",
       "    </tr>\n",
       "  </tbody>\n",
       "</table>\n",
       "</div>"
      ],
      "text/plain": [
       "                       open    high     low   close      volume trading_volume\n",
       "date                                                                          \n",
       "2018-01-02 00:00:00  177.68  181.58  177.55  181.42  18151903.0            low\n",
       "2018-01-02 06:00:00     NaN     NaN     NaN     NaN         NaN            NaN\n",
       "2018-01-02 12:00:00     NaN     NaN     NaN     NaN         NaN            NaN\n",
       "2018-01-02 18:00:00     NaN     NaN     NaN     NaN         NaN            NaN\n",
       "2018-01-03 00:00:00  181.88  184.78  181.33  184.67  16886563.0            low"
      ]
     },
     "execution_count": 121,
     "metadata": {},
     "output_type": "execute_result"
    }
   ],
   "source": [
    "fb.resample('6H').asfreq().head()"
   ]
  },
  {
   "cell_type": "markdown",
   "metadata": {
    "id": "riDVerT1YO8-"
   },
   "source": [
    "There are many ways to handle these NaN values. We can forward-fill with pad() :"
   ]
  },
  {
   "cell_type": "code",
   "execution_count": 126,
   "metadata": {
    "colab": {
     "base_uri": "https://localhost:8080/",
     "height": 272
    },
    "id": "aDfxBt7ZYXE_",
    "outputId": "a2610059-7fe8-417b-ed78-22e6130f91d8"
   },
   "outputs": [
    {
     "data": {
      "text/html": [
       "<div>\n",
       "<style scoped>\n",
       "    .dataframe tbody tr th:only-of-type {\n",
       "        vertical-align: middle;\n",
       "    }\n",
       "\n",
       "    .dataframe tbody tr th {\n",
       "        vertical-align: top;\n",
       "    }\n",
       "\n",
       "    .dataframe thead th {\n",
       "        text-align: right;\n",
       "    }\n",
       "</style>\n",
       "<table border=\"1\" class=\"dataframe\">\n",
       "  <thead>\n",
       "    <tr style=\"text-align: right;\">\n",
       "      <th></th>\n",
       "      <th>open</th>\n",
       "      <th>high</th>\n",
       "      <th>low</th>\n",
       "      <th>close</th>\n",
       "      <th>volume</th>\n",
       "      <th>trading_volume</th>\n",
       "    </tr>\n",
       "    <tr>\n",
       "      <th>date</th>\n",
       "      <th></th>\n",
       "      <th></th>\n",
       "      <th></th>\n",
       "      <th></th>\n",
       "      <th></th>\n",
       "      <th></th>\n",
       "    </tr>\n",
       "  </thead>\n",
       "  <tbody>\n",
       "    <tr>\n",
       "      <th>2018-01-02 00:00:00</th>\n",
       "      <td>177.68</td>\n",
       "      <td>181.58</td>\n",
       "      <td>177.55</td>\n",
       "      <td>181.42</td>\n",
       "      <td>18151903</td>\n",
       "      <td>low</td>\n",
       "    </tr>\n",
       "    <tr>\n",
       "      <th>2018-01-02 06:00:00</th>\n",
       "      <td>177.68</td>\n",
       "      <td>181.58</td>\n",
       "      <td>177.55</td>\n",
       "      <td>181.42</td>\n",
       "      <td>18151903</td>\n",
       "      <td>low</td>\n",
       "    </tr>\n",
       "    <tr>\n",
       "      <th>2018-01-02 12:00:00</th>\n",
       "      <td>177.68</td>\n",
       "      <td>181.58</td>\n",
       "      <td>177.55</td>\n",
       "      <td>181.42</td>\n",
       "      <td>18151903</td>\n",
       "      <td>low</td>\n",
       "    </tr>\n",
       "    <tr>\n",
       "      <th>2018-01-02 18:00:00</th>\n",
       "      <td>177.68</td>\n",
       "      <td>181.58</td>\n",
       "      <td>177.55</td>\n",
       "      <td>181.42</td>\n",
       "      <td>18151903</td>\n",
       "      <td>low</td>\n",
       "    </tr>\n",
       "    <tr>\n",
       "      <th>2018-01-03 00:00:00</th>\n",
       "      <td>181.88</td>\n",
       "      <td>184.78</td>\n",
       "      <td>181.33</td>\n",
       "      <td>184.67</td>\n",
       "      <td>16886563</td>\n",
       "      <td>low</td>\n",
       "    </tr>\n",
       "  </tbody>\n",
       "</table>\n",
       "</div>"
      ],
      "text/plain": [
       "                       open    high     low   close    volume trading_volume\n",
       "date                                                                        \n",
       "2018-01-02 00:00:00  177.68  181.58  177.55  181.42  18151903            low\n",
       "2018-01-02 06:00:00  177.68  181.58  177.55  181.42  18151903            low\n",
       "2018-01-02 12:00:00  177.68  181.58  177.55  181.42  18151903            low\n",
       "2018-01-02 18:00:00  177.68  181.58  177.55  181.42  18151903            low\n",
       "2018-01-03 00:00:00  181.88  184.78  181.33  184.67  16886563            low"
      ]
     },
     "execution_count": 126,
     "metadata": {},
     "output_type": "execute_result"
    }
   ],
   "source": [
    "# fb.resample('6H').pad().head()\n",
    "\n",
    "# Resample to 6-hour intervals, forward-filling missing values\n",
    "fb.resample('6h').ffill().head()"
   ]
  },
  {
   "cell_type": "markdown",
   "metadata": {
    "id": "znToQILWYZ4R"
   },
   "source": [
    "We can specify a specific value or a method with fillna() :"
   ]
  },
  {
   "cell_type": "code",
   "execution_count": 129,
   "metadata": {
    "colab": {
     "base_uri": "https://localhost:8080/",
     "height": 237
    },
    "id": "QG2HzuVCYb9l",
    "outputId": "fec3d459-c644-41c7-85d0-8562dd1526fb"
   },
   "outputs": [
    {
     "name": "stderr",
     "output_type": "stream",
     "text": [
      "C:\\Users\\micki\\AppData\\Local\\Temp\\ipykernel_13752\\3498320007.py:1: FutureWarning: 'H' is deprecated and will be removed in a future version, please use 'h' instead.\n",
      "  fb.resample('6H').fillna('nearest').head()\n",
      "C:\\Users\\micki\\AppData\\Local\\Temp\\ipykernel_13752\\3498320007.py:1: FutureWarning: DatetimeIndexResampler.fillna is deprecated and will be removed in a future version. Use obj.ffill(), obj.bfill(), or obj.nearest() instead.\n",
      "  fb.resample('6H').fillna('nearest').head()\n"
     ]
    },
    {
     "data": {
      "text/html": [
       "<div>\n",
       "<style scoped>\n",
       "    .dataframe tbody tr th:only-of-type {\n",
       "        vertical-align: middle;\n",
       "    }\n",
       "\n",
       "    .dataframe tbody tr th {\n",
       "        vertical-align: top;\n",
       "    }\n",
       "\n",
       "    .dataframe thead th {\n",
       "        text-align: right;\n",
       "    }\n",
       "</style>\n",
       "<table border=\"1\" class=\"dataframe\">\n",
       "  <thead>\n",
       "    <tr style=\"text-align: right;\">\n",
       "      <th></th>\n",
       "      <th>open</th>\n",
       "      <th>high</th>\n",
       "      <th>low</th>\n",
       "      <th>close</th>\n",
       "      <th>volume</th>\n",
       "      <th>trading_volume</th>\n",
       "    </tr>\n",
       "    <tr>\n",
       "      <th>date</th>\n",
       "      <th></th>\n",
       "      <th></th>\n",
       "      <th></th>\n",
       "      <th></th>\n",
       "      <th></th>\n",
       "      <th></th>\n",
       "    </tr>\n",
       "  </thead>\n",
       "  <tbody>\n",
       "    <tr>\n",
       "      <th>2018-01-02 00:00:00</th>\n",
       "      <td>177.68</td>\n",
       "      <td>181.58</td>\n",
       "      <td>177.55</td>\n",
       "      <td>181.42</td>\n",
       "      <td>18151903</td>\n",
       "      <td>low</td>\n",
       "    </tr>\n",
       "    <tr>\n",
       "      <th>2018-01-02 06:00:00</th>\n",
       "      <td>177.68</td>\n",
       "      <td>181.58</td>\n",
       "      <td>177.55</td>\n",
       "      <td>181.42</td>\n",
       "      <td>18151903</td>\n",
       "      <td>low</td>\n",
       "    </tr>\n",
       "    <tr>\n",
       "      <th>2018-01-02 12:00:00</th>\n",
       "      <td>181.88</td>\n",
       "      <td>184.78</td>\n",
       "      <td>181.33</td>\n",
       "      <td>184.67</td>\n",
       "      <td>16886563</td>\n",
       "      <td>low</td>\n",
       "    </tr>\n",
       "    <tr>\n",
       "      <th>2018-01-02 18:00:00</th>\n",
       "      <td>181.88</td>\n",
       "      <td>184.78</td>\n",
       "      <td>181.33</td>\n",
       "      <td>184.67</td>\n",
       "      <td>16886563</td>\n",
       "      <td>low</td>\n",
       "    </tr>\n",
       "    <tr>\n",
       "      <th>2018-01-03 00:00:00</th>\n",
       "      <td>181.88</td>\n",
       "      <td>184.78</td>\n",
       "      <td>181.33</td>\n",
       "      <td>184.67</td>\n",
       "      <td>16886563</td>\n",
       "      <td>low</td>\n",
       "    </tr>\n",
       "  </tbody>\n",
       "</table>\n",
       "</div>"
      ],
      "text/plain": [
       "                       open    high     low   close    volume trading_volume\n",
       "date                                                                        \n",
       "2018-01-02 00:00:00  177.68  181.58  177.55  181.42  18151903            low\n",
       "2018-01-02 06:00:00  177.68  181.58  177.55  181.42  18151903            low\n",
       "2018-01-02 12:00:00  181.88  184.78  181.33  184.67  16886563            low\n",
       "2018-01-02 18:00:00  181.88  184.78  181.33  184.67  16886563            low\n",
       "2018-01-03 00:00:00  181.88  184.78  181.33  184.67  16886563            low"
      ]
     },
     "execution_count": 129,
     "metadata": {},
     "output_type": "execute_result"
    }
   ],
   "source": [
    "fb.resample('6H').fillna('nearest').head()"
   ]
  },
  {
   "cell_type": "markdown",
   "metadata": {
    "id": "OBuuu-_VYdyx"
   },
   "source": [
    "We can use asfreq() and assign() to specify the action per column:"
   ]
  },
  {
   "cell_type": "code",
   "execution_count": 132,
   "metadata": {
    "colab": {
     "base_uri": "https://localhost:8080/",
     "height": 237
    },
    "id": "MNT9epo2YfWf",
    "outputId": "c7bf6474-3087-4925-ef59-47eb95df83a1"
   },
   "outputs": [
    {
     "name": "stderr",
     "output_type": "stream",
     "text": [
      "C:\\Users\\micki\\AppData\\Local\\Temp\\ipykernel_13752\\2081602865.py:1: FutureWarning: 'H' is deprecated and will be removed in a future version, please use 'h' instead.\n",
      "  fb.resample('6H').asfreq().assign(\n",
      "C:\\Users\\micki\\AppData\\Local\\Temp\\ipykernel_13752\\2081602865.py:3: FutureWarning: Series.fillna with 'method' is deprecated and will raise in a future version. Use obj.ffill() or obj.bfill() instead.\n",
      "  close=lambda x: x.close.fillna(method='ffill'), # carry forward\n"
     ]
    },
    {
     "data": {
      "text/html": [
       "<div>\n",
       "<style scoped>\n",
       "    .dataframe tbody tr th:only-of-type {\n",
       "        vertical-align: middle;\n",
       "    }\n",
       "\n",
       "    .dataframe tbody tr th {\n",
       "        vertical-align: top;\n",
       "    }\n",
       "\n",
       "    .dataframe thead th {\n",
       "        text-align: right;\n",
       "    }\n",
       "</style>\n",
       "<table border=\"1\" class=\"dataframe\">\n",
       "  <thead>\n",
       "    <tr style=\"text-align: right;\">\n",
       "      <th></th>\n",
       "      <th>open</th>\n",
       "      <th>high</th>\n",
       "      <th>low</th>\n",
       "      <th>close</th>\n",
       "      <th>volume</th>\n",
       "      <th>trading_volume</th>\n",
       "    </tr>\n",
       "    <tr>\n",
       "      <th>date</th>\n",
       "      <th></th>\n",
       "      <th></th>\n",
       "      <th></th>\n",
       "      <th></th>\n",
       "      <th></th>\n",
       "      <th></th>\n",
       "    </tr>\n",
       "  </thead>\n",
       "  <tbody>\n",
       "    <tr>\n",
       "      <th>2018-01-02 00:00:00</th>\n",
       "      <td>177.68</td>\n",
       "      <td>181.58</td>\n",
       "      <td>177.55</td>\n",
       "      <td>181.42</td>\n",
       "      <td>18151903.0</td>\n",
       "      <td>low</td>\n",
       "    </tr>\n",
       "    <tr>\n",
       "      <th>2018-01-02 06:00:00</th>\n",
       "      <td>181.42</td>\n",
       "      <td>181.42</td>\n",
       "      <td>181.42</td>\n",
       "      <td>181.42</td>\n",
       "      <td>0.0</td>\n",
       "      <td>NaN</td>\n",
       "    </tr>\n",
       "    <tr>\n",
       "      <th>2018-01-02 12:00:00</th>\n",
       "      <td>181.42</td>\n",
       "      <td>181.42</td>\n",
       "      <td>181.42</td>\n",
       "      <td>181.42</td>\n",
       "      <td>0.0</td>\n",
       "      <td>NaN</td>\n",
       "    </tr>\n",
       "    <tr>\n",
       "      <th>2018-01-02 18:00:00</th>\n",
       "      <td>181.42</td>\n",
       "      <td>181.42</td>\n",
       "      <td>181.42</td>\n",
       "      <td>181.42</td>\n",
       "      <td>0.0</td>\n",
       "      <td>NaN</td>\n",
       "    </tr>\n",
       "    <tr>\n",
       "      <th>2018-01-03 00:00:00</th>\n",
       "      <td>181.88</td>\n",
       "      <td>184.78</td>\n",
       "      <td>181.33</td>\n",
       "      <td>184.67</td>\n",
       "      <td>16886563.0</td>\n",
       "      <td>low</td>\n",
       "    </tr>\n",
       "  </tbody>\n",
       "</table>\n",
       "</div>"
      ],
      "text/plain": [
       "                       open    high     low   close      volume trading_volume\n",
       "date                                                                          \n",
       "2018-01-02 00:00:00  177.68  181.58  177.55  181.42  18151903.0            low\n",
       "2018-01-02 06:00:00  181.42  181.42  181.42  181.42         0.0            NaN\n",
       "2018-01-02 12:00:00  181.42  181.42  181.42  181.42         0.0            NaN\n",
       "2018-01-02 18:00:00  181.42  181.42  181.42  181.42         0.0            NaN\n",
       "2018-01-03 00:00:00  181.88  184.78  181.33  184.67  16886563.0            low"
      ]
     },
     "execution_count": 132,
     "metadata": {},
     "output_type": "execute_result"
    }
   ],
   "source": [
    "fb.resample('6H').asfreq().assign(\n",
    " volume=lambda x: x.volume.fillna(0), # put 0 when market is closed\n",
    " close=lambda x: x.close.fillna(method='ffill'), # carry forward\n",
    " # take the closing price if these aren't available\n",
    " open=lambda x: np.where(x.open.isnull(), x.close, x.open),\n",
    " high=lambda x: np.where(x.high.isnull(), x.close, x.high),\n",
    " low=lambda x: np.where(x.low.isnull(), x.close, x.low)\n",
    ").head()"
   ]
  },
  {
   "cell_type": "markdown",
   "metadata": {
    "id": "hqLpOP5TYh4q"
   },
   "source": [
    "# Merging\n",
    "We saw merging examples the querying_and_merging notebook. However, they all matched based on keys. With time series, it is possible that they are so granular that we\n",
    "never have the same time for multiple entries. Let's work with some stock data at different granularities"
   ]
  },
  {
   "cell_type": "code",
   "execution_count": 135,
   "metadata": {
    "id": "22izgOe_Ykqp"
   },
   "outputs": [],
   "source": [
    "import sqlite3\n",
    "with sqlite3.connect('stocks.db') as connection:\n",
    " fb_prices = pd.read_sql(\n",
    " 'SELECT * FROM fb_prices', connection,\n",
    " index_col='date', parse_dates=['date']\n",
    " )\n",
    " aapl_prices = pd.read_sql(\n",
    " 'SELECT * FROM aapl_prices', connection,\n",
    " index_col='date', parse_dates=['date']\n",
    " )"
   ]
  },
  {
   "cell_type": "markdown",
   "metadata": {
    "id": "y4TA_3yZYm9R"
   },
   "source": [
    "The Facebook prices are at the minute granularity:"
   ]
  },
  {
   "cell_type": "code",
   "execution_count": 138,
   "metadata": {
    "colab": {
     "base_uri": "https://localhost:8080/"
    },
    "id": "lM7f-IGTYpWj",
    "outputId": "306ce9ff-21c0-4250-d88a-9ec29066633c"
   },
   "outputs": [
    {
     "data": {
      "text/plain": [
       "Index([0], dtype='int32', name='date')"
      ]
     },
     "execution_count": 138,
     "metadata": {},
     "output_type": "execute_result"
    }
   ],
   "source": [
    "fb_prices.index.second.unique()"
   ]
  },
  {
   "cell_type": "markdown",
   "metadata": {
    "id": "aLcfOL4HYrbo"
   },
   "source": [
    "However, the Apple prices have information for the second:"
   ]
  },
  {
   "cell_type": "code",
   "execution_count": 141,
   "metadata": {
    "colab": {
     "base_uri": "https://localhost:8080/"
    },
    "id": "sxOIkUWkYtId",
    "outputId": "305a2c7b-c3c3-4c26-c55f-6dd451a2552c"
   },
   "outputs": [
    {
     "data": {
      "text/plain": [
       "Index([ 0, 52, 36, 34, 55, 35,  7, 12, 59, 17,  5, 20, 26, 23, 54, 49, 19, 53,\n",
       "       11, 22, 13, 21, 10, 46, 42, 38, 33, 18, 16,  9, 56, 39,  2, 50, 31, 58,\n",
       "       48, 24, 29,  6, 47, 51, 40,  3, 15, 14, 25,  4, 43,  8, 32, 27, 30, 45,\n",
       "        1, 44, 57, 41, 37, 28],\n",
       "      dtype='int32', name='date')"
      ]
     },
     "execution_count": 141,
     "metadata": {},
     "output_type": "execute_result"
    }
   ],
   "source": [
    "aapl_prices.index.second.unique()"
   ]
  },
  {
   "cell_type": "markdown",
   "metadata": {
    "id": "yn_87h6CYugf"
   },
   "source": [
    "We can perform an asof merge to try to line these up the best we can. We specify how to handle the mismatch with the direction and tolerance parameters. We will\n",
    "fill in with the direction of nearest and a tolerance of 30 seconds. This will place the Apple data with the minute that it is closest to, so 93152 will go with 932\n",
    "and 93707 will go with 937. Since the times are on the index, we pass left_index and right_index , as we did with merges earlier this chapter:"
   ]
  },
  {
   "cell_type": "code",
   "execution_count": 144,
   "metadata": {
    "colab": {
     "base_uri": "https://localhost:8080/",
     "height": 237
    },
    "id": "AJ_2wcxJYyHN",
    "outputId": "ea051aea-1355-4e45-9589-719f5ef845db"
   },
   "outputs": [
    {
     "data": {
      "text/html": [
       "<div>\n",
       "<style scoped>\n",
       "    .dataframe tbody tr th:only-of-type {\n",
       "        vertical-align: middle;\n",
       "    }\n",
       "\n",
       "    .dataframe tbody tr th {\n",
       "        vertical-align: top;\n",
       "    }\n",
       "\n",
       "    .dataframe thead th {\n",
       "        text-align: right;\n",
       "    }\n",
       "</style>\n",
       "<table border=\"1\" class=\"dataframe\">\n",
       "  <thead>\n",
       "    <tr style=\"text-align: right;\">\n",
       "      <th></th>\n",
       "      <th>FB</th>\n",
       "      <th>AAPL</th>\n",
       "    </tr>\n",
       "    <tr>\n",
       "      <th>date</th>\n",
       "      <th></th>\n",
       "      <th></th>\n",
       "    </tr>\n",
       "  </thead>\n",
       "  <tbody>\n",
       "    <tr>\n",
       "      <th>2019-05-20 09:30:00</th>\n",
       "      <td>181.6200</td>\n",
       "      <td>183.5200</td>\n",
       "    </tr>\n",
       "    <tr>\n",
       "      <th>2019-05-20 09:31:00</th>\n",
       "      <td>182.6100</td>\n",
       "      <td>NaN</td>\n",
       "    </tr>\n",
       "    <tr>\n",
       "      <th>2019-05-20 09:32:00</th>\n",
       "      <td>182.7458</td>\n",
       "      <td>182.8710</td>\n",
       "    </tr>\n",
       "    <tr>\n",
       "      <th>2019-05-20 09:33:00</th>\n",
       "      <td>182.9500</td>\n",
       "      <td>182.5000</td>\n",
       "    </tr>\n",
       "    <tr>\n",
       "      <th>2019-05-20 09:34:00</th>\n",
       "      <td>183.0600</td>\n",
       "      <td>182.1067</td>\n",
       "    </tr>\n",
       "  </tbody>\n",
       "</table>\n",
       "</div>"
      ],
      "text/plain": [
       "                           FB      AAPL\n",
       "date                                   \n",
       "2019-05-20 09:30:00  181.6200  183.5200\n",
       "2019-05-20 09:31:00  182.6100       NaN\n",
       "2019-05-20 09:32:00  182.7458  182.8710\n",
       "2019-05-20 09:33:00  182.9500  182.5000\n",
       "2019-05-20 09:34:00  183.0600  182.1067"
      ]
     },
     "execution_count": 144,
     "metadata": {},
     "output_type": "execute_result"
    }
   ],
   "source": [
    "pd.merge_asof(\n",
    " fb_prices, aapl_prices,\n",
    " left_index=True, right_index=True, # datetimes are in the index\n",
    " # merge with nearest minute\n",
    " direction='nearest', tolerance=pd.Timedelta(30, unit='s')\n",
    ").head()"
   ]
  },
  {
   "cell_type": "markdown",
   "metadata": {
    "id": "cJIxVpa_Y3i0"
   },
   "source": [
    "If we don't want to lose the seconds information with the Apple data, we can use pd.merge_ordered() instead, which will interleave the two. Note this is an outer join by\n",
    "default ( how parameter). The only catch here is that we need to reset the index in order to join on it:"
   ]
  },
  {
   "cell_type": "code",
   "execution_count": 147,
   "metadata": {
    "colab": {
     "base_uri": "https://localhost:8080/",
     "height": 237
    },
    "id": "gq8QEgw9Y5GQ",
    "outputId": "4e776e34-e4fe-4afe-efcd-e7a017966318"
   },
   "outputs": [
    {
     "data": {
      "text/html": [
       "<div>\n",
       "<style scoped>\n",
       "    .dataframe tbody tr th:only-of-type {\n",
       "        vertical-align: middle;\n",
       "    }\n",
       "\n",
       "    .dataframe tbody tr th {\n",
       "        vertical-align: top;\n",
       "    }\n",
       "\n",
       "    .dataframe thead th {\n",
       "        text-align: right;\n",
       "    }\n",
       "</style>\n",
       "<table border=\"1\" class=\"dataframe\">\n",
       "  <thead>\n",
       "    <tr style=\"text-align: right;\">\n",
       "      <th></th>\n",
       "      <th>FB</th>\n",
       "      <th>AAPL</th>\n",
       "    </tr>\n",
       "    <tr>\n",
       "      <th>date</th>\n",
       "      <th></th>\n",
       "      <th></th>\n",
       "    </tr>\n",
       "  </thead>\n",
       "  <tbody>\n",
       "    <tr>\n",
       "      <th>2019-05-20 09:30:00</th>\n",
       "      <td>181.6200</td>\n",
       "      <td>183.520</td>\n",
       "    </tr>\n",
       "    <tr>\n",
       "      <th>2019-05-20 09:31:00</th>\n",
       "      <td>182.6100</td>\n",
       "      <td>NaN</td>\n",
       "    </tr>\n",
       "    <tr>\n",
       "      <th>2019-05-20 09:31:52</th>\n",
       "      <td>NaN</td>\n",
       "      <td>182.871</td>\n",
       "    </tr>\n",
       "    <tr>\n",
       "      <th>2019-05-20 09:32:00</th>\n",
       "      <td>182.7458</td>\n",
       "      <td>NaN</td>\n",
       "    </tr>\n",
       "    <tr>\n",
       "      <th>2019-05-20 09:32:36</th>\n",
       "      <td>NaN</td>\n",
       "      <td>182.500</td>\n",
       "    </tr>\n",
       "  </tbody>\n",
       "</table>\n",
       "</div>"
      ],
      "text/plain": [
       "                           FB     AAPL\n",
       "date                                  \n",
       "2019-05-20 09:30:00  181.6200  183.520\n",
       "2019-05-20 09:31:00  182.6100      NaN\n",
       "2019-05-20 09:31:52       NaN  182.871\n",
       "2019-05-20 09:32:00  182.7458      NaN\n",
       "2019-05-20 09:32:36       NaN  182.500"
      ]
     },
     "execution_count": 147,
     "metadata": {},
     "output_type": "execute_result"
    }
   ],
   "source": [
    "pd.merge_ordered(\n",
    " fb_prices.reset_index(), aapl_prices.reset_index()\n",
    ").set_index('date').head()"
   ]
  },
  {
   "cell_type": "markdown",
   "metadata": {
    "id": "x6-IFyGTY6tm"
   },
   "source": [
    "We can pass a fill_method to handle NaN values:"
   ]
  },
  {
   "cell_type": "code",
   "execution_count": 150,
   "metadata": {
    "colab": {
     "base_uri": "https://localhost:8080/",
     "height": 237
    },
    "id": "Cv5dUJV9Y8SL",
    "outputId": "5dd02175-03fe-4e6a-9532-363aebe5e59d"
   },
   "outputs": [
    {
     "data": {
      "text/html": [
       "<div>\n",
       "<style scoped>\n",
       "    .dataframe tbody tr th:only-of-type {\n",
       "        vertical-align: middle;\n",
       "    }\n",
       "\n",
       "    .dataframe tbody tr th {\n",
       "        vertical-align: top;\n",
       "    }\n",
       "\n",
       "    .dataframe thead th {\n",
       "        text-align: right;\n",
       "    }\n",
       "</style>\n",
       "<table border=\"1\" class=\"dataframe\">\n",
       "  <thead>\n",
       "    <tr style=\"text-align: right;\">\n",
       "      <th></th>\n",
       "      <th>FB</th>\n",
       "      <th>AAPL</th>\n",
       "    </tr>\n",
       "    <tr>\n",
       "      <th>date</th>\n",
       "      <th></th>\n",
       "      <th></th>\n",
       "    </tr>\n",
       "  </thead>\n",
       "  <tbody>\n",
       "    <tr>\n",
       "      <th>2019-05-20 09:30:00</th>\n",
       "      <td>181.6200</td>\n",
       "      <td>183.520</td>\n",
       "    </tr>\n",
       "    <tr>\n",
       "      <th>2019-05-20 09:31:00</th>\n",
       "      <td>182.6100</td>\n",
       "      <td>183.520</td>\n",
       "    </tr>\n",
       "    <tr>\n",
       "      <th>2019-05-20 09:31:52</th>\n",
       "      <td>182.6100</td>\n",
       "      <td>182.871</td>\n",
       "    </tr>\n",
       "    <tr>\n",
       "      <th>2019-05-20 09:32:00</th>\n",
       "      <td>182.7458</td>\n",
       "      <td>182.871</td>\n",
       "    </tr>\n",
       "    <tr>\n",
       "      <th>2019-05-20 09:32:36</th>\n",
       "      <td>182.7458</td>\n",
       "      <td>182.500</td>\n",
       "    </tr>\n",
       "  </tbody>\n",
       "</table>\n",
       "</div>"
      ],
      "text/plain": [
       "                           FB     AAPL\n",
       "date                                  \n",
       "2019-05-20 09:30:00  181.6200  183.520\n",
       "2019-05-20 09:31:00  182.6100  183.520\n",
       "2019-05-20 09:31:52  182.6100  182.871\n",
       "2019-05-20 09:32:00  182.7458  182.871\n",
       "2019-05-20 09:32:36  182.7458  182.500"
      ]
     },
     "execution_count": 150,
     "metadata": {},
     "output_type": "execute_result"
    }
   ],
   "source": [
    "pd.merge_ordered(\n",
    " fb_prices.reset_index(), aapl_prices.reset_index(),\n",
    " fill_method='ffill'\n",
    ").set_index('date').head()"
   ]
  },
  {
   "cell_type": "markdown",
   "metadata": {
    "id": "sOl5yRF2Y-Ju"
   },
   "source": [
    "Alternatively, we can use fillna() .\n",
    "\n",
    "\n",
    "\n",
    "\n",
    "\n",
    "\n",
    "\n",
    "\n",
    "\n",
    "\n",
    "\n",
    "\n",
    "\n",
    "\n",
    "\n",
    "\n",
    "\n",
    "\n",
    "\n",
    "\n",
    "\n",
    "\n",
    "\n",
    "\n",
    "\n",
    "\n",
    "\n",
    "\n",
    "\n",
    "\n",
    "\n",
    "\n",
    "\n",
    "\n",
    "\n",
    "\n",
    "\n",
    "\n",
    "\n",
    "\n",
    "\n",
    "\n",
    "\n",
    "\n",
    "\n",
    "\n",
    "\n",
    "\n",
    "\n",
    "\n"
   ]
  },
  {
   "cell_type": "code",
   "execution_count": 55,
   "metadata": {
    "id": "Jbkd7_6UEsFi"
   },
   "outputs": [],
   "source": []
  }
 ],
 "metadata": {
  "colab": {
   "provenance": []
  },
  "kernelspec": {
   "display_name": "Python 3 (ipykernel)",
   "language": "python",
   "name": "python3"
  },
  "language_info": {
   "codemirror_mode": {
    "name": "ipython",
    "version": 3
   },
   "file_extension": ".py",
   "mimetype": "text/x-python",
   "name": "python",
   "nbconvert_exporter": "python",
   "pygments_lexer": "ipython3",
   "version": "3.12.4"
  }
 },
 "nbformat": 4,
 "nbformat_minor": 4
}
