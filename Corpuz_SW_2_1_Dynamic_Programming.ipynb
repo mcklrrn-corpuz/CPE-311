{
  "nbformat": 4,
  "nbformat_minor": 0,
  "metadata": {
    "colab": {
      "provenance": [],
      "include_colab_link": true
    },
    "kernelspec": {
      "name": "python3",
      "display_name": "Python 3"
    },
    "language_info": {
      "name": "python"
    }
  },
  "cells": [
    {
      "cell_type": "markdown",
      "metadata": {
        "id": "view-in-github",
        "colab_type": "text"
      },
      "source": [
        "<a href=\"https://colab.research.google.com/github/mcklrrn-corpuz/CPE-311/blob/main/Corpuz_SW_2_1_Dynamic_Programming.ipynb\" target=\"_parent\"><img src=\"https://colab.research.google.com/assets/colab-badge.svg\" alt=\"Open In Colab\"/></a>"
      ]
    },
    {
      "cell_type": "markdown",
      "source": [
        "#Greedy Algorithm\n",
        "Assume that you have an objective function that needs to be optimized (either maximized or minimized) at a given point. A Greedy algorithm makes greedy choices at each step to ensure that the objective function is optimized. The Greedy algorithm has only one shot to compute the optimal solution so that it never goes back and reverses the decision.\n",
        "\n",
        "##When to Use Greedy Algorithms\n",
        "Greedy Algorithms can help you find solutions to a lot of seemingly tough problems. The only problem with them is that you might come up with the correct solution but you might not be able to verify if its the correct one. All the greedy problems share a common property that a local optima can eventually lead to a global minima without reconsidering the set of choices already considered.\n",
        "\n",
        "###Sample Problems:\n",
        "1. Lecture Scheduling Problem\n",
        "2. Student Enrollment Problem"
      ],
      "metadata": {
        "id": "n0iTchcu2twI"
      }
    },
    {
      "cell_type": "markdown",
      "source": [
        "#Brute Force Algorithm\n",
        "Brute Force Algorithms are exactly what they sound like – straightforward methods of solving a problem that rely on sheer computing power and trying every possibility rather than advanced techniques to improve efficiency. For example, imagine you have a small padlock with 4 digits, each from 0-9.\n",
        "\n",
        "###Sample Problems:\n",
        "- Solve the same given problems using Brute Force algorithm."
      ],
      "metadata": {
        "id": "Ex0cdeur3s5_"
      }
    },
    {
      "cell_type": "markdown",
      "source": [
        "#Dynamic Programming\n",
        "Dynamic Programming(DP) is an algorithmic technique for solving an optimization problem by breaking it down into simpler subproblems and utilizing the fact that the optimal solution to the overall problem depends upon the optimal solution to the subproblems."
      ],
      "metadata": {
        "id": "tAdnaN3y27iH"
      }
    },
    {
      "cell_type": "markdown",
      "source": [
        "###Top-Down Approach with Memoization\n",
        "Whenever we solve a subproblem, we cache its result so that we don’t end up solving it repeatedly if it’s called multiple times. This technique of storing the results of the previously solved subproblems is called Memoization.\n",
        "\n",
        "In memoization, we solve the bigger problem by recursively finding the solution to the subproblems. It is a top-down approach."
      ],
      "metadata": {
        "id": "NyDGniz3LZjk"
      }
    },
    {
      "cell_type": "code",
      "source": [
        "#Implementation of Fibonacci Series using Memoization\n",
        "\"\"\" The Fibonacci Series is a series of numbers in which each number\n",
        "    is the sum of the preceding two numbers.\n",
        "    By definition, the first two numbers are 0 and 1.\n",
        "\n",
        "    Implement with the following steps:\n",
        "    - Declare function with parameters: Number N and Dictionary Memo.\n",
        "    - If n equals 1, return 0\n",
        "    - If n equals 2, return 1\n",
        "    - If current element is not in memo, add to memoy by recursive call for previous function and add. \"\"\"\n",
        "\n",
        "cache = {}\n",
        "\n",
        "def fibonacci(n):\n",
        "  if n in cache:\n",
        "    return cache[n]\n",
        "\n",
        "  if n <= 2:\n",
        "    value = 1\n",
        "\n",
        "  else:\n",
        "    value = fibonacci(n-1) + fibonacci(n-2)\n",
        "\n",
        "  cache[n] = value\n",
        "  return value\n",
        "\n",
        "print(\"=\" * 25)\n",
        "print(\"Fibonacci Memoization\")\n",
        "print(\"-\" * 25)\n",
        "for n in range(1, 11):\n",
        "  print (n, \": \", fibonacci(n))\n",
        "print(\"=\" * 25)\n",
        "\n",
        "\n",
        "#Implementation of Factorial of a number N using Memoization\n",
        "factorial_cache = {}\n",
        "\n",
        "def factorial(x):\n",
        "  if x in factorial_cache:\n",
        "    return factorial_cache[x]\n",
        "\n",
        "  if x <= 1:\n",
        "    result = 1\n",
        "\n",
        "  else:\n",
        "    result = x * factorial(x-1)\n",
        "\n",
        "  factorial_cache[x] = result\n",
        "  return result\n",
        "\n",
        "print(\"\\n\")\n",
        "print(\"=\" * 25)\n",
        "print(\"Factorial Memoization\")\n",
        "print(\"-\" * 25)\n",
        "for o in range(1, 11):\n",
        "  print(o, \"! :\", factorial(o))\n",
        "print(\"=\" * 25)\n"
      ],
      "metadata": {
        "id": "8_TsrouUJQSF",
        "colab": {
          "base_uri": "https://localhost:8080/"
        },
        "outputId": "99ab2c83-ed21-4182-9474-83aeaa3b1db6"
      },
      "execution_count": 17,
      "outputs": [
        {
          "output_type": "stream",
          "name": "stdout",
          "text": [
            "=========================\n",
            "Fibonacci Memoization\n",
            "-------------------------\n",
            "1 :  1\n",
            "2 :  1\n",
            "3 :  2\n",
            "4 :  3\n",
            "5 :  5\n",
            "6 :  8\n",
            "7 :  13\n",
            "8 :  21\n",
            "9 :  34\n",
            "10 :  55\n",
            "=========================\n",
            "\n",
            "\n",
            "=========================\n",
            "Factorial Memoization\n",
            "-------------------------\n",
            "1 ! : 1\n",
            "2 ! : 2\n",
            "3 ! : 6\n",
            "4 ! : 24\n",
            "5 ! : 120\n",
            "6 ! : 720\n",
            "7 ! : 5040\n",
            "8 ! : 40320\n",
            "9 ! : 362880\n",
            "10 ! : 3628800\n",
            "=========================\n"
          ]
        }
      ]
    },
    {
      "cell_type": "markdown",
      "source": [
        "###Bottom-Up Approach with Tabulation\n",
        "Tabulation is the opposite of the top-down approach and does not involve recursion. In this approach, we solve the problem “bottom-up”. This means that the subproblems are solved first and are then combined to form the solution to the original problem.\n",
        "\n",
        "This is achieved by filling up a table. Based on the results of the table, the solution to the original problem is computed."
      ],
      "metadata": {
        "id": "NrcB-ztP9ZPI"
      }
    },
    {
      "cell_type": "code",
      "source": [
        "#Implementation of Fibonacci Series using Tabulation\n",
        "\"\"\" Fibonacci Series can be implemented using Tabulation using the following steps:\n",
        "    - Declare the function and take the number whose Fibonacci Series is to be printed.\n",
        "    - Initialize the list and input the values 0 and 1 in it.\n",
        "    - Iterate over the range of 2 to n+1.\n",
        "    - Append the list with the sum of the previous two values of the list.\n",
        "    - Return the list as output. \"\"\"\n",
        "\n",
        "def fibTab(n):\n",
        "    tb = [0, 1]\n",
        "    for i in range(2, n+1):\n",
        "      tb.append(tb[i-1] + tb[i-2])\n",
        "    return tb\n",
        "\n",
        "print(\"=\" * 25)\n",
        "print(\" Fibonacci Tabulation\")\n",
        "print(\"-\" * 25)\n",
        "print(fibTab(6))\n",
        "print(\"=\" * 25)\n",
        "\n",
        "#Implementation of Factorial of a number N using Tabulation\n",
        "def factorial_Tab(n):\n",
        "    tb = [1]\n",
        "    for i in range(2, n + 1):\n",
        "        tb.append(tb[-1] * i)\n",
        "    return tb\n",
        "\n",
        "print(\"\\n\")\n",
        "print(\"=\" * 25)\n",
        "print(\" Factorial-Tabulation\")\n",
        "print(\"-\" * 25)\n",
        "print(factorial_Tab(6))\n",
        "print(\"=\" * 25)"
      ],
      "metadata": {
        "id": "Skjbt78O9ele",
        "colab": {
          "base_uri": "https://localhost:8080/"
        },
        "outputId": "ed723ec6-bc0b-4c0d-a31c-b4244c272911"
      },
      "execution_count": 18,
      "outputs": [
        {
          "output_type": "stream",
          "name": "stdout",
          "text": [
            "=========================\n",
            " Fibonacci Tabulation\n",
            "-------------------------\n",
            "[0, 1, 1, 2, 3, 5, 8]\n",
            "=========================\n",
            "\n",
            "\n",
            "=========================\n",
            " Factorial-Tabulation\n",
            "-------------------------\n",
            "[1, 2, 6, 24, 120, 720]\n",
            "=========================\n"
          ]
        }
      ]
    },
    {
      "cell_type": "markdown",
      "source": [
        "#Answers"
      ],
      "metadata": {
        "id": "crF2HdqCN64W"
      }
    },
    {
      "cell_type": "code",
      "source": [
        "#Lecture Scheduling Problem\n",
        "\"\"\" You are given a set of N schedules.\n",
        "    Schedule will be defined with: course code, units, start, duration.\n",
        "    Select the maximum set of lectures to be held.\n",
        "    No schedules must overlap. \"\"\"\n",
        "\n",
        "class Lecture(object):\n",
        "  def __init__(self, c, u, s, d):\n",
        "    self.courseCode = c\n",
        "    self.units = u\n",
        "    self.startTime = s\n",
        "    self.duration = d\n",
        "\n",
        "  def getUnits(self):\n",
        "    return self.units\n",
        "\n",
        "  def getDuration(self):\n",
        "    return self.duration\n",
        "\n",
        "  def getStart(self):\n",
        "    return self.startTime\n",
        "\n",
        "  def density(self):\n",
        "    return self.getUnits()/self.getDuration()\n",
        "\n",
        "  def __str__(self):\n",
        "    return self.courseCode + ': <' + str(self.units) + ', ' + str(self.startTime) + ', ' + str(self.duration) + '>'"
      ],
      "metadata": {
        "id": "h5wXf7I_3PKR"
      },
      "execution_count": null,
      "outputs": []
    },
    {
      "cell_type": "code",
      "source": [
        "def buildSched(codes, units, start, duration):\n",
        "  schedule = []\n",
        "  for i in range(len(start)):\n",
        "    schedule.append(Lecture(codes[i], units[i], start[i], duration[i]))\n",
        "  return schedule"
      ],
      "metadata": {
        "id": "KbtYBVt7POFj"
      },
      "execution_count": null,
      "outputs": []
    },
    {
      "cell_type": "code",
      "source": [
        "def greedy(classes, maxHours, keyFunction):\n",
        "  classesCopy = sorted(classes, key = keyFunction, reverse = False)\n",
        "  result = []\n",
        "\n",
        "  totalUnits, totalHours = 0.0, 0.0\n",
        "  for i in range(len(classes)):\n",
        "    if(totalHours + classesCopy[i].getDuration()) <= maxHours:\n",
        "      result.append(classesCopy[i])\n",
        "      totalHours += classesCopy[i].getDuration()\n",
        "      totalUnits += classesCopy[i].getUnits()\n",
        "  return (result, totalUnits)"
      ],
      "metadata": {
        "id": "DhsN3wqfPgBY"
      },
      "execution_count": null,
      "outputs": []
    },
    {
      "cell_type": "code",
      "source": [
        "def testGreedy(classes, constraint, keyFunction):\n",
        "  taken, val = greedy(classes, constraint, keyFunction)\n",
        "  print('Total units of classes taken = ', val)\n",
        "  for item in taken:\n",
        "    print(' ', item)"
      ],
      "metadata": {
        "id": "izVtHvhQSVzT"
      },
      "execution_count": null,
      "outputs": []
    },
    {
      "cell_type": "code",
      "source": [
        "def testGreedys(ClassCodes, maxHours):\n",
        "    print('Use greedy by value to allocate', maxHours,          'units')\n",
        "    testGreedy(ClassCodes, maxHours, Lecture.getUnits)\n",
        "    print('\\nUse greedy by cost to allocate', maxHours,          'units')\n",
        "    testGreedy(ClassCodes, maxHours, Lecture.getDuration)\n",
        "    print('\\nUse greedy by density to allocate', maxHours,          'units')\n",
        "    testGreedy(ClassCodes, maxHours, Lecture.density)"
      ],
      "metadata": {
        "id": "MTaJ-uLESnX2"
      },
      "execution_count": null,
      "outputs": []
    },
    {
      "cell_type": "code",
      "source": [
        "courseCode = ['CPE001', 'CPE002', 'CPE003']\n",
        "units = [2, 3, 4]\n",
        "startTime = [9, 2, 3]\n",
        "Duration = [2, 2, 3]\n",
        "enrolledClasses = buildSched(courseCode, units, startTime, Duration)\n",
        "testGreedys(enrolledClasses, 5)"
      ],
      "metadata": {
        "colab": {
          "base_uri": "https://localhost:8080/"
        },
        "id": "zFXivAOETE9l",
        "outputId": "cf47fc10-43dc-4349-cf2e-41e1137d1fe6"
      },
      "execution_count": null,
      "outputs": [
        {
          "output_type": "stream",
          "name": "stdout",
          "text": [
            "Use greedy by value to allocate 5 units\n",
            "Total units of classes taken =  5.0\n",
            "  CPE001: <2, 9, 2>\n",
            "  CPE002: <3, 2, 2>\n",
            "\n",
            "Use greedy by cost to allocate 5 units\n",
            "Total units of classes taken =  5.0\n",
            "  CPE001: <2, 9, 2>\n",
            "  CPE002: <3, 2, 2>\n",
            "\n",
            "Use greedy by density to allocate 5 units\n",
            "Total units of classes taken =  6.0\n",
            "  CPE001: <2, 9, 2>\n",
            "  CPE003: <4, 3, 3>\n"
          ]
        }
      ]
    },
    {
      "cell_type": "code",
      "source": [
        "#Student Enrollment Problem\n",
        "\"\"\" You are given a set of N courses.\n",
        "    Courses will be defined as (code, units).\n",
        "    Select the maximum set of courses a student can hve.\n",
        "    Maximum units allowed is based on input with a max of 24\n",
        "    default of 18. \"\"\"\n",
        "\n"
      ],
      "metadata": {
        "id": "wK951cvf87l2"
      },
      "execution_count": null,
      "outputs": []
    },
    {
      "cell_type": "code",
      "source": [
        "# Function to implement Fibonacci Series\n",
        "def fibMemo(n, memo):\n",
        "    if n == 1:\n",
        "        return 0\n",
        "    if n == 2:\n",
        "        return 1\n",
        "    if not n in memo:\n",
        "        memo[n] = fibMemo(n-1, memo) + fibMemo(n-2, memo)\n",
        "    return memo[n]\n",
        "\n",
        "tempDict = {}\n",
        "fibMemo(6, tempDict)\n",
        "\n",
        "#Printing the elements of the Fibonacci Series\n",
        "print(\"0\")\n",
        "print(\"1\")\n",
        "for element in tempDict.values():\n",
        "    print(element)"
      ],
      "metadata": {
        "id": "F_ag3nClZsL9"
      },
      "execution_count": null,
      "outputs": []
    },
    {
      "cell_type": "code",
      "source": [
        "# Function to implement Fibonacci Series\n",
        "def fibTab(n):\n",
        "    tb = [0, 1]\n",
        "    for i in range(2, n+1):\n",
        "      tb.append(tb[i-1] + tb[i-2])\n",
        "    return tb\n",
        "\n",
        "print(fibTab(6))"
      ],
      "metadata": {
        "id": "RJkOBPmrZv2W",
        "colab": {
          "base_uri": "https://localhost:8080/"
        },
        "outputId": "f49ec090-fe1e-4103-fd45-4e9c993ac728"
      },
      "execution_count": null,
      "outputs": [
        {
          "output_type": "stream",
          "name": "stdout",
          "text": [
            "[0, 1, 1, 2, 3, 5, 8]\n"
          ]
        }
      ]
    }
  ]
}